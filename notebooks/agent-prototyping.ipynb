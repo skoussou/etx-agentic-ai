{
 "cells": [
  {
   "cell_type": "markdown",
   "id": "39cfd2b4-19d6-4fc4-8983-2765870fb716",
   "metadata": {},
   "source": [
    "# Prototyping the agent"
   ]
  },
  {
   "cell_type": "markdown",
   "id": "24b3dfea-d87e-4189-92a5-76cba6684b9c",
   "metadata": {},
   "source": [
    "## Section 1: Getting Started with Llama Stack\n",
    "\n",
    "This notebook will help you set up your environment for this tutorial. Specifically, we will cover installing the necessary libraries, configuring essential parameters, and connecting to a Llama Stack server."
   ]
  },
  {
   "cell_type": "markdown",
   "id": "8c13294b-e1ea-4d89-9c98-dd106e638e46",
   "metadata": {},
   "source": [
    "### Installing Dependencies\n",
    "\n",
    "This code requires `llama-stack` and the `llama-stack-client` python packages. Let's begin by installing them:"
   ]
  },
  {
   "cell_type": "code",
   "execution_count": 1,
   "id": "cd337c60-90db-4145-b8d2-e8d69d30b4d2",
   "metadata": {},
   "outputs": [
    {
     "name": "stdout",
     "output_type": "stream",
     "text": [
      "\n",
      "\u001b[1m[\u001b[0m\u001b[34;49mnotice\u001b[0m\u001b[1;39;49m]\u001b[0m\u001b[39;49m A new release of pip is available: \u001b[0m\u001b[31;49m24.2\u001b[0m\u001b[39;49m -> \u001b[0m\u001b[32;49m25.2\u001b[0m\n",
      "\u001b[1m[\u001b[0m\u001b[34;49mnotice\u001b[0m\u001b[1;39;49m]\u001b[0m\u001b[39;49m To update, run: \u001b[0m\u001b[32;49mpip install --upgrade pip\u001b[0m\n"
     ]
    }
   ],
   "source": [
    "! pip install -qr requirements.txt"
   ]
  },
  {
   "cell_type": "code",
   "execution_count": 2,
   "id": "6afcf23d-c587-4346-a09b-55bb9d4771b3",
   "metadata": {},
   "outputs": [],
   "source": [
    "from os import environ\n",
    "\n",
    "from dotenv import load_dotenv\n",
    "from kubernetes.client.api_client import ApiClient\n",
    "from kubernetes.client.rest import ApiException\n",
    "from kubernetes.client import CoreV1Api\n",
    "from kubernetes.config import load_incluster_config\n",
    "from llama_stack_client import Agent, LlamaStackClient\n",
    "from llama_stack_client.lib.agents.client_tool import client_tool\n",
    "from llama_stack_client.lib.agents.event_logger import EventLogger\n",
    "from llama_stack_client.lib.agents.react.agent import ReActAgent\n",
    "from llama_stack_client.lib.agents.react.tool_parser import ReActOutput\n",
    "from llama_stack_client.types import UserMessage\n",
    "from rich import print\n",
    "from termcolor import cprint"
   ]
  },
  {
   "cell_type": "markdown",
   "id": "f3b97272-31cf-4a65-81b0-2e62fce899c7",
   "metadata": {},
   "source": [
    "#### Setting the Environment Variables\n",
    "\n",
    "We will symlink the [`env`](env) file to create a new file called `.env`. We've included as many reasonable defaults as possible to get you started, but please use this file to make any customizations needed for your environment such as the the location of the Llama Stack server endpoint..\n",
    "\n",
    "##### Environment variables required for all sections\n",
    "- `REMOTE_BASE_URL`: the URL of the remote Llama Stack server.\n",
    "- `LLM_MODEL_ID`: the ID of the used LLM.\n",
    "- `TEMPERATURE` (optional): the temperature to use during inference. Defaults to 0.0.\n",
    "- `MAX_TOKENS` (optional): the maximum number of tokens that can be generated in the completion. Defaults to 512."
   ]
  },
  {
   "cell_type": "code",
   "execution_count": 3,
   "id": "3e664a86-cf0e-43f5-b195-0bc53d45386d",
   "metadata": {},
   "outputs": [
    {
     "data": {
      "text/plain": [
       "True"
      ]
     },
     "execution_count": 3,
     "metadata": {},
     "output_type": "execute_result"
    }
   ],
   "source": [
    "load_dotenv('env')"
   ]
  },
  {
   "cell_type": "markdown",
   "id": "d1b46847-3d66-4d26-9912-9f136b5b8f98",
   "metadata": {},
   "source": [
    "### Setting Up the Server Connection\n",
    "\n",
    "Establish the connection to your Llama Stack server."
   ]
  },
  {
   "cell_type": "code",
   "execution_count": 4,
   "id": "d8d6b638-67d8-4487-9607-28854540b916",
   "metadata": {},
   "outputs": [
    {
     "data": {
      "text/html": [
       "<pre style=\"white-space:pre;overflow-x:auto;line-height:normal;font-family:Menlo,'DejaVu Sans Mono',consolas,'Courier New',monospace\">Connected to Llama Stack server at <span style=\"color: #0000ff; text-decoration-color: #0000ff; text-decoration: underline\">http://llamastack-with-config-service.llama-stack.svc.cluster.local:8321</span>\n",
       "</pre>\n"
      ],
      "text/plain": [
       "Connected to Llama Stack server at \u001b[4;94mhttp://llamastack-with-config-service.llama-stack.svc.cluster.local:8321\u001b[0m\n"
      ]
     },
     "metadata": {},
     "output_type": "display_data"
    },
    {
     "data": {
      "text/html": [
       "<pre style=\"white-space:pre;overflow-x:auto;line-height:normal;font-family:Menlo,'DejaVu Sans Mono',consolas,'Courier New',monospace\">Registered models:\n",
       "</pre>\n"
      ],
      "text/plain": [
       "Registered models:\n"
      ]
     },
     "metadata": {},
     "output_type": "display_data"
    },
    {
     "data": {
      "text/html": [
       "<pre style=\"white-space:pre;overflow-x:auto;line-height:normal;font-family:Menlo,'DejaVu Sans Mono',consolas,'Courier New',monospace\"><span style=\"font-weight: bold\">[</span>\n",
       "    <span style=\"color: #800080; text-decoration-color: #800080; font-weight: bold\">Model</span><span style=\"font-weight: bold\">(</span>\n",
       "        <span style=\"color: #808000; text-decoration-color: #808000\">identifier</span>=<span style=\"color: #008000; text-decoration-color: #008000\">'vllm/granite-31-2b-instruct'</span>,\n",
       "        <span style=\"color: #808000; text-decoration-color: #808000\">metadata</span>=<span style=\"font-weight: bold\">{}</span>,\n",
       "        <span style=\"color: #808000; text-decoration-color: #808000\">api_model_type</span>=<span style=\"color: #008000; text-decoration-color: #008000\">'llm'</span>,\n",
       "        <span style=\"color: #808000; text-decoration-color: #808000\">provider_id</span>=<span style=\"color: #008000; text-decoration-color: #008000\">'vllm'</span>,\n",
       "        <span style=\"color: #808000; text-decoration-color: #808000\">provider_resource_id</span>=<span style=\"color: #008000; text-decoration-color: #008000\">'granite-31-2b-instruct'</span>,\n",
       "        <span style=\"color: #808000; text-decoration-color: #808000\">type</span>=<span style=\"color: #008000; text-decoration-color: #008000\">'model'</span>,\n",
       "        <span style=\"color: #808000; text-decoration-color: #808000\">model_type</span>=<span style=\"color: #008000; text-decoration-color: #008000\">'llm'</span>\n",
       "    <span style=\"font-weight: bold\">)</span>,\n",
       "    <span style=\"color: #800080; text-decoration-color: #800080; font-weight: bold\">Model</span><span style=\"font-weight: bold\">(</span>\n",
       "        <span style=\"color: #808000; text-decoration-color: #808000\">identifier</span>=<span style=\"color: #008000; text-decoration-color: #008000\">'vllm-llama-3-2-3b/llama-3-2-3b'</span>,\n",
       "        <span style=\"color: #808000; text-decoration-color: #808000\">metadata</span>=<span style=\"font-weight: bold\">{}</span>,\n",
       "        <span style=\"color: #808000; text-decoration-color: #808000\">api_model_type</span>=<span style=\"color: #008000; text-decoration-color: #008000\">'llm'</span>,\n",
       "        <span style=\"color: #808000; text-decoration-color: #808000\">provider_id</span>=<span style=\"color: #008000; text-decoration-color: #008000\">'vllm-llama-3-2-3b'</span>,\n",
       "        <span style=\"color: #808000; text-decoration-color: #808000\">provider_resource_id</span>=<span style=\"color: #008000; text-decoration-color: #008000\">'llama-3-2-3b'</span>,\n",
       "        <span style=\"color: #808000; text-decoration-color: #808000\">type</span>=<span style=\"color: #008000; text-decoration-color: #008000\">'model'</span>,\n",
       "        <span style=\"color: #808000; text-decoration-color: #808000\">model_type</span>=<span style=\"color: #008000; text-decoration-color: #008000\">'llm'</span>\n",
       "    <span style=\"font-weight: bold\">)</span>,\n",
       "    <span style=\"color: #800080; text-decoration-color: #800080; font-weight: bold\">Model</span><span style=\"font-weight: bold\">(</span>\n",
       "        <span style=\"color: #808000; text-decoration-color: #808000\">identifier</span>=<span style=\"color: #008000; text-decoration-color: #008000\">'vllm-llama-4-guard/llama-4-scout-17b-16e-w4a16'</span>,\n",
       "        <span style=\"color: #808000; text-decoration-color: #808000\">metadata</span>=<span style=\"font-weight: bold\">{}</span>,\n",
       "        <span style=\"color: #808000; text-decoration-color: #808000\">api_model_type</span>=<span style=\"color: #008000; text-decoration-color: #008000\">'llm'</span>,\n",
       "        <span style=\"color: #808000; text-decoration-color: #808000\">provider_id</span>=<span style=\"color: #008000; text-decoration-color: #008000\">'vllm-llama-4-guard'</span>,\n",
       "        <span style=\"color: #808000; text-decoration-color: #808000\">provider_resource_id</span>=<span style=\"color: #008000; text-decoration-color: #008000\">'llama-4-scout-17b-16e-w4a16'</span>,\n",
       "        <span style=\"color: #808000; text-decoration-color: #808000\">type</span>=<span style=\"color: #008000; text-decoration-color: #008000\">'model'</span>,\n",
       "        <span style=\"color: #808000; text-decoration-color: #808000\">model_type</span>=<span style=\"color: #008000; text-decoration-color: #008000\">'llm'</span>\n",
       "    <span style=\"font-weight: bold\">)</span>,\n",
       "    <span style=\"color: #800080; text-decoration-color: #800080; font-weight: bold\">Model</span><span style=\"font-weight: bold\">(</span>\n",
       "        <span style=\"color: #808000; text-decoration-color: #808000\">identifier</span>=<span style=\"color: #008000; text-decoration-color: #008000\">'sentence-transformers/all-MiniLM-L6-v2'</span>,\n",
       "        <span style=\"color: #808000; text-decoration-color: #808000\">metadata</span>=<span style=\"font-weight: bold\">{</span><span style=\"color: #008000; text-decoration-color: #008000\">'embedding_dimension'</span>: <span style=\"color: #008080; text-decoration-color: #008080; font-weight: bold\">384.0</span><span style=\"font-weight: bold\">}</span>,\n",
       "        <span style=\"color: #808000; text-decoration-color: #808000\">api_model_type</span>=<span style=\"color: #008000; text-decoration-color: #008000\">'embedding'</span>,\n",
       "        <span style=\"color: #808000; text-decoration-color: #808000\">provider_id</span>=<span style=\"color: #008000; text-decoration-color: #008000\">'sentence-transformers'</span>,\n",
       "        <span style=\"color: #808000; text-decoration-color: #808000\">provider_resource_id</span>=<span style=\"color: #008000; text-decoration-color: #008000\">'all-MiniLM-L6-v2'</span>,\n",
       "        <span style=\"color: #808000; text-decoration-color: #808000\">type</span>=<span style=\"color: #008000; text-decoration-color: #008000\">'model'</span>,\n",
       "        <span style=\"color: #808000; text-decoration-color: #808000\">model_type</span>=<span style=\"color: #008000; text-decoration-color: #008000\">'embedding'</span>\n",
       "    <span style=\"font-weight: bold\">)</span>\n",
       "<span style=\"font-weight: bold\">]</span>\n",
       "</pre>\n"
      ],
      "text/plain": [
       "\u001b[1m[\u001b[0m\n",
       "    \u001b[1;35mModel\u001b[0m\u001b[1m(\u001b[0m\n",
       "        \u001b[33midentifier\u001b[0m=\u001b[32m'vllm/granite-31-2b-instruct'\u001b[0m,\n",
       "        \u001b[33mmetadata\u001b[0m=\u001b[1m{\u001b[0m\u001b[1m}\u001b[0m,\n",
       "        \u001b[33mapi_model_type\u001b[0m=\u001b[32m'llm'\u001b[0m,\n",
       "        \u001b[33mprovider_id\u001b[0m=\u001b[32m'vllm'\u001b[0m,\n",
       "        \u001b[33mprovider_resource_id\u001b[0m=\u001b[32m'granite-31-2b-instruct'\u001b[0m,\n",
       "        \u001b[33mtype\u001b[0m=\u001b[32m'model'\u001b[0m,\n",
       "        \u001b[33mmodel_type\u001b[0m=\u001b[32m'llm'\u001b[0m\n",
       "    \u001b[1m)\u001b[0m,\n",
       "    \u001b[1;35mModel\u001b[0m\u001b[1m(\u001b[0m\n",
       "        \u001b[33midentifier\u001b[0m=\u001b[32m'vllm-llama-3-2-3b/llama-3-2-3b'\u001b[0m,\n",
       "        \u001b[33mmetadata\u001b[0m=\u001b[1m{\u001b[0m\u001b[1m}\u001b[0m,\n",
       "        \u001b[33mapi_model_type\u001b[0m=\u001b[32m'llm'\u001b[0m,\n",
       "        \u001b[33mprovider_id\u001b[0m=\u001b[32m'vllm-llama-3-2-3b'\u001b[0m,\n",
       "        \u001b[33mprovider_resource_id\u001b[0m=\u001b[32m'llama-3-2-3b'\u001b[0m,\n",
       "        \u001b[33mtype\u001b[0m=\u001b[32m'model'\u001b[0m,\n",
       "        \u001b[33mmodel_type\u001b[0m=\u001b[32m'llm'\u001b[0m\n",
       "    \u001b[1m)\u001b[0m,\n",
       "    \u001b[1;35mModel\u001b[0m\u001b[1m(\u001b[0m\n",
       "        \u001b[33midentifier\u001b[0m=\u001b[32m'vllm-llama-4-guard/llama-4-scout-17b-16e-w4a16'\u001b[0m,\n",
       "        \u001b[33mmetadata\u001b[0m=\u001b[1m{\u001b[0m\u001b[1m}\u001b[0m,\n",
       "        \u001b[33mapi_model_type\u001b[0m=\u001b[32m'llm'\u001b[0m,\n",
       "        \u001b[33mprovider_id\u001b[0m=\u001b[32m'vllm-llama-4-guard'\u001b[0m,\n",
       "        \u001b[33mprovider_resource_id\u001b[0m=\u001b[32m'llama-4-scout-17b-16e-w4a16'\u001b[0m,\n",
       "        \u001b[33mtype\u001b[0m=\u001b[32m'model'\u001b[0m,\n",
       "        \u001b[33mmodel_type\u001b[0m=\u001b[32m'llm'\u001b[0m\n",
       "    \u001b[1m)\u001b[0m,\n",
       "    \u001b[1;35mModel\u001b[0m\u001b[1m(\u001b[0m\n",
       "        \u001b[33midentifier\u001b[0m=\u001b[32m'sentence-transformers/all-MiniLM-L6-v2'\u001b[0m,\n",
       "        \u001b[33mmetadata\u001b[0m=\u001b[1m{\u001b[0m\u001b[32m'embedding_dimension'\u001b[0m: \u001b[1;36m384.0\u001b[0m\u001b[1m}\u001b[0m,\n",
       "        \u001b[33mapi_model_type\u001b[0m=\u001b[32m'embedding'\u001b[0m,\n",
       "        \u001b[33mprovider_id\u001b[0m=\u001b[32m'sentence-transformers'\u001b[0m,\n",
       "        \u001b[33mprovider_resource_id\u001b[0m=\u001b[32m'all-MiniLM-L6-v2'\u001b[0m,\n",
       "        \u001b[33mtype\u001b[0m=\u001b[32m'model'\u001b[0m,\n",
       "        \u001b[33mmodel_type\u001b[0m=\u001b[32m'embedding'\u001b[0m\n",
       "    \u001b[1m)\u001b[0m\n",
       "\u001b[1m]\u001b[0m\n"
      ]
     },
     "metadata": {},
     "output_type": "display_data"
    },
    {
     "data": {
      "text/html": [
       "<pre style=\"white-space:pre;overflow-x:auto;line-height:normal;font-family:Menlo,'DejaVu Sans Mono',consolas,'Courier New',monospace\">Using model: llama-<span style=\"color: #008080; text-decoration-color: #008080; font-weight: bold\">4</span>-scout-17b-16e-w4a16\n",
       "</pre>\n"
      ],
      "text/plain": [
       "Using model: llama-\u001b[1;36m4\u001b[0m-scout-17b-16e-w4a16\n"
      ]
     },
     "metadata": {},
     "output_type": "display_data"
    }
   ],
   "source": [
    "base_url = environ.get('LLAMA_STACK_URL')\n",
    "model_id = environ.get('LLM_MODEL_ID')\n",
    "\n",
    "client = LlamaStackClient(base_url=base_url)\n",
    "\n",
    "print(f'Connected to Llama Stack server at {base_url}')\n",
    "print('Registered models:')\n",
    "print(client.models.list())\n",
    "print(f'Using model: {model_id}')"
   ]
  },
  {
   "cell_type": "markdown",
   "id": "8f225c6d-0b94-4763-893f-a4dfdfcb2a75",
   "metadata": {},
   "source": [
    "### Initializing the Inference Parameters\n",
    "\n",
    "Fetch the inference-related parameters from the corresponding environment variables and convert them to the format Llama Stack expects."
   ]
  },
  {
   "cell_type": "code",
   "execution_count": 5,
   "id": "a5feb363-2a38-48df-bf46-8bad1aae8f8b",
   "metadata": {},
   "outputs": [
    {
     "data": {
      "text/html": [
       "<pre style=\"white-space:pre;overflow-x:auto;line-height:normal;font-family:Menlo,'DejaVu Sans Mono',consolas,'Courier New',monospace\">sampling parameters: <span style=\"font-weight: bold\">{</span><span style=\"color: #008000; text-decoration-color: #008000\">'strategy'</span>: <span style=\"font-weight: bold\">{</span><span style=\"color: #008000; text-decoration-color: #008000\">'type'</span>: <span style=\"color: #008000; text-decoration-color: #008000\">'greedy'</span><span style=\"font-weight: bold\">}</span>, <span style=\"color: #008000; text-decoration-color: #008000\">'max_tokens'</span>: <span style=\"color: #008080; text-decoration-color: #008080; font-weight: bold\">6000</span><span style=\"font-weight: bold\">}</span>\n",
       "</pre>\n"
      ],
      "text/plain": [
       "sampling parameters: \u001b[1m{\u001b[0m\u001b[32m'strategy'\u001b[0m: \u001b[1m{\u001b[0m\u001b[32m'type'\u001b[0m: \u001b[32m'greedy'\u001b[0m\u001b[1m}\u001b[0m, \u001b[32m'max_tokens'\u001b[0m: \u001b[1;36m6000\u001b[0m\u001b[1m}\u001b[0m\n"
      ]
     },
     "metadata": {},
     "output_type": "display_data"
    }
   ],
   "source": [
    "temperature = float(environ.get(\"TEMPERATURE\", 0.0))\n",
    "strategy = {\"type\": \"greedy\"}\n",
    "\n",
    "max_tokens = int(environ.get(\"MAX_TOKENS\", 4096))\n",
    "\n",
    "# sampling_params will later be used to pass the parameters to Llama Stack Agents/Inference APIs\n",
    "sampling_params = {\n",
    "    \"strategy\": strategy,\n",
    "    \"max_tokens\": max_tokens,\n",
    "}\n",
    "print(f'sampling parameters: {sampling_params}')"
   ]
  },
  {
   "cell_type": "markdown",
   "id": "ef5f66df-c7a6-4b91-97ef-8d74fa9c5623",
   "metadata": {},
   "source": [
    "Now, let's use the Llama stack inference API to greet our LLM. "
   ]
  },
  {
   "cell_type": "code",
   "execution_count": 6,
   "id": "72d02115-c749-48a0-be97-d8db867607c1",
   "metadata": {},
   "outputs": [
    {
     "data": {
      "text/plain": [
       "\"I'm just a language model, I don't have feelings like humans do, but I'm functioning properly and ready to help you with any questions or tasks you have! How can I assist you today?\""
      ]
     },
     "execution_count": 6,
     "metadata": {},
     "output_type": "execute_result"
    }
   ],
   "source": [
    "message = UserMessage(\n",
    "    content=\"Hi, how are you?\",\n",
    "    role=\"user\",\n",
    ")\n",
    "client.inference.chat_completion(\n",
    "    model_id=model_id,\n",
    "    messages=[message],\n",
    "    sampling_params=sampling_params,\n",
    ").completion_message.content"
   ]
  },
  {
   "cell_type": "markdown",
   "id": "211bbac0-1272-4514-9883-099dd753a5b0",
   "metadata": {},
   "source": [
    "Now that we've connected to Llama Stack, let's get started building the agentic AI system!"
   ]
  },
  {
   "cell_type": "markdown",
   "id": "8162c144-0dc7-42e5-b7bd-10ef31405453",
   "metadata": {},
   "source": [
    "## Section 2: Simple Agent with Tool Calling\n",
    "\n",
    "This section covers how to build a simple agent using Llama Stack's agent framework, enhanced with a single tool: the builtin web search tool. This capability will  allow the agent to retrieve up to date external information beyond the limits of its training data. This is an important step toward developing a more capable and autonomous agent.\n",
    "\n",
    "### Overview\n",
    "\n",
    "This tutorial walks you through how to build your own AI agent who can search the web:\n",
    "\n",
    "1. Configure a Llama Stack agent.\n",
    "2. Enhance the agent by providing it access to a specific tool\n",
    "2. Interact with the agent and tests its use of the web search tool."
   ]
  },
  {
   "cell_type": "markdown",
   "id": "30fad660-a71a-4789-9d43-5c36c3e98c51",
   "metadata": {},
   "source": [
    "### Using a built-in tool"
   ]
  },
  {
   "cell_type": "code",
   "execution_count": 7,
   "id": "9c610ddd-ab25-4241-a389-340bd356ad41",
   "metadata": {},
   "outputs": [],
   "source": [
    "instructions = \"\"\"\n",
    "    You are a helpful assistant. \n",
    "    When a user asks a question, you MUST use the websearch tool.\n",
    "\"\"\" \n",
    "\n",
    "websearch_agent = Agent(\n",
    "    client, \n",
    "    model=model_id,\n",
    "    instructions=instructions,\n",
    "    tools=['builtin::websearch'],\n",
    "    sampling_params=sampling_params\n",
    ")"
   ]
  },
  {
   "cell_type": "code",
   "execution_count": 8,
   "id": "71003222-900e-4aa9-88d1-8b4bbe82a108",
   "metadata": {},
   "outputs": [],
   "source": [
    "def run_session(agent, session_name, user_prompts):\n",
    "    session_id = agent.create_session(session_name)\n",
    "    print(f'Created new session {session_name}')\n",
    "    print(f'Looping over user prompts: {user_prompts}')\n",
    "    for prompt in user_prompts:\n",
    "        print(\"\\n\"+\"=\"*50)\n",
    "        cprint(f\"Processing user query: {prompt}\", \"blue\")\n",
    "        print(\"=\"*50)\n",
    "        response = agent.create_turn(\n",
    "            messages=[\n",
    "                {\n",
    "                    \"role\": \"user\",\n",
    "                    \"content\": prompt,\n",
    "                }\n",
    "            ],\n",
    "            session_id=session_id,\n",
    "            stream='True'\n",
    "        )\n",
    "        for log in EventLogger().log(response):\n",
    "            log.print()"
   ]
  },
  {
   "cell_type": "code",
   "execution_count": 9,
   "id": "853b3b40-d7af-4033-98d9-42d7daa888f3",
   "metadata": {},
   "outputs": [
    {
     "data": {
      "text/html": [
       "<pre style=\"white-space:pre;overflow-x:auto;line-height:normal;font-family:Menlo,'DejaVu Sans Mono',consolas,'Courier New',monospace\">Created new session websearch-test-session\n",
       "</pre>\n"
      ],
      "text/plain": [
       "Created new session websearch-test-session\n"
      ]
     },
     "metadata": {},
     "output_type": "display_data"
    },
    {
     "data": {
      "text/html": [
       "<pre style=\"white-space:pre;overflow-x:auto;line-height:normal;font-family:Menlo,'DejaVu Sans Mono',consolas,'Courier New',monospace\">Looping over user prompts: <span style=\"font-weight: bold\">[</span><span style=\"color: #008000; text-decoration-color: #008000\">'What is the latest OpenShift version?'</span><span style=\"font-weight: bold\">]</span>\n",
       "</pre>\n"
      ],
      "text/plain": [
       "Looping over user prompts: \u001b[1m[\u001b[0m\u001b[32m'What is the latest OpenShift version?'\u001b[0m\u001b[1m]\u001b[0m\n"
      ]
     },
     "metadata": {},
     "output_type": "display_data"
    },
    {
     "data": {
      "text/html": [
       "<pre style=\"white-space:pre;overflow-x:auto;line-height:normal;font-family:Menlo,'DejaVu Sans Mono',consolas,'Courier New',monospace\">\n",
       "==================================================\n",
       "</pre>\n"
      ],
      "text/plain": [
       "\n",
       "==================================================\n"
      ]
     },
     "metadata": {},
     "output_type": "display_data"
    },
    {
     "name": "stdout",
     "output_type": "stream",
     "text": [
      "\u001b[34mProcessing user query: What is the latest OpenShift version?\u001b[0m\n"
     ]
    },
    {
     "data": {
      "text/html": [
       "<pre style=\"white-space:pre;overflow-x:auto;line-height:normal;font-family:Menlo,'DejaVu Sans Mono',consolas,'Courier New',monospace\">==================================================\n",
       "</pre>\n"
      ],
      "text/plain": [
       "==================================================\n"
      ]
     },
     "metadata": {},
     "output_type": "display_data"
    },
    {
     "name": "stdout",
     "output_type": "stream",
     "text": [
      "\u001b[33minference> \u001b[0m\u001b[33m\u001b[0m\u001b[97m\u001b[0m\n",
      "\u001b[32mtool_execution> Tool:brave_search Args:{'query': 'latest OpenShift version'}\u001b[0m\n",
      "\u001b[32mtool_execution> Tool:brave_search Response:{\"query\": \"latest OpenShift version\", \"top_k\": [{\"url\": \"https://community.ibm.com/community/user/blogs/elvin-galarza/2025/09/08/openshift-version-419-is-now-available-in-red-hat\", \"title\": \"OpenShift version 4.19 is now available in Red Hat OpenShift on ...\", \"content\": \"2 days ago\\u00b7On September 3rd, we made OpenShift version 4.19 available for your clusters that are running in Red Hat OpenShift on IBM Cloud.\", \"score\": 0.80698997, \"raw_content\": null}, {\"url\": \"https://learn.microsoft.com/en-us/azure/openshift/azure-redhat-openshift-release-notes\", \"title\": \"What's new with Azure Red Hat OpenShift? - Microsoft Learn\", \"content\": \"Aug 6, 2025\\u00b7OpenShift version 4.17 is now available as an Azure Red Hat OpenShift install option. For more information, see OpenShift Container Platform\", \"score\": 0.80625874, \"raw_content\": null}, {\"url\": \"https://www.vinsys.com/blog/whats-new-in-red-hat-openshift-virtualization\", \"title\": \"What's New in Red Hat OpenShift Virtualization 4.19? - Vinsys\", \"content\": \"Aug 9, 2025\\u00b7Explore the latest updates in Red Hat OpenShift Virtualization 4.19, featuring enhanced Kubernetes-native support, advanced containerization\", \"score\": 0.78532547, \"raw_content\": null}, {\"url\": \"https://docs.providers.openshift.org/release/\", \"title\": \"Release - OpenShift Infrastructure Provider Onboarding Guide\", \"content\": \"For example, at the time of writing the current version of OpenShift is \\\"4.9\\\", the next release will then be \\\"4.10\\\". Z-Stream Releases. While new minor versions\", \"score\": 0.75377536, \"raw_content\": null}, {\"url\": \"https://endoflife.date/red-hat-openshift\", \"title\": \"Red Hat OpenShift - endoflife.date\", \"content\": \"Release Schedule Image Gantt Chart for Red Hat OpenShift. Release, Released, Full Support, Maintenance Support, Extended Update Support, Latest. 4.19, 2 months\", \"score\": 0.74251556, \"raw_content\": null}]}\u001b[0m\n",
      "\u001b[33minference> \u001b[0m\u001b[33m\u001b[0m\u001b[33mThe\u001b[0m\u001b[33m latest\u001b[0m\u001b[33m Open\u001b[0m\u001b[33mShift\u001b[0m\u001b[33m version\u001b[0m\u001b[33m is\u001b[0m\u001b[33m \u001b[0m\u001b[33m4\u001b[0m\u001b[33m.\u001b[0m\u001b[33m19\u001b[0m\u001b[33m.\u001b[0m\u001b[97m\u001b[0m\n",
      "\u001b[30m\u001b[0m"
     ]
    }
   ],
   "source": [
    "user_prompts = [\"What is the latest OpenShift version?\"]\n",
    "run_session(websearch_agent, 'websearch-test-session', user_prompts)"
   ]
  },
  {
   "cell_type": "markdown",
   "id": "a02f56ec-b107-49d5-9c9b-5d91164d2c46",
   "metadata": {},
   "source": [
    "### Creating a custom tool function"
   ]
  },
  {
   "cell_type": "code",
   "execution_count": 14,
   "id": "2ad98714-b21f-4990-a36d-b11a29fd0983",
   "metadata": {},
   "outputs": [],
   "source": [
    "load_incluster_config()\n",
    "api_instance = CoreV1Api(ApiClient())\n",
    "\n",
    "\n",
    "def get_pod_log_test(pod_name: str, namespace: str, container_name: str):\n",
    "    \"\"\"\n",
    "    Provide the location upon request.\n",
    "\n",
    "    :param pod_name: The name of the target pod\n",
    "    :param namespace: The name of the target namespace\n",
    "    :param container_name: The name of the target container within the target pod\n",
    "    :returns: Logs of the target pod\n",
    "    \"\"\"\n",
    "    try:\n",
    "        api_response = api_instance.read_namespaced_pod_log(\n",
    "            pod_name, namespace, container=container_name, tail_lines=100\n",
    "        )\n",
    "        print(api_response)\n",
    "    except ApiException as e:\n",
    "        print(\"Exception when calling CoreV1Api->read_namespaced_pod_log: %s\\n\" % e)"
   ]
  },
  {
   "cell_type": "code",
   "execution_count": 21,
   "id": "ec26fb09-9c2f-4152-a49a-9f422e92775d",
   "metadata": {
    "scrolled": true
   },
   "outputs": [
    {
     "data": {
      "text/html": [
       "<pre style=\"white-space:pre;overflow-x:auto;line-height:normal;font-family:Menlo,'DejaVu Sans Mono',consolas,'Courier New',monospace\">    at org.apache.maven.lifecycle.internal.LifecycleModuleBuilder.buildProject <span style=\"font-weight: bold\">(</span>LifecycleModuleBuilder.jav<span style=\"color: #00ff00; text-decoration-color: #00ff00; font-weight: bold\">a:81</span><span style=\"font-weight: bold\">)</span>\n",
       "    at org.apache.maven.lifecycle.internal.builder.singlethreaded.SingleThreadedBuilder.build \n",
       "<span style=\"font-weight: bold\">(</span>SingleThreadedBuilder.jav<span style=\"color: #00ff00; text-decoration-color: #00ff00; font-weight: bold\">a:56</span><span style=\"font-weight: bold\">)</span>\n",
       "    at org.apache.maven.lifecycle.internal.LifecycleStarter.execute <span style=\"font-weight: bold\">(</span>LifecycleStarter.jav<span style=\"color: #00ff00; text-decoration-color: #00ff00; font-weight: bold\">a:127</span><span style=\"font-weight: bold\">)</span>\n",
       "    at org.apache.maven.DefaultMaven.doExecute <span style=\"font-weight: bold\">(</span>DefaultMaven.jav<span style=\"color: #00ff00; text-decoration-color: #00ff00; font-weight: bold\">a:294</span><span style=\"font-weight: bold\">)</span>\n",
       "    at org.apache.maven.DefaultMaven.doExecute <span style=\"font-weight: bold\">(</span>DefaultMaven.jav<span style=\"color: #00ff00; text-decoration-color: #00ff00; font-weight: bold\">a:192</span><span style=\"font-weight: bold\">)</span>\n",
       "    at org.apache.maven.DefaultMaven.execute <span style=\"font-weight: bold\">(</span>DefaultMaven.jav<span style=\"color: #00ff00; text-decoration-color: #00ff00; font-weight: bold\">a:105</span><span style=\"font-weight: bold\">)</span>\n",
       "    at org.apache.maven.cli.MavenCli.execute <span style=\"font-weight: bold\">(</span>MavenCli.jav<span style=\"color: #00ff00; text-decoration-color: #00ff00; font-weight: bold\">a:960</span><span style=\"font-weight: bold\">)</span>\n",
       "    at org.apache.maven.cli.MavenCli.doMain <span style=\"font-weight: bold\">(</span>MavenCli.jav<span style=\"color: #00ff00; text-decoration-color: #00ff00; font-weight: bold\">a:293</span><span style=\"font-weight: bold\">)</span>\n",
       "    at org.apache.maven.cli.MavenCli.main <span style=\"font-weight: bold\">(</span>MavenCli.jav<span style=\"color: #00ff00; text-decoration-color: #00ff00; font-weight: bold\">a:196</span><span style=\"font-weight: bold\">)</span>\n",
       "    at jdk.internal.reflect.NativeMethodAccessorImpl.invoke0 <span style=\"font-weight: bold\">(</span>Native Method<span style=\"font-weight: bold\">)</span>\n",
       "    at jdk.internal.reflect.NativeMethodAccessorImpl.invoke <span style=\"font-weight: bold\">(</span>NativeMethodAccessorImpl.jav<span style=\"color: #00ff00; text-decoration-color: #00ff00; font-weight: bold\">a:77</span><span style=\"font-weight: bold\">)</span>\n",
       "    at jdk.internal.reflect.DelegatingMethodAccessorImpl.invoke <span style=\"font-weight: bold\">(</span>DelegatingMethodAccessorImpl.jav<span style=\"color: #00ff00; text-decoration-color: #00ff00; font-weight: bold\">a:43</span><span style=\"font-weight: bold\">)</span>\n",
       "    at java.lang.reflect.Method.invoke <span style=\"font-weight: bold\">(</span>Method.jav<span style=\"color: #00ff00; text-decoration-color: #00ff00; font-weight: bold\">a:569</span><span style=\"font-weight: bold\">)</span>\n",
       "    at org.codehaus.plexus.classworlds.launcher.Launcher.launchEnhanced <span style=\"font-weight: bold\">(</span>Launcher.jav<span style=\"color: #00ff00; text-decoration-color: #00ff00; font-weight: bold\">a:282</span><span style=\"font-weight: bold\">)</span>\n",
       "    at org.codehaus.plexus.classworlds.launcher.Launcher.launch <span style=\"font-weight: bold\">(</span>Launcher.jav<span style=\"color: #00ff00; text-decoration-color: #00ff00; font-weight: bold\">a:225</span><span style=\"font-weight: bold\">)</span>\n",
       "    at org.codehaus.plexus.classworlds.launcher.Launcher.mainWithExitCode <span style=\"font-weight: bold\">(</span>Launcher.jav<span style=\"color: #00ff00; text-decoration-color: #00ff00; font-weight: bold\">a:406</span><span style=\"font-weight: bold\">)</span>\n",
       "    at org.codehaus.plexus.classworlds.launcher.Launcher.main <span style=\"font-weight: bold\">(</span>Launcher.jav<span style=\"color: #00ff00; text-decoration-color: #00ff00; font-weight: bold\">a:347</span><span style=\"font-weight: bold\">)</span>\n",
       "Caused by: org.apache.maven.plugin.compiler.CompilationFailureException: Compilation failure\n",
       "<span style=\"color: #800080; text-decoration-color: #800080\">/tmp/src/src/main/java/org/openshift/quickstarts/undertow/servlet/</span><span style=\"color: #ff00ff; text-decoration-color: #ff00ff\">ServletServer.java</span>:<span style=\"font-weight: bold\">[</span><span style=\"color: #008080; text-decoration-color: #008080; font-weight: bold\">82</span>,<span style=\"color: #008080; text-decoration-color: #008080; font-weight: bold\">21</span><span style=\"font-weight: bold\">]</span> cannot find symbol\n",
       "  symbol:   method <span style=\"color: #800080; text-decoration-color: #800080; font-weight: bold\">setHandlers</span><span style=\"font-weight: bold\">(</span>io.undertow.server.handlers.PathHandler<span style=\"font-weight: bold\">)</span>\n",
       "  location: class io.undertow.Undertow.Builder\n",
       "\n",
       "    at org.apache.maven.plugin.compiler.AbstractCompilerMojo.execute <span style=\"font-weight: bold\">(</span>AbstractCompilerMojo.jav<span style=\"color: #00ff00; text-decoration-color: #00ff00; font-weight: bold\">a:858</span><span style=\"font-weight: bold\">)</span>\n",
       "    at org.apache.maven.plugin.compiler.CompilerMojo.execute <span style=\"font-weight: bold\">(</span>CompilerMojo.jav<span style=\"color: #00ff00; text-decoration-color: #00ff00; font-weight: bold\">a:129</span><span style=\"font-weight: bold\">)</span>\n",
       "    at org.apache.maven.plugin.DefaultBuildPluginManager.executeMojo <span style=\"font-weight: bold\">(</span>DefaultBuildPluginManager.jav<span style=\"color: #00ff00; text-decoration-color: #00ff00; font-weight: bold\">a:137</span><span style=\"font-weight: bold\">)</span>\n",
       "    at org.apache.maven.lifecycle.internal.MojoExecutor.doExecute <span style=\"font-weight: bold\">(</span>MojoExecutor.jav<span style=\"color: #00ff00; text-decoration-color: #00ff00; font-weight: bold\">a:301</span><span style=\"font-weight: bold\">)</span>\n",
       "    at org.apache.maven.lifecycle.internal.MojoExecutor.execute <span style=\"font-weight: bold\">(</span>MojoExecutor.jav<span style=\"color: #00ff00; text-decoration-color: #00ff00; font-weight: bold\">a:211</span><span style=\"font-weight: bold\">)</span>\n",
       "    at org.apache.maven.lifecycle.internal.MojoExecutor.execute <span style=\"font-weight: bold\">(</span>MojoExecutor.jav<span style=\"color: #00ff00; text-decoration-color: #00ff00; font-weight: bold\">a:165</span><span style=\"font-weight: bold\">)</span>\n",
       "    at org.apache.maven.lifecycle.internal.MojoExecutor.execute <span style=\"font-weight: bold\">(</span>MojoExecutor.jav<span style=\"color: #00ff00; text-decoration-color: #00ff00; font-weight: bold\">a:157</span><span style=\"font-weight: bold\">)</span>\n",
       "    at org.apache.maven.lifecycle.internal.LifecycleModuleBuilder.buildProject <span style=\"font-weight: bold\">(</span>LifecycleModuleBuilder.jav<span style=\"color: #00ff00; text-decoration-color: #00ff00; font-weight: bold\">a:121</span><span style=\"font-weight: bold\">)</span>\n",
       "    at org.apache.maven.lifecycle.internal.LifecycleModuleBuilder.buildProject <span style=\"font-weight: bold\">(</span>LifecycleModuleBuilder.jav<span style=\"color: #00ff00; text-decoration-color: #00ff00; font-weight: bold\">a:81</span><span style=\"font-weight: bold\">)</span>\n",
       "    at org.apache.maven.lifecycle.internal.builder.singlethreaded.SingleThreadedBuilder.build \n",
       "<span style=\"font-weight: bold\">(</span>SingleThreadedBuilder.jav<span style=\"color: #00ff00; text-decoration-color: #00ff00; font-weight: bold\">a:56</span><span style=\"font-weight: bold\">)</span>\n",
       "    at org.apache.maven.lifecycle.internal.LifecycleStarter.execute <span style=\"font-weight: bold\">(</span>LifecycleStarter.jav<span style=\"color: #00ff00; text-decoration-color: #00ff00; font-weight: bold\">a:127</span><span style=\"font-weight: bold\">)</span>\n",
       "    at org.apache.maven.DefaultMaven.doExecute <span style=\"font-weight: bold\">(</span>DefaultMaven.jav<span style=\"color: #00ff00; text-decoration-color: #00ff00; font-weight: bold\">a:294</span><span style=\"font-weight: bold\">)</span>\n",
       "    at org.apache.maven.DefaultMaven.doExecute <span style=\"font-weight: bold\">(</span>DefaultMaven.jav<span style=\"color: #00ff00; text-decoration-color: #00ff00; font-weight: bold\">a:192</span><span style=\"font-weight: bold\">)</span>\n",
       "    at org.apache.maven.DefaultMaven.execute <span style=\"font-weight: bold\">(</span>DefaultMaven.jav<span style=\"color: #00ff00; text-decoration-color: #00ff00; font-weight: bold\">a:105</span><span style=\"font-weight: bold\">)</span>\n",
       "    at org.apache.maven.cli.MavenCli.execute <span style=\"font-weight: bold\">(</span>MavenCli.jav<span style=\"color: #00ff00; text-decoration-color: #00ff00; font-weight: bold\">a:960</span><span style=\"font-weight: bold\">)</span>\n",
       "    at org.apache.maven.cli.MavenCli.doMain <span style=\"font-weight: bold\">(</span>MavenCli.jav<span style=\"color: #00ff00; text-decoration-color: #00ff00; font-weight: bold\">a:293</span><span style=\"font-weight: bold\">)</span>\n",
       "    at org.apache.maven.cli.MavenCli.main <span style=\"font-weight: bold\">(</span>MavenCli.jav<span style=\"color: #00ff00; text-decoration-color: #00ff00; font-weight: bold\">a:196</span><span style=\"font-weight: bold\">)</span>\n",
       "    at jdk.internal.reflect.NativeMethodAccessorImpl.invoke0 <span style=\"font-weight: bold\">(</span>Native Method<span style=\"font-weight: bold\">)</span>\n",
       "    at jdk.internal.reflect.NativeMethodAccessorImpl.invoke <span style=\"font-weight: bold\">(</span>NativeMethodAccessorImpl.jav<span style=\"color: #00ff00; text-decoration-color: #00ff00; font-weight: bold\">a:77</span><span style=\"font-weight: bold\">)</span>\n",
       "    at jdk.internal.reflect.DelegatingMethodAccessorImpl.invoke <span style=\"font-weight: bold\">(</span>DelegatingMethodAccessorImpl.jav<span style=\"color: #00ff00; text-decoration-color: #00ff00; font-weight: bold\">a:43</span><span style=\"font-weight: bold\">)</span>\n",
       "    at java.lang.reflect.Method.invoke <span style=\"font-weight: bold\">(</span>Method.jav<span style=\"color: #00ff00; text-decoration-color: #00ff00; font-weight: bold\">a:569</span><span style=\"font-weight: bold\">)</span>\n",
       "    at org.codehaus.plexus.classworlds.launcher.Launcher.launchEnhanced <span style=\"font-weight: bold\">(</span>Launcher.jav<span style=\"color: #00ff00; text-decoration-color: #00ff00; font-weight: bold\">a:282</span><span style=\"font-weight: bold\">)</span>\n",
       "    at org.codehaus.plexus.classworlds.launcher.Launcher.launch <span style=\"font-weight: bold\">(</span>Launcher.jav<span style=\"color: #00ff00; text-decoration-color: #00ff00; font-weight: bold\">a:225</span><span style=\"font-weight: bold\">)</span>\n",
       "    at org.codehaus.plexus.classworlds.launcher.Launcher.mainWithExitCode <span style=\"font-weight: bold\">(</span>Launcher.jav<span style=\"color: #00ff00; text-decoration-color: #00ff00; font-weight: bold\">a:406</span><span style=\"font-weight: bold\">)</span>\n",
       "    at org.codehaus.plexus.classworlds.launcher.Launcher.main <span style=\"font-weight: bold\">(</span>Launcher.jav<span style=\"color: #00ff00; text-decoration-color: #00ff00; font-weight: bold\">a:347</span><span style=\"font-weight: bold\">)</span>\n",
       "<span style=\"font-weight: bold\">[</span>ERROR<span style=\"font-weight: bold\">]</span> \n",
       "<span style=\"font-weight: bold\">[</span>ERROR<span style=\"font-weight: bold\">]</span> Re-run Maven using the -X switch to enable full debug logging.\n",
       "<span style=\"font-weight: bold\">[</span>ERROR<span style=\"font-weight: bold\">]</span> \n",
       "<span style=\"font-weight: bold\">[</span>ERROR<span style=\"font-weight: bold\">]</span> For more information about the errors and possible solutions, please read the following articles:\n",
       "<span style=\"font-weight: bold\">[</span>ERROR<span style=\"font-weight: bold\">]</span> <span style=\"font-weight: bold\">[</span>Help <span style=\"color: #008080; text-decoration-color: #008080; font-weight: bold\">1</span><span style=\"font-weight: bold\">]</span> <span style=\"color: #0000ff; text-decoration-color: #0000ff; text-decoration: underline\">http://cwiki.apache.org/confluence/display/MAVEN/MojoFailureException</span>\n",
       "subprocess exited with status <span style=\"color: #008080; text-decoration-color: #008080; font-weight: bold\">1</span>\n",
       "subprocess exited with status <span style=\"color: #008080; text-decoration-color: #008080; font-weight: bold\">1</span>\n",
       "Error: building at STEP <span style=\"color: #008000; text-decoration-color: #008000\">\"RUN /usr/local/s2i/assemble\"</span>: exit status <span style=\"color: #008080; text-decoration-color: #008080; font-weight: bold\">1</span>\n",
       "\n",
       "</pre>\n"
      ],
      "text/plain": [
       "    at org.apache.maven.lifecycle.internal.LifecycleModuleBuilder.buildProject \u001b[1m(\u001b[0mLifecycleModuleBuilder.jav\u001b[1;92ma:81\u001b[0m\u001b[1m)\u001b[0m\n",
       "    at org.apache.maven.lifecycle.internal.builder.singlethreaded.SingleThreadedBuilder.build \n",
       "\u001b[1m(\u001b[0mSingleThreadedBuilder.jav\u001b[1;92ma:56\u001b[0m\u001b[1m)\u001b[0m\n",
       "    at org.apache.maven.lifecycle.internal.LifecycleStarter.execute \u001b[1m(\u001b[0mLifecycleStarter.jav\u001b[1;92ma:127\u001b[0m\u001b[1m)\u001b[0m\n",
       "    at org.apache.maven.DefaultMaven.doExecute \u001b[1m(\u001b[0mDefaultMaven.jav\u001b[1;92ma:294\u001b[0m\u001b[1m)\u001b[0m\n",
       "    at org.apache.maven.DefaultMaven.doExecute \u001b[1m(\u001b[0mDefaultMaven.jav\u001b[1;92ma:192\u001b[0m\u001b[1m)\u001b[0m\n",
       "    at org.apache.maven.DefaultMaven.execute \u001b[1m(\u001b[0mDefaultMaven.jav\u001b[1;92ma:105\u001b[0m\u001b[1m)\u001b[0m\n",
       "    at org.apache.maven.cli.MavenCli.execute \u001b[1m(\u001b[0mMavenCli.jav\u001b[1;92ma:960\u001b[0m\u001b[1m)\u001b[0m\n",
       "    at org.apache.maven.cli.MavenCli.doMain \u001b[1m(\u001b[0mMavenCli.jav\u001b[1;92ma:293\u001b[0m\u001b[1m)\u001b[0m\n",
       "    at org.apache.maven.cli.MavenCli.main \u001b[1m(\u001b[0mMavenCli.jav\u001b[1;92ma:196\u001b[0m\u001b[1m)\u001b[0m\n",
       "    at jdk.internal.reflect.NativeMethodAccessorImpl.invoke0 \u001b[1m(\u001b[0mNative Method\u001b[1m)\u001b[0m\n",
       "    at jdk.internal.reflect.NativeMethodAccessorImpl.invoke \u001b[1m(\u001b[0mNativeMethodAccessorImpl.jav\u001b[1;92ma:77\u001b[0m\u001b[1m)\u001b[0m\n",
       "    at jdk.internal.reflect.DelegatingMethodAccessorImpl.invoke \u001b[1m(\u001b[0mDelegatingMethodAccessorImpl.jav\u001b[1;92ma:43\u001b[0m\u001b[1m)\u001b[0m\n",
       "    at java.lang.reflect.Method.invoke \u001b[1m(\u001b[0mMethod.jav\u001b[1;92ma:569\u001b[0m\u001b[1m)\u001b[0m\n",
       "    at org.codehaus.plexus.classworlds.launcher.Launcher.launchEnhanced \u001b[1m(\u001b[0mLauncher.jav\u001b[1;92ma:282\u001b[0m\u001b[1m)\u001b[0m\n",
       "    at org.codehaus.plexus.classworlds.launcher.Launcher.launch \u001b[1m(\u001b[0mLauncher.jav\u001b[1;92ma:225\u001b[0m\u001b[1m)\u001b[0m\n",
       "    at org.codehaus.plexus.classworlds.launcher.Launcher.mainWithExitCode \u001b[1m(\u001b[0mLauncher.jav\u001b[1;92ma:406\u001b[0m\u001b[1m)\u001b[0m\n",
       "    at org.codehaus.plexus.classworlds.launcher.Launcher.main \u001b[1m(\u001b[0mLauncher.jav\u001b[1;92ma:347\u001b[0m\u001b[1m)\u001b[0m\n",
       "Caused by: org.apache.maven.plugin.compiler.CompilationFailureException: Compilation failure\n",
       "\u001b[35m/tmp/src/src/main/java/org/openshift/quickstarts/undertow/servlet/\u001b[0m\u001b[95mServletServer.java\u001b[0m:\u001b[1m[\u001b[0m\u001b[1;36m82\u001b[0m,\u001b[1;36m21\u001b[0m\u001b[1m]\u001b[0m cannot find symbol\n",
       "  symbol:   method \u001b[1;35msetHandlers\u001b[0m\u001b[1m(\u001b[0mio.undertow.server.handlers.PathHandler\u001b[1m)\u001b[0m\n",
       "  location: class io.undertow.Undertow.Builder\n",
       "\n",
       "    at org.apache.maven.plugin.compiler.AbstractCompilerMojo.execute \u001b[1m(\u001b[0mAbstractCompilerMojo.jav\u001b[1;92ma:858\u001b[0m\u001b[1m)\u001b[0m\n",
       "    at org.apache.maven.plugin.compiler.CompilerMojo.execute \u001b[1m(\u001b[0mCompilerMojo.jav\u001b[1;92ma:129\u001b[0m\u001b[1m)\u001b[0m\n",
       "    at org.apache.maven.plugin.DefaultBuildPluginManager.executeMojo \u001b[1m(\u001b[0mDefaultBuildPluginManager.jav\u001b[1;92ma:137\u001b[0m\u001b[1m)\u001b[0m\n",
       "    at org.apache.maven.lifecycle.internal.MojoExecutor.doExecute \u001b[1m(\u001b[0mMojoExecutor.jav\u001b[1;92ma:301\u001b[0m\u001b[1m)\u001b[0m\n",
       "    at org.apache.maven.lifecycle.internal.MojoExecutor.execute \u001b[1m(\u001b[0mMojoExecutor.jav\u001b[1;92ma:211\u001b[0m\u001b[1m)\u001b[0m\n",
       "    at org.apache.maven.lifecycle.internal.MojoExecutor.execute \u001b[1m(\u001b[0mMojoExecutor.jav\u001b[1;92ma:165\u001b[0m\u001b[1m)\u001b[0m\n",
       "    at org.apache.maven.lifecycle.internal.MojoExecutor.execute \u001b[1m(\u001b[0mMojoExecutor.jav\u001b[1;92ma:157\u001b[0m\u001b[1m)\u001b[0m\n",
       "    at org.apache.maven.lifecycle.internal.LifecycleModuleBuilder.buildProject \u001b[1m(\u001b[0mLifecycleModuleBuilder.jav\u001b[1;92ma:121\u001b[0m\u001b[1m)\u001b[0m\n",
       "    at org.apache.maven.lifecycle.internal.LifecycleModuleBuilder.buildProject \u001b[1m(\u001b[0mLifecycleModuleBuilder.jav\u001b[1;92ma:81\u001b[0m\u001b[1m)\u001b[0m\n",
       "    at org.apache.maven.lifecycle.internal.builder.singlethreaded.SingleThreadedBuilder.build \n",
       "\u001b[1m(\u001b[0mSingleThreadedBuilder.jav\u001b[1;92ma:56\u001b[0m\u001b[1m)\u001b[0m\n",
       "    at org.apache.maven.lifecycle.internal.LifecycleStarter.execute \u001b[1m(\u001b[0mLifecycleStarter.jav\u001b[1;92ma:127\u001b[0m\u001b[1m)\u001b[0m\n",
       "    at org.apache.maven.DefaultMaven.doExecute \u001b[1m(\u001b[0mDefaultMaven.jav\u001b[1;92ma:294\u001b[0m\u001b[1m)\u001b[0m\n",
       "    at org.apache.maven.DefaultMaven.doExecute \u001b[1m(\u001b[0mDefaultMaven.jav\u001b[1;92ma:192\u001b[0m\u001b[1m)\u001b[0m\n",
       "    at org.apache.maven.DefaultMaven.execute \u001b[1m(\u001b[0mDefaultMaven.jav\u001b[1;92ma:105\u001b[0m\u001b[1m)\u001b[0m\n",
       "    at org.apache.maven.cli.MavenCli.execute \u001b[1m(\u001b[0mMavenCli.jav\u001b[1;92ma:960\u001b[0m\u001b[1m)\u001b[0m\n",
       "    at org.apache.maven.cli.MavenCli.doMain \u001b[1m(\u001b[0mMavenCli.jav\u001b[1;92ma:293\u001b[0m\u001b[1m)\u001b[0m\n",
       "    at org.apache.maven.cli.MavenCli.main \u001b[1m(\u001b[0mMavenCli.jav\u001b[1;92ma:196\u001b[0m\u001b[1m)\u001b[0m\n",
       "    at jdk.internal.reflect.NativeMethodAccessorImpl.invoke0 \u001b[1m(\u001b[0mNative Method\u001b[1m)\u001b[0m\n",
       "    at jdk.internal.reflect.NativeMethodAccessorImpl.invoke \u001b[1m(\u001b[0mNativeMethodAccessorImpl.jav\u001b[1;92ma:77\u001b[0m\u001b[1m)\u001b[0m\n",
       "    at jdk.internal.reflect.DelegatingMethodAccessorImpl.invoke \u001b[1m(\u001b[0mDelegatingMethodAccessorImpl.jav\u001b[1;92ma:43\u001b[0m\u001b[1m)\u001b[0m\n",
       "    at java.lang.reflect.Method.invoke \u001b[1m(\u001b[0mMethod.jav\u001b[1;92ma:569\u001b[0m\u001b[1m)\u001b[0m\n",
       "    at org.codehaus.plexus.classworlds.launcher.Launcher.launchEnhanced \u001b[1m(\u001b[0mLauncher.jav\u001b[1;92ma:282\u001b[0m\u001b[1m)\u001b[0m\n",
       "    at org.codehaus.plexus.classworlds.launcher.Launcher.launch \u001b[1m(\u001b[0mLauncher.jav\u001b[1;92ma:225\u001b[0m\u001b[1m)\u001b[0m\n",
       "    at org.codehaus.plexus.classworlds.launcher.Launcher.mainWithExitCode \u001b[1m(\u001b[0mLauncher.jav\u001b[1;92ma:406\u001b[0m\u001b[1m)\u001b[0m\n",
       "    at org.codehaus.plexus.classworlds.launcher.Launcher.main \u001b[1m(\u001b[0mLauncher.jav\u001b[1;92ma:347\u001b[0m\u001b[1m)\u001b[0m\n",
       "\u001b[1m[\u001b[0mERROR\u001b[1m]\u001b[0m \n",
       "\u001b[1m[\u001b[0mERROR\u001b[1m]\u001b[0m Re-run Maven using the -X switch to enable full debug logging.\n",
       "\u001b[1m[\u001b[0mERROR\u001b[1m]\u001b[0m \n",
       "\u001b[1m[\u001b[0mERROR\u001b[1m]\u001b[0m For more information about the errors and possible solutions, please read the following articles:\n",
       "\u001b[1m[\u001b[0mERROR\u001b[1m]\u001b[0m \u001b[1m[\u001b[0mHelp \u001b[1;36m1\u001b[0m\u001b[1m]\u001b[0m \u001b[4;94mhttp://cwiki.apache.org/confluence/display/MAVEN/MojoFailureException\u001b[0m\n",
       "subprocess exited with status \u001b[1;36m1\u001b[0m\n",
       "subprocess exited with status \u001b[1;36m1\u001b[0m\n",
       "Error: building at STEP \u001b[32m\"RUN /usr/local/s2i/assemble\"\u001b[0m: exit status \u001b[1;36m1\u001b[0m\n",
       "\n"
      ]
     },
     "metadata": {},
     "output_type": "display_data"
    }
   ],
   "source": [
    "pod_name = 'java-app-build-run-bad-fahmmg-build-pod' # insert the name of the failed build pod\n",
    "namespace = 'demo-pipeline'\n",
    "container_name = 'step-s2i-build'\n",
    "\n",
    "get_pod_log_test(pod_name, namespace, container_name)"
   ]
  },
  {
   "cell_type": "markdown",
   "id": "1d9e1d46-c61c-44fc-ad4f-f85cf612900f",
   "metadata": {},
   "source": [
    "### Configure an agent for tool use.\n",
    "\n",
    "- **Agent Initialization**: First we create an `Agent` instance with the desired LLM model, agent instructions and tools.\n",
    "\n",
    "- **Instructions**: The `instructions` parameter, also referred to as the system prompt, specifies the agent's role and behavior. In this example, the agent is configured as a helpful web search assistant. It is instructed to use a tool whenever a web search is required and to respond in a friendly and helpful tone.\n",
    "\n",
    "- **Tools**: The `tools` parameter defines the tools available to the agent. In this case, the `get_pod_log` tool is used, which enables the agent to look up logs from a pod.\n",
    "\n",
    "- **How It Works**: When a user query is provided, the agent processes the input and determines whether a tool is required to fulfill the request. If the query involves retrieving logs from a pod, the agent invokes the `get_pod_log` tool. The tool interacts with the Kubernetes API server to fetch the container logs. This workflow ensures that the agent can handle a wide range of queries effectively."
   ]
  },
  {
   "cell_type": "code",
   "execution_count": 22,
   "id": "458adf3d-9c8f-4c8e-b667-adcb6beff0f4",
   "metadata": {},
   "outputs": [],
   "source": [
    "@client_tool\n",
    "def get_pod_log(pod_name: str, namespace: str, container_name: str):\n",
    "    \"\"\"\n",
    "    Provide the location upon request.\n",
    "\n",
    "    :param pod_name: The name of the target pod\n",
    "    :param namespace: The name of the target namespace\n",
    "    :param container_name: The name of the target container within the target pod\n",
    "    :returns: Logs of the target pod\n",
    "    \"\"\"\n",
    "    try:\n",
    "        api_response = api_instance.read_namespaced_pod_log(\n",
    "            pod_name, namespace, container=container_name, tail_lines=100\n",
    "        )\n",
    "        return api_response\n",
    "    except ApiException as e:\n",
    "        print(\"Exception when calling CoreV1Api->read_namespaced_pod_log: %s\\n\" % e)"
   ]
  },
  {
   "cell_type": "code",
   "execution_count": 24,
   "id": "edb74444-e0a6-4822-b8c9-f437b74769e9",
   "metadata": {},
   "outputs": [
    {
     "data": {
      "text/html": [
       "<pre style=\"white-space:pre;overflow-x:auto;line-height:normal;font-family:Menlo,'DejaVu Sans Mono',consolas,'Courier New',monospace\">Created new session tool-test-session\n",
       "</pre>\n"
      ],
      "text/plain": [
       "Created new session tool-test-session\n"
      ]
     },
     "metadata": {},
     "output_type": "display_data"
    },
    {
     "data": {
      "text/html": [
       "<pre style=\"white-space:pre;overflow-x:auto;line-height:normal;font-family:Menlo,'DejaVu Sans Mono',consolas,'Courier New',monospace\">Looping over user prompts: <span style=\"font-weight: bold\">[</span><span style=\"color: #008000; text-decoration-color: #008000\">\"Analyze the logs of the 'step-s2i-build' container within the </span>\n",
       "<span style=\"color: #008000; text-decoration-color: #008000\">'java-app-build-run-bad-fahmmg-build-pod' pod in namespace 'demo-pipeline'.Summarize the logs in 3 bullet points.\"</span><span style=\"font-weight: bold\">]</span>\n",
       "</pre>\n"
      ],
      "text/plain": [
       "Looping over user prompts: \u001b[1m[\u001b[0m\u001b[32m\"Analyze the logs of the 'step-s2i-build' container within the \u001b[0m\n",
       "\u001b[32m'java-app-build-run-bad-fahmmg-build-pod' pod in namespace 'demo-pipeline'.Summarize the logs in 3 bullet points.\"\u001b[0m\u001b[1m]\u001b[0m\n"
      ]
     },
     "metadata": {},
     "output_type": "display_data"
    },
    {
     "data": {
      "text/html": [
       "<pre style=\"white-space:pre;overflow-x:auto;line-height:normal;font-family:Menlo,'DejaVu Sans Mono',consolas,'Courier New',monospace\">\n",
       "==================================================\n",
       "</pre>\n"
      ],
      "text/plain": [
       "\n",
       "==================================================\n"
      ]
     },
     "metadata": {},
     "output_type": "display_data"
    },
    {
     "name": "stdout",
     "output_type": "stream",
     "text": [
      "\u001b[34mProcessing user query: Analyze the logs of the 'step-s2i-build' container within the 'java-app-build-run-bad-fahmmg-build-pod' pod in namespace 'demo-pipeline'.Summarize the logs in 3 bullet points.\u001b[0m\n"
     ]
    },
    {
     "data": {
      "text/html": [
       "<pre style=\"white-space:pre;overflow-x:auto;line-height:normal;font-family:Menlo,'DejaVu Sans Mono',consolas,'Courier New',monospace\">==================================================\n",
       "</pre>\n"
      ],
      "text/plain": [
       "==================================================\n"
      ]
     },
     "metadata": {},
     "output_type": "display_data"
    },
    {
     "name": "stdout",
     "output_type": "stream",
     "text": [
      "\u001b[33minference> \u001b[0m\u001b[33m\u001b[0m\u001b[97m\u001b[0m\n",
      "\u001b[30m\u001b[0m\u001b[32mtool_execution> Tool:get_pod_log Args:{'pod_name': 'java-app-build-run-bad-fahmmg-build-pod', 'namespace': 'demo-pipeline', 'container_name': 'step-s2i-build'}\u001b[0m\n",
      "\u001b[32mtool_execution> Tool:get_pod_log Response:\"    at org.apache.maven.lifecycle.internal.LifecycleModuleBuilder.buildProject (LifecycleModuleBuilder.java:81)\\n    at org.apache.maven.lifecycle.internal.builder.singlethreaded.SingleThreadedBuilder.build (SingleThreadedBuilder.java:56)\\n    at org.apache.maven.lifecycle.internal.LifecycleStarter.execute (LifecycleStarter.java:127)\\n    at org.apache.maven.DefaultMaven.doExecute (DefaultMaven.java:294)\\n    at org.apache.maven.DefaultMaven.doExecute (DefaultMaven.java:192)\\n    at org.apache.maven.DefaultMaven.execute (DefaultMaven.java:105)\\n    at org.apache.maven.cli.MavenCli.execute (MavenCli.java:960)\\n    at org.apache.maven.cli.MavenCli.doMain (MavenCli.java:293)\\n    at org.apache.maven.cli.MavenCli.main (MavenCli.java:196)\\n    at jdk.internal.reflect.NativeMethodAccessorImpl.invoke0 (Native Method)\\n    at jdk.internal.reflect.NativeMethodAccessorImpl.invoke (NativeMethodAccessorImpl.java:77)\\n    at jdk.internal.reflect.DelegatingMethodAccessorImpl.invoke (DelegatingMethodAccessorImpl.java:43)\\n    at java.lang.reflect.Method.invoke (Method.java:569)\\n    at org.codehaus.plexus.classworlds.launcher.Launcher.launchEnhanced (Launcher.java:282)\\n    at org.codehaus.plexus.classworlds.launcher.Launcher.launch (Launcher.java:225)\\n    at org.codehaus.plexus.classworlds.launcher.Launcher.mainWithExitCode (Launcher.java:406)\\n    at org.codehaus.plexus.classworlds.launcher.Launcher.main (Launcher.java:347)\\nCaused by: org.apache.maven.plugin.compiler.CompilationFailureException: Compilation failure\\n/tmp/src/src/main/java/org/openshift/quickstarts/undertow/servlet/ServletServer.java:[82,21] cannot find symbol\\n  symbol:   method setHandlers(io.undertow.server.handlers.PathHandler)\\n  location: class io.undertow.Undertow.Builder\\n\\n    at org.apache.maven.plugin.compiler.AbstractCompilerMojo.execute (AbstractCompilerMojo.java:858)\\n    at org.apache.maven.plugin.compiler.CompilerMojo.execute (CompilerMojo.java:129)\\n    at org.apache.maven.plugin.DefaultBuildPluginManager.executeMojo (DefaultBuildPluginManager.java:137)\\n    at org.apache.maven.lifecycle.internal.MojoExecutor.doExecute (MojoExecutor.java:301)\\n    at org.apache.maven.lifecycle.internal.MojoExecutor.execute (MojoExecutor.java:211)\\n    at org.apache.maven.lifecycle.internal.MojoExecutor.execute (MojoExecutor.java:165)\\n    at org.apache.maven.lifecycle.internal.MojoExecutor.execute (MojoExecutor.java:157)\\n    at org.apache.maven.lifecycle.internal.LifecycleModuleBuilder.buildProject (LifecycleModuleBuilder.java:121)\\n    at org.apache.maven.lifecycle.internal.LifecycleModuleBuilder.buildProject (LifecycleModuleBuilder.java:81)\\n    at org.apache.maven.lifecycle.internal.builder.singlethreaded.SingleThreadedBuilder.build (SingleThreadedBuilder.java:56)\\n    at org.apache.maven.lifecycle.internal.LifecycleStarter.execute (LifecycleStarter.java:127)\\n    at org.apache.maven.DefaultMaven.doExecute (DefaultMaven.java:294)\\n    at org.apache.maven.DefaultMaven.doExecute (DefaultMaven.java:192)\\n    at org.apache.maven.DefaultMaven.execute (DefaultMaven.java:105)\\n    at org.apache.maven.cli.MavenCli.execute (MavenCli.java:960)\\n    at org.apache.maven.cli.MavenCli.doMain (MavenCli.java:293)\\n    at org.apache.maven.cli.MavenCli.main (MavenCli.java:196)\\n    at jdk.internal.reflect.NativeMethodAccessorImpl.invoke0 (Native Method)\\n    at jdk.internal.reflect.NativeMethodAccessorImpl.invoke (NativeMethodAccessorImpl.java:77)\\n    at jdk.internal.reflect.DelegatingMethodAccessorImpl.invoke (DelegatingMethodAccessorImpl.java:43)\\n    at java.lang.reflect.Method.invoke (Method.java:569)\\n    at org.codehaus.plexus.classworlds.launcher.Launcher.launchEnhanced (Launcher.java:282)\\n    at org.codehaus.plexus.classworlds.launcher.Launcher.launch (Launcher.java:225)\\n    at org.codehaus.plexus.classworlds.launcher.Launcher.mainWithExitCode (Launcher.java:406)\\n    at org.codehaus.plexus.classworlds.launcher.Launcher.main (Launcher.java:347)\\n[ERROR] \\n[ERROR] Re-run Maven using the -X switch to enable full debug logging.\\n[ERROR] \\n[ERROR] For more information about the errors and possible solutions, please read the following articles:\\n[ERROR] [Help 1] http://cwiki.apache.org/confluence/display/MAVEN/MojoFailureException\\nsubprocess exited with status 1\\nsubprocess exited with status 1\\nError: building at STEP \\\"RUN /usr/local/s2i/assemble\\\": exit status 1\\n\"\u001b[0m\n",
      "\u001b[33minference> \u001b[0m\u001b[33m\u001b[0m\u001b[33mHere\u001b[0m\u001b[33m are\u001b[0m\u001b[33m \u001b[0m\u001b[33m3\u001b[0m\u001b[33m bullet\u001b[0m\u001b[33m points\u001b[0m\u001b[33m summarizing\u001b[0m\u001b[33m the\u001b[0m\u001b[33m logs\u001b[0m\u001b[33m:\n",
      "\n",
      "\u001b[0m\u001b[33m*\u001b[0m\u001b[33m The\u001b[0m\u001b[33m build\u001b[0m\u001b[33m process\u001b[0m\u001b[33m failed\u001b[0m\u001b[33m due\u001b[0m\u001b[33m to\u001b[0m\u001b[33m a\u001b[0m\u001b[33m compilation\u001b[0m\u001b[33m error\u001b[0m\u001b[33m in\u001b[0m\u001b[33m the\u001b[0m\u001b[33m `\u001b[0m\u001b[33mServlet\u001b[0m\u001b[33mServer\u001b[0m\u001b[33m.java\u001b[0m\u001b[33m`\u001b[0m\u001b[33m file\u001b[0m\u001b[33m,\u001b[0m\u001b[33m specifically\u001b[0m\u001b[33m on\u001b[0m\u001b[33m line\u001b[0m\u001b[33m \u001b[0m\u001b[33m82\u001b[0m\u001b[33m,\u001b[0m\u001b[33m column\u001b[0m\u001b[33m \u001b[0m\u001b[33m21\u001b[0m\u001b[33m,\u001b[0m\u001b[33m where\u001b[0m\u001b[33m the\u001b[0m\u001b[33m `\u001b[0m\u001b[33mset\u001b[0m\u001b[33mHandlers\u001b[0m\u001b[33m`\u001b[0m\u001b[33m method\u001b[0m\u001b[33m could\u001b[0m\u001b[33m not\u001b[0m\u001b[33m be\u001b[0m\u001b[33m found\u001b[0m\u001b[33m.\n",
      "\u001b[0m\u001b[33m*\u001b[0m\u001b[33m The\u001b[0m\u001b[33m error\u001b[0m\u001b[33m occurred\u001b[0m\u001b[33m during\u001b[0m\u001b[33m the\u001b[0m\u001b[33m execution\u001b[0m\u001b[33m of\u001b[0m\u001b[33m the\u001b[0m\u001b[33m `\u001b[0m\u001b[33mCompiler\u001b[0m\u001b[33mMo\u001b[0m\u001b[33mjo\u001b[0m\u001b[33m`\u001b[0m\u001b[33m in\u001b[0m\u001b[33m the\u001b[0m\u001b[33m Maven\u001b[0m\u001b[33m build\u001b[0m\u001b[33m process\u001b[0m\u001b[33m,\u001b[0m\u001b[33m which\u001b[0m\u001b[33m was\u001b[0m\u001b[33m triggered\u001b[0m\u001b[33m by\u001b[0m\u001b[33m the\u001b[0m\u001b[33m `\u001b[0m\u001b[33mstep\u001b[0m\u001b[33m-s\u001b[0m\u001b[33m2\u001b[0m\u001b[33mi\u001b[0m\u001b[33m-build\u001b[0m\u001b[33m`\u001b[0m\u001b[33m container\u001b[0m\u001b[33m.\n",
      "\u001b[0m\u001b[33m*\u001b[0m\u001b[33m The\u001b[0m\u001b[33m build\u001b[0m\u001b[33m process\u001b[0m\u001b[33m exited\u001b[0m\u001b[33m with\u001b[0m\u001b[33m a\u001b[0m\u001b[33m non\u001b[0m\u001b[33m-zero\u001b[0m\u001b[33m status\u001b[0m\u001b[33m code\u001b[0m\u001b[33m (\u001b[0m\u001b[33m1\u001b[0m\u001b[33m),\u001b[0m\u001b[33m indicating\u001b[0m\u001b[33m a\u001b[0m\u001b[33m failure\u001b[0m\u001b[33m,\u001b[0m\u001b[33m and\u001b[0m\u001b[33m suggested\u001b[0m\u001b[33m re\u001b[0m\u001b[33m-running\u001b[0m\u001b[33m Maven\u001b[0m\u001b[33m with\u001b[0m\u001b[33m the\u001b[0m\u001b[33m `-\u001b[0m\u001b[33mX\u001b[0m\u001b[33m`\u001b[0m\u001b[33m switch\u001b[0m\u001b[33m to\u001b[0m\u001b[33m enable\u001b[0m\u001b[33m full\u001b[0m\u001b[33m debug\u001b[0m\u001b[33m logging\u001b[0m\u001b[33m for\u001b[0m\u001b[33m more\u001b[0m\u001b[33m information\u001b[0m\u001b[33m.\u001b[0m\u001b[97m\u001b[0m\n",
      "\u001b[30m\u001b[0m"
     ]
    }
   ],
   "source": [
    "instructions = \"\"\"\n",
    "    You are a helpful assistant. \n",
    "    When a user asks for pod logs, you MUST use the get_pod_log tool.\n",
    "\"\"\" \n",
    "\n",
    "custom_tool_agent = Agent(\n",
    "    client, \n",
    "    model=model_id,\n",
    "    instructions=instructions,\n",
    "    tools=[get_pod_log],\n",
    "    sampling_params=sampling_params\n",
    ")\n",
    "\n",
    "\n",
    "user_prompts = [\n",
    "    f\"Analyze the logs of the '{container_name}' container within the '{pod_name}' pod in namespace '{namespace}'.\"\n",
    "    f\"Summarize the logs in 3 bullet points.\"\n",
    "]\n",
    "run_session(custom_tool_agent, 'tool-test-session', user_prompts)"
   ]
  },
  {
   "cell_type": "markdown",
   "id": "b2575bc3-ebb2-4d1d-9b9e-91ef0e066a9d",
   "metadata": {},
   "source": [
    "### Key Takeaways\n",
    "\n",
    "- We've demonstrated how to set up Llama Stack agents and extended them with builtin tools (like web search) that come prepackaged with Llama Stack.\n",
    "- We've shown that this simple approach can provide significantly increased functionality of existing open source LLM's. \n",
    "- This will serves as a foundational example for the more advanced examples to come involving Agentic RAG, External Tools, and complex agentic patterns.\n",
    "\n",
    "Continue to the section to learn how we can upgrade our agents to solve even more complex and multi-step tasks using advanced agentic patterns. \n"
   ]
  },
  {
   "cell_type": "markdown",
   "id": "57d033b7-2ad1-41d3-bc30-8ed856dd4210",
   "metadata": {},
   "source": [
    "## Section 3: Prompt Chaining\n",
    "\n",
    "Building on the simple agent introduced in section 2, this tutorial continues the agent-focused section of our series by introducing techniques that make the agent smarter and more autonomous: **Prompt Chaining** and the **ReAct (Reasoning + Acting) framework**. These approaches allow the agent to complete multi-step tasks, dynamically choose tools, and adjust its behavior based on context.\n",
    "\n",
    "- **Prompt Chaining** connects multiple prompts into a coherent sequence, allowing the agent to maintain context and perform multi-step reasoning across tool invocations. \n",
    "- **ReAct Agent** combines reasoning and acting steps in a loop, enabling the agent to make decisions, use tools dynamically, and adapt based on intermediate results. \n",
    "\n",
    "### Overview\n",
    "\n",
    "In this notebook, you'll explore three agent configurations:\n",
    "1. **Simple Agent (Baseline)** – Uses a single web search tool.\n",
    "2. **Prompt Chaining** – Performs structured, multi-step reasoning by chaining prompts and responses.\n",
    "3. **ReAct Agent** – Dynamically plans and executes actions using a loop of reasoning and tool use."
   ]
  },
  {
   "cell_type": "markdown",
   "id": "7d8feee7-57e2-4a51-93e2-845c40d9601a",
   "metadata": {},
   "source": [
    "### Prompt chaining with websearch tool and client tool\n",
    "\n",
    "In this section, we demonstrate a more sophisticated use case that combines the use of two tools: pod log extraction and web search.\n",
    "\n",
    "1. **Pod Log Extraction**: Use the `get_pod_log` client tool from the previous section to read the logs of a given pod.\n",
    "2. **Contextual Search**: Leverage the detected location to formulate the correct websearch query.\n",
    "\n",
    "For example, when a user asks \"Why is my application pod failing?\", the agent will:\n",
    "- First read the pod logs using `get_pod_log`.\n",
    "- Then use these logs to search for debugging information.\n",
    "- Finally, present a comprehensive response.\n",
    "\n",
    "This demonstrates how the builtin websearch tool and custom client tools can work together to provide intelligent, context-aware responses without requiring explicit logging input from the user."
   ]
  },
  {
   "cell_type": "code",
   "execution_count": 25,
   "id": "de49c988-ee05-4792-8d2a-a5154b44934a",
   "metadata": {},
   "outputs": [],
   "source": [
    "instructions = \"\"\"\n",
    "    You are a helpful assistant.\n",
    "    When a user asks about logs from a pod, you MUST use the get_pod_log tool.\n",
    "\"\"\"\n",
    "\n",
    "prompt_chain_agent = Agent(\n",
    "    client, \n",
    "    model=model_id,\n",
    "    instructions=instructions,\n",
    "    tools=[get_pod_log, 'builtin::websearch'],\n",
    "    sampling_params=sampling_params\n",
    ")"
   ]
  },
  {
   "cell_type": "code",
   "execution_count": 26,
   "id": "a0a75df4-2ee7-4af1-aadb-a5add10eb397",
   "metadata": {},
   "outputs": [
    {
     "data": {
      "text/html": [
       "<pre style=\"white-space:pre;overflow-x:auto;line-height:normal;font-family:Menlo,'DejaVu Sans Mono',consolas,'Courier New',monospace\">Created new session prompt-chaining-session\n",
       "</pre>\n"
      ],
      "text/plain": [
       "Created new session prompt-chaining-session\n"
      ]
     },
     "metadata": {},
     "output_type": "display_data"
    },
    {
     "data": {
      "text/html": [
       "<pre style=\"white-space:pre;overflow-x:auto;line-height:normal;font-family:Menlo,'DejaVu Sans Mono',consolas,'Courier New',monospace\">Looping over user prompts: <span style=\"font-weight: bold\">[</span><span style=\"color: #008000; text-decoration-color: #008000\">'Retrieve the logs of the step-s2i-build container within the </span>\n",
       "<span style=\"color: #008000; text-decoration-color: #008000\">java-app-build-run-bad-fahmmg-build-pod pod in namespace demo-pipeline.'</span>, <span style=\"color: #008000; text-decoration-color: #008000\">'Look up relevant troubleshooting </span>\n",
       "<span style=\"color: #008000; text-decoration-color: #008000\">information from the web.'</span>, <span style=\"color: #008000; text-decoration-color: #008000\">'Provide a short summary and troubleshooting recommendations in bullet points.'</span><span style=\"font-weight: bold\">]</span>\n",
       "</pre>\n"
      ],
      "text/plain": [
       "Looping over user prompts: \u001b[1m[\u001b[0m\u001b[32m'Retrieve the logs of the step-s2i-build container within the \u001b[0m\n",
       "\u001b[32mjava-app-build-run-bad-fahmmg-build-pod pod in namespace demo-pipeline.'\u001b[0m, \u001b[32m'Look up relevant troubleshooting \u001b[0m\n",
       "\u001b[32minformation from the web.'\u001b[0m, \u001b[32m'Provide a short summary and troubleshooting recommendations in bullet points.'\u001b[0m\u001b[1m]\u001b[0m\n"
      ]
     },
     "metadata": {},
     "output_type": "display_data"
    },
    {
     "data": {
      "text/html": [
       "<pre style=\"white-space:pre;overflow-x:auto;line-height:normal;font-family:Menlo,'DejaVu Sans Mono',consolas,'Courier New',monospace\">\n",
       "==================================================\n",
       "</pre>\n"
      ],
      "text/plain": [
       "\n",
       "==================================================\n"
      ]
     },
     "metadata": {},
     "output_type": "display_data"
    },
    {
     "name": "stdout",
     "output_type": "stream",
     "text": [
      "\u001b[34mProcessing user query: Retrieve the logs of the step-s2i-build container within the java-app-build-run-bad-fahmmg-build-pod pod in namespace demo-pipeline.\u001b[0m\n"
     ]
    },
    {
     "data": {
      "text/html": [
       "<pre style=\"white-space:pre;overflow-x:auto;line-height:normal;font-family:Menlo,'DejaVu Sans Mono',consolas,'Courier New',monospace\">==================================================\n",
       "</pre>\n"
      ],
      "text/plain": [
       "==================================================\n"
      ]
     },
     "metadata": {},
     "output_type": "display_data"
    },
    {
     "name": "stdout",
     "output_type": "stream",
     "text": [
      "\u001b[33minference> \u001b[0m\u001b[33m\u001b[0m\u001b[97m\u001b[0m\n",
      "\u001b[30m\u001b[0m\u001b[32mtool_execution> Tool:get_pod_log Args:{'pod_name': 'java-app-build-run-bad-fahmmg-build-pod', 'namespace': 'demo-pipeline', 'container_name': 'step-s2i-build'}\u001b[0m\n",
      "\u001b[32mtool_execution> Tool:get_pod_log Response:\"    at org.apache.maven.lifecycle.internal.LifecycleModuleBuilder.buildProject (LifecycleModuleBuilder.java:81)\\n    at org.apache.maven.lifecycle.internal.builder.singlethreaded.SingleThreadedBuilder.build (SingleThreadedBuilder.java:56)\\n    at org.apache.maven.lifecycle.internal.LifecycleStarter.execute (LifecycleStarter.java:127)\\n    at org.apache.maven.DefaultMaven.doExecute (DefaultMaven.java:294)\\n    at org.apache.maven.DefaultMaven.doExecute (DefaultMaven.java:192)\\n    at org.apache.maven.DefaultMaven.execute (DefaultMaven.java:105)\\n    at org.apache.maven.cli.MavenCli.execute (MavenCli.java:960)\\n    at org.apache.maven.cli.MavenCli.doMain (MavenCli.java:293)\\n    at org.apache.maven.cli.MavenCli.main (MavenCli.java:196)\\n    at jdk.internal.reflect.NativeMethodAccessorImpl.invoke0 (Native Method)\\n    at jdk.internal.reflect.NativeMethodAccessorImpl.invoke (NativeMethodAccessorImpl.java:77)\\n    at jdk.internal.reflect.DelegatingMethodAccessorImpl.invoke (DelegatingMethodAccessorImpl.java:43)\\n    at java.lang.reflect.Method.invoke (Method.java:569)\\n    at org.codehaus.plexus.classworlds.launcher.Launcher.launchEnhanced (Launcher.java:282)\\n    at org.codehaus.plexus.classworlds.launcher.Launcher.launch (Launcher.java:225)\\n    at org.codehaus.plexus.classworlds.launcher.Launcher.mainWithExitCode (Launcher.java:406)\\n    at org.codehaus.plexus.classworlds.launcher.Launcher.main (Launcher.java:347)\\nCaused by: org.apache.maven.plugin.compiler.CompilationFailureException: Compilation failure\\n/tmp/src/src/main/java/org/openshift/quickstarts/undertow/servlet/ServletServer.java:[82,21] cannot find symbol\\n  symbol:   method setHandlers(io.undertow.server.handlers.PathHandler)\\n  location: class io.undertow.Undertow.Builder\\n\\n    at org.apache.maven.plugin.compiler.AbstractCompilerMojo.execute (AbstractCompilerMojo.java:858)\\n    at org.apache.maven.plugin.compiler.CompilerMojo.execute (CompilerMojo.java:129)\\n    at org.apache.maven.plugin.DefaultBuildPluginManager.executeMojo (DefaultBuildPluginManager.java:137)\\n    at org.apache.maven.lifecycle.internal.MojoExecutor.doExecute (MojoExecutor.java:301)\\n    at org.apache.maven.lifecycle.internal.MojoExecutor.execute (MojoExecutor.java:211)\\n    at org.apache.maven.lifecycle.internal.MojoExecutor.execute (MojoExecutor.java:165)\\n    at org.apache.maven.lifecycle.internal.MojoExecutor.execute (MojoExecutor.java:157)\\n    at org.apache.maven.lifecycle.internal.LifecycleModuleBuilder.buildProject (LifecycleModuleBuilder.java:121)\\n    at org.apache.maven.lifecycle.internal.LifecycleModuleBuilder.buildProject (LifecycleModuleBuilder.java:81)\\n    at org.apache.maven.lifecycle.internal.builder.singlethreaded.SingleThreadedBuilder.build (SingleThreadedBuilder.java:56)\\n    at org.apache.maven.lifecycle.internal.LifecycleStarter.execute (LifecycleStarter.java:127)\\n    at org.apache.maven.DefaultMaven.doExecute (DefaultMaven.java:294)\\n    at org.apache.maven.DefaultMaven.doExecute (DefaultMaven.java:192)\\n    at org.apache.maven.DefaultMaven.execute (DefaultMaven.java:105)\\n    at org.apache.maven.cli.MavenCli.execute (MavenCli.java:960)\\n    at org.apache.maven.cli.MavenCli.doMain (MavenCli.java:293)\\n    at org.apache.maven.cli.MavenCli.main (MavenCli.java:196)\\n    at jdk.internal.reflect.NativeMethodAccessorImpl.invoke0 (Native Method)\\n    at jdk.internal.reflect.NativeMethodAccessorImpl.invoke (NativeMethodAccessorImpl.java:77)\\n    at jdk.internal.reflect.DelegatingMethodAccessorImpl.invoke (DelegatingMethodAccessorImpl.java:43)\\n    at java.lang.reflect.Method.invoke (Method.java:569)\\n    at org.codehaus.plexus.classworlds.launcher.Launcher.launchEnhanced (Launcher.java:282)\\n    at org.codehaus.plexus.classworlds.launcher.Launcher.launch (Launcher.java:225)\\n    at org.codehaus.plexus.classworlds.launcher.Launcher.mainWithExitCode (Launcher.java:406)\\n    at org.codehaus.plexus.classworlds.launcher.Launcher.main (Launcher.java:347)\\n[ERROR] \\n[ERROR] Re-run Maven using the -X switch to enable full debug logging.\\n[ERROR] \\n[ERROR] For more information about the errors and possible solutions, please read the following articles:\\n[ERROR] [Help 1] http://cwiki.apache.org/confluence/display/MAVEN/MojoFailureException\\nsubprocess exited with status 1\\nsubprocess exited with status 1\\nError: building at STEP \\\"RUN /usr/local/s2i/assemble\\\": exit status 1\\n\"\u001b[0m\n",
      "\u001b[33minference> \u001b[0m\u001b[33m\u001b[0m\u001b[33mThe\u001b[0m\u001b[33m logs\u001b[0m\u001b[33m of\u001b[0m\u001b[33m the\u001b[0m\u001b[33m step\u001b[0m\u001b[33m-s\u001b[0m\u001b[33m2\u001b[0m\u001b[33mi\u001b[0m\u001b[33m-build\u001b[0m\u001b[33m container\u001b[0m\u001b[33m within\u001b[0m\u001b[33m the\u001b[0m\u001b[33m java\u001b[0m\u001b[33m-app\u001b[0m\u001b[33m-build\u001b[0m\u001b[33m-run\u001b[0m\u001b[33m-b\u001b[0m\u001b[33mad\u001b[0m\u001b[33m-f\u001b[0m\u001b[33mah\u001b[0m\u001b[33mmm\u001b[0m\u001b[33mg\u001b[0m\u001b[33m-build\u001b[0m\u001b[33m-pod\u001b[0m\u001b[33m pod\u001b[0m\u001b[33m in\u001b[0m\u001b[33m namespace\u001b[0m\u001b[33m demo\u001b[0m\u001b[33m-p\u001b[0m\u001b[33mipeline\u001b[0m\u001b[33m have\u001b[0m\u001b[33m been\u001b[0m\u001b[33m retrieved\u001b[0m\u001b[33m.\u001b[0m\u001b[33m The\u001b[0m\u001b[33m logs\u001b[0m\u001b[33m indicate\u001b[0m\u001b[33m that\u001b[0m\u001b[33m there\u001b[0m\u001b[33m was\u001b[0m\u001b[33m a\u001b[0m\u001b[33m compilation\u001b[0m\u001b[33m failure\u001b[0m\u001b[33m during\u001b[0m\u001b[33m the\u001b[0m\u001b[33m Maven\u001b[0m\u001b[33m build\u001b[0m\u001b[33m process\u001b[0m\u001b[33m.\u001b[0m\u001b[33m The\u001b[0m\u001b[33m error\u001b[0m\u001b[33m message\u001b[0m\u001b[33m suggests\u001b[0m\u001b[33m that\u001b[0m\u001b[33m the\u001b[0m\u001b[33m `\u001b[0m\u001b[33mset\u001b[0m\u001b[33mHandlers\u001b[0m\u001b[33m`\u001b[0m\u001b[33m method\u001b[0m\u001b[33m is\u001b[0m\u001b[33m not\u001b[0m\u001b[33m found\u001b[0m\u001b[33m in\u001b[0m\u001b[33m the\u001b[0m\u001b[33m `\u001b[0m\u001b[33mio\u001b[0m\u001b[33m.\u001b[0m\u001b[33mundert\u001b[0m\u001b[33mow\u001b[0m\u001b[33m.\u001b[0m\u001b[33mUnder\u001b[0m\u001b[33mtow\u001b[0m\u001b[33m.Builder\u001b[0m\u001b[33m`\u001b[0m\u001b[33m class\u001b[0m\u001b[33m.\n",
      "\n",
      "\u001b[0m\u001b[33mTo\u001b[0m\u001b[33m resolve\u001b[0m\u001b[33m this\u001b[0m\u001b[33m issue\u001b[0m\u001b[33m,\u001b[0m\u001b[33m you\u001b[0m\u001b[33m can\u001b[0m\u001b[33m try\u001b[0m\u001b[33m updating\u001b[0m\u001b[33m the\u001b[0m\u001b[33m Under\u001b[0m\u001b[33mtow\u001b[0m\u001b[33m version\u001b[0m\u001b[33m or\u001b[0m\u001b[33m checking\u001b[0m\u001b[33m the\u001b[0m\u001b[33m documentation\u001b[0m\u001b[33m for\u001b[0m\u001b[33m the\u001b[0m\u001b[33m correct\u001b[0m\u001b[33m method\u001b[0m\u001b[33m to\u001b[0m\u001b[33m use\u001b[0m\u001b[33m.\u001b[0m\u001b[33m Additionally\u001b[0m\u001b[33m,\u001b[0m\u001b[33m you\u001b[0m\u001b[33m can\u001b[0m\u001b[33m re\u001b[0m\u001b[33m-run\u001b[0m\u001b[33m the\u001b[0m\u001b[33m Maven\u001b[0m\u001b[33m build\u001b[0m\u001b[33m with\u001b[0m\u001b[33m the\u001b[0m\u001b[33m `-\u001b[0m\u001b[33mX\u001b[0m\u001b[33m`\u001b[0m\u001b[33m switch\u001b[0m\u001b[33m to\u001b[0m\u001b[33m enable\u001b[0m\u001b[33m full\u001b[0m\u001b[33m debug\u001b[0m\u001b[33m logging\u001b[0m\u001b[33m and\u001b[0m\u001b[33m get\u001b[0m\u001b[33m more\u001b[0m\u001b[33m detailed\u001b[0m\u001b[33m information\u001b[0m\u001b[33m about\u001b[0m\u001b[33m the\u001b[0m\u001b[33m error\u001b[0m\u001b[33m.\n",
      "\n",
      "\u001b[0m\u001b[33mHere\u001b[0m\u001b[33m are\u001b[0m\u001b[33m the\u001b[0m\u001b[33m logs\u001b[0m\u001b[33m:\n",
      "\u001b[0m\u001b[33m```\n",
      "\u001b[0m\u001b[33m[\u001b[0m\u001b[33mERROR\u001b[0m\u001b[33m]\u001b[0m\u001b[33m \n",
      "\u001b[0m\u001b[33m[\u001b[0m\u001b[33mERROR\u001b[0m\u001b[33m]\u001b[0m\u001b[33m Re\u001b[0m\u001b[33m-run\u001b[0m\u001b[33m Maven\u001b[0m\u001b[33m using\u001b[0m\u001b[33m the\u001b[0m\u001b[33m -\u001b[0m\u001b[33mX\u001b[0m\u001b[33m switch\u001b[0m\u001b[33m to\u001b[0m\u001b[33m enable\u001b[0m\u001b[33m full\u001b[0m\u001b[33m debug\u001b[0m\u001b[33m logging\u001b[0m\u001b[33m.\n",
      "\u001b[0m\u001b[33m[\u001b[0m\u001b[33mERROR\u001b[0m\u001b[33m]\u001b[0m\u001b[33m \n",
      "\u001b[0m\u001b[33m[\u001b[0m\u001b[33mERROR\u001b[0m\u001b[33m]\u001b[0m\u001b[33m For\u001b[0m\u001b[33m more\u001b[0m\u001b[33m information\u001b[0m\u001b[33m about\u001b[0m\u001b[33m the\u001b[0m\u001b[33m errors\u001b[0m\u001b[33m and\u001b[0m\u001b[33m possible\u001b[0m\u001b[33m solutions\u001b[0m\u001b[33m,\u001b[0m\u001b[33m please\u001b[0m\u001b[33m read\u001b[0m\u001b[33m the\u001b[0m\u001b[33m following\u001b[0m\u001b[33m articles\u001b[0m\u001b[33m:\n",
      "\u001b[0m\u001b[33m[\u001b[0m\u001b[33mERROR\u001b[0m\u001b[33m]\u001b[0m\u001b[33m [\u001b[0m\u001b[33mHelp\u001b[0m\u001b[33m \u001b[0m\u001b[33m1\u001b[0m\u001b[33m]\u001b[0m\u001b[33m http\u001b[0m\u001b[33m://\u001b[0m\u001b[33mc\u001b[0m\u001b[33mwiki\u001b[0m\u001b[33m.apache\u001b[0m\u001b[33m.org\u001b[0m\u001b[33m/con\u001b[0m\u001b[33mfluence\u001b[0m\u001b[33m/display\u001b[0m\u001b[33m/\u001b[0m\u001b[33mMA\u001b[0m\u001b[33mVEN\u001b[0m\u001b[33m/M\u001b[0m\u001b[33mojo\u001b[0m\u001b[33mFailure\u001b[0m\u001b[33mException\u001b[0m\u001b[33m\n",
      "\u001b[0m\u001b[33msub\u001b[0m\u001b[33mprocess\u001b[0m\u001b[33m exited\u001b[0m\u001b[33m with\u001b[0m\u001b[33m status\u001b[0m\u001b[33m \u001b[0m\u001b[33m1\u001b[0m\u001b[33m\n",
      "\u001b[0m\u001b[33msub\u001b[0m\u001b[33mprocess\u001b[0m\u001b[33m exited\u001b[0m\u001b[33m with\u001b[0m\u001b[33m status\u001b[0m\u001b[33m \u001b[0m\u001b[33m1\u001b[0m\u001b[33m\n",
      "\u001b[0m\u001b[33mError\u001b[0m\u001b[33m:\u001b[0m\u001b[33m building\u001b[0m\u001b[33m at\u001b[0m\u001b[33m STEP\u001b[0m\u001b[33m \"\u001b[0m\u001b[33mRUN\u001b[0m\u001b[33m /\u001b[0m\u001b[33musr\u001b[0m\u001b[33m/local\u001b[0m\u001b[33m/s\u001b[0m\u001b[33m2\u001b[0m\u001b[33mi\u001b[0m\u001b[33m/\u001b[0m\u001b[33massemble\u001b[0m\u001b[33m\":\u001b[0m\u001b[33m exit\u001b[0m\u001b[33m status\u001b[0m\u001b[33m \u001b[0m\u001b[33m1\u001b[0m\u001b[33m\n",
      "\u001b[0m\u001b[33m```\u001b[0m\u001b[97m\u001b[0m\n",
      "\u001b[30m\u001b[0m"
     ]
    },
    {
     "data": {
      "text/html": [
       "<pre style=\"white-space:pre;overflow-x:auto;line-height:normal;font-family:Menlo,'DejaVu Sans Mono',consolas,'Courier New',monospace\">\n",
       "==================================================\n",
       "</pre>\n"
      ],
      "text/plain": [
       "\n",
       "==================================================\n"
      ]
     },
     "metadata": {},
     "output_type": "display_data"
    },
    {
     "name": "stdout",
     "output_type": "stream",
     "text": [
      "\u001b[34mProcessing user query: Look up relevant troubleshooting information from the web.\u001b[0m\n"
     ]
    },
    {
     "data": {
      "text/html": [
       "<pre style=\"white-space:pre;overflow-x:auto;line-height:normal;font-family:Menlo,'DejaVu Sans Mono',consolas,'Courier New',monospace\">==================================================\n",
       "</pre>\n"
      ],
      "text/plain": [
       "==================================================\n"
      ]
     },
     "metadata": {},
     "output_type": "display_data"
    },
    {
     "name": "stdout",
     "output_type": "stream",
     "text": [
      "\u001b[33minference> \u001b[0m\u001b[33m\u001b[0m\u001b[97m\u001b[0m\n",
      "\u001b[32mtool_execution> Tool:brave_search Args:{'query': 'undertow setHandlers method not found error'}\u001b[0m\n",
      "\u001b[32mtool_execution> Tool:brave_search Response:{\"query\": \"undertow setHandlers method not found error\", \"top_k\": [{\"url\": \"https://github.com/spring-projects/spring-boot/issues/4374\", \"title\": \"Unable to customize Undertow handlers through ... - GitHub\", \"content\": \"Nov 2, 2015\\u00b7I think we need to rework private Undertow createUndertowServer() to extract a method that one could extend to add its own handler if necessary.\", \"score\": 0.65146625, \"raw_content\": null}, {\"url\": \"https://jenkov.com/tutorials/undertow/index.html\", \"title\": \"Undertow Web Server Tutorial - Jenkov.com\", \"content\": \"Undertow Undertow * Simple Undertow Handler * Routing Undertow Handler All incoming HTTP requests are forwarded to a Handler which you set on the Undertow server. System.out.println(\\\"Building Undertow server\\\"); ## Simple Undertow Handler Here is a simple Undertow handler which receives a request and sends a simple, hardcoded response back: import io.undertow.server.HttpHandler; import io.undertow.server.HttpServerExchange; import io.undertow.server.HttpHandler; import io.undertow.server.HttpServerExchange; It is possible to send an HTTP 404 URI Not Found error code back to the browser, in case your Undertow service import io.undertow.server.HttpHandler; import io.undertow.server.HttpServerExchange; ## Routing Undertow Handler HTTP requests to the Undertow server. Here is a simple example of an Undertow Handler which looks at the URI of the incoming HTTP request, import io.undertow.server.HttpHandler; import io.undertow.server.HttpServerExchange; import io.undertow.server.HttpHandler; import io.undertow.server.HttpServerExchange;\", \"score\": 0.6018984, \"raw_content\": null}, {\"url\": \"https://community.ortussolutions.com/t/internal-server-error-with-untertow-ut005023/9956\", \"title\": \"Internal Server Error with Untertow UT005023 - Ortus Community\", \"content\": \"at runwar.undertow.SSLCertHeaderHandler.handleRequest(SSLCertHeaderHandler.java:97) ~[runwar-5.0.0.jar:5.0.0] at io.undertow.servlet.handlers.RedirectDirHandler.handleRequest(RedirectDirHandler.java:68) ~[runwar-5.0.0.jar:5.0.0] at io.undertow.servlet.handlers.security.SSLInformationAssociationHandler.handleRequest(SSLInformationAssociationHandler.java:117) ~[runwar-5.0.0.jar:5.0.0] at io.undertow.servlet.handlers.security.ServletAuthenticationCallHandler.handleRequest(ServletAuthenticationCallHandler.java:57) ~[runwar-5.0.0.jar:5.0.0] at io.undertow.server.handlers.PredicateHandler.handleRequest(PredicateHandler.java:43) ~[runwar-5.0.0.jar:5.0.0] at io.undertow.security.handlers.AbstractConfidentialityHandler.handleRequest(AbstractConfidentialityHandler.java:46) ~[runwar-5.0.0.jar:5.0.0] at io.undertow.servlet.handlers.security.ServletConfidentialityConstraintHandler.handleRequest(ServletConfidentialityConstraintHandler.java:64) ~[runwar-5.0.0.jar:5.0.0] at io.undertow.security.handlers.AuthenticationMechanismsHandler.handleRequest(AuthenticationMechanismsHandler.java:60) ~[runwar-5.0.0.jar:5.0.0] at io.undertow.servlet.handlers.security.CachedAuthenticatedSessionHandler.handleRequest(CachedAuthenticatedSessionHandler.java:77) ~[runwar-5.0.0.jar:5.0.0] at io.undertow.security.handlers.AbstractSecurityContextAssociationHandler.handleRequest(AbstractSecurityContextAssociationHandler.java:43) ~[runwar-5.0.0.jar:5.0.0] at io.undertow.server.handlers.PredicateHandler.handleRequest(PredicateHandler.java:43) ~[runwar-5.0.0.jar:5.0.0] at io.undertow.servlet.handlers.SendErrorPageHandler.handleRequest(SendErrorPageHandler.java:52) ~[runwar-5.0.0.jar:5.0.0] at io.undertow.server.handlers.PredicateHandler.handleRequest(PredicateHandler.java:43) ~[runwar-5.0.0.jar:5.0.0] at io.undertow.servlet.handlers.ServletInitialHandler.handleFirstRequest(ServletInitialHandler.java:275) [runwar-5.0.0.jar:5.0.0] at io.undertow.servlet.handlers.ServletInitialHandler.access$100(ServletInitialHandler.java:79) [runwar-5.0.0.jar:5.0.0] at io.undertow.servlet.handlers.ServletInitialHandler$2.call(ServletInitialHandler.java:134) [runwar-5.0.0.jar:5.0.0] at io.undertow.servlet.handlers.ServletInitialHandler$2.call(ServletInitialHandler.java:131) [runwar-5.0.0.jar:5.0.0] at io.undertow.servlet.core.ServletRequestContextThreadSetupAction$1.call(ServletRequestContextThreadSetupAction.java:48) [runwar-5.0.0.jar:5.0.0] at io.undertow.servlet.core.ContextClassLoaderSetupAction$1.call(ContextClassLoaderSetupAction.java:43) [runwar-5.0.0.jar:5.0.0] at io.undertow.servlet.handlers.ServletInitialHandler.dispatchRequest(ServletInitialHandler.java:255) [runwar-5.0.0.jar:5.0.0] at io.undertow.servlet.handlers.ServletInitialHandler.handleRequest(ServletInitialHandler.java:175) [runwar-5.0.0.jar:5.0.0] at io.undertow.server.handlers.HttpContinueReadHandler.handleRequest(HttpContinueReadHandler.java:69) [runwar-5.0.0.jar:5.0.0] at io.undertow.server.handlers.PredicateHandler.handleRequest(PredicateHandler.java:43) [runwar-5.0.0.jar:5.0.0] at runwar.undertow.WelcomeFileHandler.handleRequest(WelcomeFileHandler.java:39) [runwar-5.0.0.jar:5.0.0] at io.undertow.server.handlers.PathHandler.handleRequest(PathHandler.java:104) [runwar-5.0.0.jar:5.0.0] at runwar.undertow.SiteDeployment$1.handleRequest(SiteDeployment.java:162) [runwar-5.0.0.jar:5.0.0] at io.undertow.predicate.PredicatesHandler.handleRequest(PredicatesHandler.java:141) [runwar-5.0.0.jar:5.0.0] at io.undertow.server.handlers.DisallowedMethodsHandler.handleRequest(DisallowedMethodsHandler.java:62) [runwar-5.0.0.jar:5.0.0] at io.undertow.predicate.PredicatesHandler.handleRequest(PredicatesHandler.java:113) [runwar-5.0.0.jar:5.0.0] at io.undertow.server.handlers.encoding.EncodingHandler.handleRequest(EncodingHandler.java:72) [runwar-5.0.0.jar:5.0.0] at runwar.undertow.LifecyleHandler.handleRequest(LifecyleHandler.java:143) [runwar-5.0.0.jar:5.0.0] at runwar.undertow.SiteDeployment$4.handleRequest(SiteDeployment.java:345) [runwar-5.0.0.jar:5.0.0] at io.undertow.server.Connectors.executeRootHandler(Connectors.java:393) [runwar-5.0.0.jar:5.0.0] at io.undertow.server.HttpServerExchange$1.run(HttpServerExchange.java:852) [runwar-5.0.0.jar:5.0.0] at org.jboss.threads.ContextClassLoaderSavingRunnable.run(ContextClassLoaderSavingRunnable.java:35) [runwar-5.0.0.jar:5.0.0] at org.jboss.threads.EnhancedQueueExecutor.safeRun(EnhancedQueueExecutor.java:2019) [runwar-5.0.0.jar:5.0.0] at org.jboss.threads.EnhancedQueueExecutor$ThreadBody.run(EnhancedQueueExecutor.java:1449) [runwar-5.0.0.jar:5.0.0] Browse other topics in CommandBox CLI or view latest topics.\", \"score\": 0.50915486, \"raw_content\": null}, {\"url\": \"https://docs.redhat.com/en/documentation/red_hat_jboss_enterprise_application_platform/7.0/html/development_guide/undertow\", \"title\": \"Chapter 10. Undertow | Red Hat JBoss Enterprise Application Platform\", \"content\": \"To use a handler with a deployment, you need to add a `WEB-INF/undertow-handlers.conf` file. **Example: `WEB-INF/undertow-handlers.conf` File** **Example: `WEB-INF/undertow-handlers.conf` File with Optional Predicate** **Example: `WEB-INF/undertow-handlers.conf` File Using the Default Parameter** You also may update the `WEB-INF/jboss-web.xml` file to include the definition of one or more handlers but using `WEB-INF/undertow-handlers.conf` is preferred. * A custom handler can be defined in the `WEB-INF/jboss-web.xml` file. **Example: Define Custom Handler in `WEB-INF/jboss-web.xml`** * Parameters could also be set for the custom handler via the `WEB-INF/jboss-web.xml` file. * Instead of using the `WEB-INF/jboss-web.xml` for defining the handler, it could also be defined in the `WEB-INF/undertow-handlers.conf` file. For the handler defined in `WEB-INF/undertow-handlers.conf` to work, two things need to be created: 2. An entry in the file `META-INF/services/io.undertow.server.handlers.builder.HandlerBuilder`.\", \"score\": 0.50285697, \"raw_content\": null}, {\"url\": \"https://docs.redhat.com/en/documentation/red_hat_jboss_enterprise_application_platform/7.2/html/development_guide/undertow\", \"title\": \"Chapter 10. Undertow | Red Hat JBoss Enterprise Application Platform\", \"content\": \"To use a handler with a deployment, you need to add a `WEB-INF/undertow-handlers.conf` file. **Example: `WEB-INF/undertow-handlers.conf` File** **Example: `WEB-INF/undertow-handlers.conf` File with Optional Predicate** **Example: `WEB-INF/undertow-handlers.conf` File Using the Default Parameter** You can also update the `WEB-INF/jboss-web.xml` file to include the definition of one or more handlers, but using `WEB-INF/undertow-handlers.conf` is preferred. 2. In the WEB-INF/undertow-handlers.conf #### Defining Custom Handlers Using the WEB-INF/jboss-web.xml File A custom handler can be defined in the `WEB-INF/jboss-web.xml` file. **Example: Define Custom Handler in `WEB-INF/jboss-web.xml`** Parameters can also be set for the custom handler using the `WEB-INF/jboss-web.xml` file. #### Defining Custom Handlers in the WEB-INF/undertow-handlers.conf File Instead of using the `WEB-INF/jboss-web.xml` for defining the handler, it could also be defined in the `WEB-INF/undertow-handlers.conf` file. /subsystem=undertow/application-security-domain=other:write-attribute(name=http-authentication-factory,value=custom-mechanism) /subsystem=undertow/application-security-domain=other:write-attribute(name=http-authentication-factory,value=custom-mechanism)\", \"score\": 0.40126598, \"raw_content\": null}]}\u001b[0m\n",
      "\u001b[33minference> \u001b[0m\u001b[33m\u001b[0m\u001b[33mThe\u001b[0m\u001b[33m error\u001b[0m\u001b[33m message\u001b[0m\u001b[33m \"\u001b[0m\u001b[33mcannot\u001b[0m\u001b[33m find\u001b[0m\u001b[33m symbol\u001b[0m\u001b[33m:\u001b[0m\u001b[33m method\u001b[0m\u001b[33m set\u001b[0m\u001b[33mHandlers\u001b[0m\u001b[33m(io\u001b[0m\u001b[33m.\u001b[0m\u001b[33mundert\u001b[0m\u001b[33mow\u001b[0m\u001b[33m.server\u001b[0m\u001b[33m.handlers\u001b[0m\u001b[33m.Path\u001b[0m\u001b[33mHandler\u001b[0m\u001b[33m)\"\u001b[0m\u001b[33m suggests\u001b[0m\u001b[33m that\u001b[0m\u001b[33m the\u001b[0m\u001b[33m `\u001b[0m\u001b[33mset\u001b[0m\u001b[33mHandlers\u001b[0m\u001b[33m`\u001b[0m\u001b[33m method\u001b[0m\u001b[33m is\u001b[0m\u001b[33m not\u001b[0m\u001b[33m available\u001b[0m\u001b[33m in\u001b[0m\u001b[33m the\u001b[0m\u001b[33m `\u001b[0m\u001b[33mio\u001b[0m\u001b[33m.\u001b[0m\u001b[33mundert\u001b[0m\u001b[33mow\u001b[0m\u001b[33m.\u001b[0m\u001b[33mUnder\u001b[0m\u001b[33mtow\u001b[0m\u001b[33m.Builder\u001b[0m\u001b[33m`\u001b[0m\u001b[33m class\u001b[0m\u001b[33m.\u001b[0m\u001b[33m \n",
      "\n",
      "\u001b[0m\u001b[33mAfter\u001b[0m\u001b[33m searching\u001b[0m\u001b[33m the\u001b[0m\u001b[33m web\u001b[0m\u001b[33m,\u001b[0m\u001b[33m it\u001b[0m\u001b[33m appears\u001b[0m\u001b[33m that\u001b[0m\u001b[33m the\u001b[0m\u001b[33m `\u001b[0m\u001b[33mset\u001b[0m\u001b[33mHandlers\u001b[0m\u001b[33m`\u001b[0m\u001b[33m method\u001b[0m\u001b[33m has\u001b[0m\u001b[33m been\u001b[0m\u001b[33m removed\u001b[0m\u001b[33m or\u001b[0m\u001b[33m renamed\u001b[0m\u001b[33m in\u001b[0m\u001b[33m some\u001b[0m\u001b[33m versions\u001b[0m\u001b[33m of\u001b[0m\u001b[33m Under\u001b[0m\u001b[33mtow\u001b[0m\u001b[33m.\u001b[0m\u001b[33m \n",
      "\n",
      "\u001b[0m\u001b[33mHere\u001b[0m\u001b[33m are\u001b[0m\u001b[33m some\u001b[0m\u001b[33m possible\u001b[0m\u001b[33m solutions\u001b[0m\u001b[33m:\n",
      "\n",
      "\u001b[0m\u001b[33m1\u001b[0m\u001b[33m.\u001b[0m\u001b[33m Check\u001b[0m\u001b[33m the\u001b[0m\u001b[33m Under\u001b[0m\u001b[33mtow\u001b[0m\u001b[33m documentation\u001b[0m\u001b[33m and\u001b[0m\u001b[33m source\u001b[0m\u001b[33m code\u001b[0m\u001b[33m to\u001b[0m\u001b[33m see\u001b[0m\u001b[33m if\u001b[0m\u001b[33m the\u001b[0m\u001b[33m `\u001b[0m\u001b[33mset\u001b[0m\u001b[33mHandlers\u001b[0m\u001b[33m`\u001b[0m\u001b[33m method\u001b[0m\u001b[33m is\u001b[0m\u001b[33m available\u001b[0m\u001b[33m in\u001b[0m\u001b[33m your\u001b[0m\u001b[33m version\u001b[0m\u001b[33m of\u001b[0m\u001b[33m Under\u001b[0m\u001b[33mtow\u001b[0m\u001b[33m.\u001b[0m\u001b[33m If\u001b[0m\u001b[33m it's\u001b[0m\u001b[33m not\u001b[0m\u001b[33m available\u001b[0m\u001b[33m,\u001b[0m\u001b[33m you\u001b[0m\u001b[33m may\u001b[0m\u001b[33m need\u001b[0m\u001b[33m to\u001b[0m\u001b[33m upgrade\u001b[0m\u001b[33m or\u001b[0m\u001b[33m downg\u001b[0m\u001b[33mrade\u001b[0m\u001b[33m to\u001b[0m\u001b[33m a\u001b[0m\u001b[33m version\u001b[0m\u001b[33m that\u001b[0m\u001b[33m has\u001b[0m\u001b[33m this\u001b[0m\u001b[33m method\u001b[0m\u001b[33m.\n",
      "\u001b[0m\u001b[33m2\u001b[0m\u001b[33m.\u001b[0m\u001b[33m Use\u001b[0m\u001b[33m the\u001b[0m\u001b[33m `\u001b[0m\u001b[33madd\u001b[0m\u001b[33mHandler\u001b[0m\u001b[33m`\u001b[0m\u001b[33m method\u001b[0m\u001b[33m instead\u001b[0m\u001b[33m of\u001b[0m\u001b[33m `\u001b[0m\u001b[33mset\u001b[0m\u001b[33mHandlers\u001b[0m\u001b[33m`.\u001b[0m\u001b[33m This\u001b[0m\u001b[33m method\u001b[0m\u001b[33m allows\u001b[0m\u001b[33m you\u001b[0m\u001b[33m to\u001b[0m\u001b[33m add\u001b[0m\u001b[33m multiple\u001b[0m\u001b[33m handlers\u001b[0m\u001b[33m to\u001b[0m\u001b[33m the\u001b[0m\u001b[33m Under\u001b[0m\u001b[33mtow\u001b[0m\u001b[33m server\u001b[0m\u001b[33m.\n",
      "\u001b[0m\u001b[33m3\u001b[0m\u001b[33m.\u001b[0m\u001b[33m Check\u001b[0m\u001b[33m your\u001b[0m\u001b[33m import\u001b[0m\u001b[33m statements\u001b[0m\u001b[33m to\u001b[0m\u001b[33m ensure\u001b[0m\u001b[33m that\u001b[0m\u001b[33m you\u001b[0m\u001b[33m are\u001b[0m\u001b[33m importing\u001b[0m\u001b[33m the\u001b[0m\u001b[33m correct\u001b[0m\u001b[33m classes\u001b[0m\u001b[33m.\n",
      "\n",
      "\u001b[0m\u001b[33mSome\u001b[0m\u001b[33m relevant\u001b[0m\u001b[33m links\u001b[0m\u001b[33m that\u001b[0m\u001b[33m may\u001b[0m\u001b[33m help\u001b[0m\u001b[33m:\n",
      "\n",
      "\u001b[0m\u001b[33m*\u001b[0m\u001b[33m [\u001b[0m\u001b[33mUnder\u001b[0m\u001b[33mtow\u001b[0m\u001b[33m Web\u001b[0m\u001b[33m Server\u001b[0m\u001b[33m Tutorial\u001b[0m\u001b[33m -\u001b[0m\u001b[33m Jen\u001b[0m\u001b[33mkov\u001b[0m\u001b[33m.com\u001b[0m\u001b[33m](\u001b[0m\u001b[33mhttps\u001b[0m\u001b[33m://\u001b[0m\u001b[33mjen\u001b[0m\u001b[33mkov\u001b[0m\u001b[33m.com\u001b[0m\u001b[33m/tutorials\u001b[0m\u001b[33m/\u001b[0m\u001b[33mundert\u001b[0m\u001b[33mow\u001b[0m\u001b[33m/index\u001b[0m\u001b[33m.html\u001b[0m\u001b[33m)\n",
      "\u001b[0m\u001b[33m*\u001b[0m\u001b[33m [\u001b[0m\u001b[33mChapter\u001b[0m\u001b[33m \u001b[0m\u001b[33m10\u001b[0m\u001b[33m.\u001b[0m\u001b[33m Under\u001b[0m\u001b[33mtow\u001b[0m\u001b[33m |\u001b[0m\u001b[33m Red\u001b[0m\u001b[33m Hat\u001b[0m\u001b[33m J\u001b[0m\u001b[33mBoss\u001b[0m\u001b[33m Enterprise\u001b[0m\u001b[33m Application\u001b[0m\u001b[33m Platform\u001b[0m\u001b[33m](\u001b[0m\u001b[33mhttps\u001b[0m\u001b[33m://\u001b[0m\u001b[33mdocs\u001b[0m\u001b[33m.red\u001b[0m\u001b[33mhat\u001b[0m\u001b[33m.com\u001b[0m\u001b[33m/en\u001b[0m\u001b[33m/documentation\u001b[0m\u001b[33m/red\u001b[0m\u001b[33m_hat\u001b[0m\u001b[33m_j\u001b[0m\u001b[33mboss\u001b[0m\u001b[33m_\u001b[0m\u001b[33menterprise\u001b[0m\u001b[33m_application\u001b[0m\u001b[33m_platform\u001b[0m\u001b[33m/\u001b[0m\u001b[33m7\u001b[0m\u001b[33m.\u001b[0m\u001b[33m0\u001b[0m\u001b[33m/html\u001b[0m\u001b[33m/de\u001b[0m\u001b[33mvelopment\u001b[0m\u001b[33m_guide\u001b[0m\u001b[33m/\u001b[0m\u001b[33mundert\u001b[0m\u001b[33mow\u001b[0m\u001b[33m)\n",
      "\u001b[0m\u001b[33m*\u001b[0m\u001b[33m [\u001b[0m\u001b[33mInternal\u001b[0m\u001b[33m Server\u001b[0m\u001b[33m Error\u001b[0m\u001b[33m with\u001b[0m\u001b[33m Unter\u001b[0m\u001b[33mtow\u001b[0m\u001b[33m UT\u001b[0m\u001b[33m005\u001b[0m\u001b[33m023\u001b[0m\u001b[33m -\u001b[0m\u001b[33m Ort\u001b[0m\u001b[33mus\u001b[0m\u001b[33m Community\u001b[0m\u001b[33m](\u001b[0m\u001b[33mhttps\u001b[0m\u001b[33m://\u001b[0m\u001b[33mcommunity\u001b[0m\u001b[33m.\u001b[0m\u001b[33mort\u001b[0m\u001b[33muss\u001b[0m\u001b[33molutions\u001b[0m\u001b[33m.com\u001b[0m\u001b[33m/t\u001b[0m\u001b[33m/internal\u001b[0m\u001b[33m-server\u001b[0m\u001b[33m-error\u001b[0m\u001b[33m-with\u001b[0m\u001b[33m-\u001b[0m\u001b[33munter\u001b[0m\u001b[33mtow\u001b[0m\u001b[33m-ut\u001b[0m\u001b[33m005\u001b[0m\u001b[33m023\u001b[0m\u001b[33m/\u001b[0m\u001b[33m995\u001b[0m\u001b[33m6\u001b[0m\u001b[33m)\n",
      "\n",
      "\u001b[0m\u001b[33mIt's\u001b[0m\u001b[33m also\u001b[0m\u001b[33m worth\u001b[0m\u001b[33m noting\u001b[0m\u001b[33m that\u001b[0m\u001b[33m there\u001b[0m\u001b[33m is\u001b[0m\u001b[33m a\u001b[0m\u001b[33m possible\u001b[0m\u001b[33m issue\u001b[0m\u001b[33m with\u001b[0m\u001b[33m the\u001b[0m\u001b[33m `\u001b[0m\u001b[33mundert\u001b[0m\u001b[33mow\u001b[0m\u001b[33m-hand\u001b[0m\u001b[33mlers\u001b[0m\u001b[33m.conf\u001b[0m\u001b[33m`\u001b[0m\u001b[33m file\u001b[0m\u001b[33m,\u001b[0m\u001b[33m make\u001b[0m\u001b[33m sure\u001b[0m\u001b[33m it's\u001b[0m\u001b[33m correctly\u001b[0m\u001b[33m configured\u001b[0m\u001b[33m.\n",
      "\n",
      "\u001b[0m\u001b[33mIf\u001b[0m\u001b[33m you're\u001b[0m\u001b[33m still\u001b[0m\u001b[33m having\u001b[0m\u001b[33m trouble\u001b[0m\u001b[33m,\u001b[0m\u001b[33m please\u001b[0m\u001b[33m provide\u001b[0m\u001b[33m more\u001b[0m\u001b[33m details\u001b[0m\u001b[33m about\u001b[0m\u001b[33m your\u001b[0m\u001b[33m project\u001b[0m\u001b[33m,\u001b[0m\u001b[33m including\u001b[0m\u001b[33m the\u001b[0m\u001b[33m version\u001b[0m\u001b[33m of\u001b[0m\u001b[33m Under\u001b[0m\u001b[33mtow\u001b[0m\u001b[33m you're\u001b[0m\u001b[33m using\u001b[0m\u001b[33m,\u001b[0m\u001b[33m and\u001b[0m\u001b[33m I'll\u001b[0m\u001b[33m do\u001b[0m\u001b[33m my\u001b[0m\u001b[33m best\u001b[0m\u001b[33m to\u001b[0m\u001b[33m help\u001b[0m\u001b[33m.\u001b[0m\u001b[97m\u001b[0m\n",
      "\u001b[30m\u001b[0m"
     ]
    },
    {
     "data": {
      "text/html": [
       "<pre style=\"white-space:pre;overflow-x:auto;line-height:normal;font-family:Menlo,'DejaVu Sans Mono',consolas,'Courier New',monospace\">\n",
       "==================================================\n",
       "</pre>\n"
      ],
      "text/plain": [
       "\n",
       "==================================================\n"
      ]
     },
     "metadata": {},
     "output_type": "display_data"
    },
    {
     "name": "stdout",
     "output_type": "stream",
     "text": [
      "\u001b[34mProcessing user query: Provide a short summary and troubleshooting recommendations in bullet points.\u001b[0m\n"
     ]
    },
    {
     "data": {
      "text/html": [
       "<pre style=\"white-space:pre;overflow-x:auto;line-height:normal;font-family:Menlo,'DejaVu Sans Mono',consolas,'Courier New',monospace\">==================================================\n",
       "</pre>\n"
      ],
      "text/plain": [
       "==================================================\n"
      ]
     },
     "metadata": {},
     "output_type": "display_data"
    },
    {
     "name": "stdout",
     "output_type": "stream",
     "text": [
      "\u001b[33minference> \u001b[0m\u001b[33m\u001b[0m\u001b[33mHere\u001b[0m\u001b[33m is\u001b[0m\u001b[33m a\u001b[0m\u001b[33m short\u001b[0m\u001b[33m summary\u001b[0m\u001b[33m and\u001b[0m\u001b[33m troubleshooting\u001b[0m\u001b[33m recommendations\u001b[0m\u001b[33m in\u001b[0m\u001b[33m bullet\u001b[0m\u001b[33m points\u001b[0m\u001b[33m:\n",
      "\n",
      "\u001b[0m\u001b[33m**\u001b[0m\u001b[33mSummary\u001b[0m\u001b[33m:**\n",
      "\n",
      "\u001b[0m\u001b[33m*\u001b[0m\u001b[33m The\u001b[0m\u001b[33m error\u001b[0m\u001b[33m message\u001b[0m\u001b[33m \"\u001b[0m\u001b[33mcannot\u001b[0m\u001b[33m find\u001b[0m\u001b[33m symbol\u001b[0m\u001b[33m:\u001b[0m\u001b[33m method\u001b[0m\u001b[33m set\u001b[0m\u001b[33mHandlers\u001b[0m\u001b[33m(io\u001b[0m\u001b[33m.\u001b[0m\u001b[33mundert\u001b[0m\u001b[33mow\u001b[0m\u001b[33m.server\u001b[0m\u001b[33m.handlers\u001b[0m\u001b[33m.Path\u001b[0m\u001b[33mHandler\u001b[0m\u001b[33m)\"\u001b[0m\u001b[33m indicates\u001b[0m\u001b[33m that\u001b[0m\u001b[33m the\u001b[0m\u001b[33m `\u001b[0m\u001b[33mset\u001b[0m\u001b[33mHandlers\u001b[0m\u001b[33m`\u001b[0m\u001b[33m method\u001b[0m\u001b[33m is\u001b[0m\u001b[33m not\u001b[0m\u001b[33m available\u001b[0m\u001b[33m in\u001b[0m\u001b[33m the\u001b[0m\u001b[33m `\u001b[0m\u001b[33mio\u001b[0m\u001b[33m.\u001b[0m\u001b[33mundert\u001b[0m\u001b[33mow\u001b[0m\u001b[33m.\u001b[0m\u001b[33mUnder\u001b[0m\u001b[33mtow\u001b[0m\u001b[33m.Builder\u001b[0m\u001b[33m`\u001b[0m\u001b[33m class\u001b[0m\u001b[33m.\n",
      "\u001b[0m\u001b[33m*\u001b[0m\u001b[33m This\u001b[0m\u001b[33m error\u001b[0m\u001b[33m may\u001b[0m\u001b[33m be\u001b[0m\u001b[33m caused\u001b[0m\u001b[33m by\u001b[0m\u001b[33m a\u001b[0m\u001b[33m version\u001b[0m\u001b[33m mismatch\u001b[0m\u001b[33m or\u001b[0m\u001b[33m a\u001b[0m\u001b[33m change\u001b[0m\u001b[33m in\u001b[0m\u001b[33m the\u001b[0m\u001b[33m Under\u001b[0m\u001b[33mtow\u001b[0m\u001b[33m API\u001b[0m\u001b[33m.\n",
      "\n",
      "\u001b[0m\u001b[33m**\u001b[0m\u001b[33mTro\u001b[0m\u001b[33mubleshooting\u001b[0m\u001b[33m Recommendations\u001b[0m\u001b[33m:**\n",
      "\n",
      "\u001b[0m\u001b[33m*\u001b[0m\u001b[33m Check\u001b[0m\u001b[33m the\u001b[0m\u001b[33m Under\u001b[0m\u001b[33mtow\u001b[0m\u001b[33m documentation\u001b[0m\u001b[33m and\u001b[0m\u001b[33m source\u001b[0m\u001b[33m code\u001b[0m\u001b[33m to\u001b[0m\u001b[33m see\u001b[0m\u001b[33m if\u001b[0m\u001b[33m the\u001b[0m\u001b[33m `\u001b[0m\u001b[33mset\u001b[0m\u001b[33mHandlers\u001b[0m\u001b[33m`\u001b[0m\u001b[33m method\u001b[0m\u001b[33m is\u001b[0m\u001b[33m available\u001b[0m\u001b[33m in\u001b[0m\u001b[33m your\u001b[0m\u001b[33m version\u001b[0m\u001b[33m of\u001b[0m\u001b[33m Under\u001b[0m\u001b[33mtow\u001b[0m\u001b[33m.\n",
      "\u001b[0m\u001b[33m*\u001b[0m\u001b[33m Use\u001b[0m\u001b[33m the\u001b[0m\u001b[33m `\u001b[0m\u001b[33madd\u001b[0m\u001b[33mHandler\u001b[0m\u001b[33m`\u001b[0m\u001b[33m method\u001b[0m\u001b[33m instead\u001b[0m\u001b[33m of\u001b[0m\u001b[33m `\u001b[0m\u001b[33mset\u001b[0m\u001b[33mHandlers\u001b[0m\u001b[33m`\u001b[0m\u001b[33m to\u001b[0m\u001b[33m add\u001b[0m\u001b[33m multiple\u001b[0m\u001b[33m handlers\u001b[0m\u001b[33m to\u001b[0m\u001b[33m the\u001b[0m\u001b[33m Under\u001b[0m\u001b[33mtow\u001b[0m\u001b[33m server\u001b[0m\u001b[33m.\n",
      "\u001b[0m\u001b[33m*\u001b[0m\u001b[33m Check\u001b[0m\u001b[33m your\u001b[0m\u001b[33m import\u001b[0m\u001b[33m statements\u001b[0m\u001b[33m to\u001b[0m\u001b[33m ensure\u001b[0m\u001b[33m that\u001b[0m\u001b[33m you\u001b[0m\u001b[33m are\u001b[0m\u001b[33m importing\u001b[0m\u001b[33m the\u001b[0m\u001b[33m correct\u001b[0m\u001b[33m classes\u001b[0m\u001b[33m.\n",
      "\u001b[0m\u001b[33m*\u001b[0m\u001b[33m Verify\u001b[0m\u001b[33m that\u001b[0m\u001b[33m your\u001b[0m\u001b[33m `\u001b[0m\u001b[33mundert\u001b[0m\u001b[33mow\u001b[0m\u001b[33m-hand\u001b[0m\u001b[33mlers\u001b[0m\u001b[33m.conf\u001b[0m\u001b[33m`\u001b[0m\u001b[33m file\u001b[0m\u001b[33m is\u001b[0m\u001b[33m correctly\u001b[0m\u001b[33m configured\u001b[0m\u001b[33m.\n",
      "\u001b[0m\u001b[33m*\u001b[0m\u001b[33m Upgrade\u001b[0m\u001b[33m or\u001b[0m\u001b[33m downg\u001b[0m\u001b[33mrade\u001b[0m\u001b[33m to\u001b[0m\u001b[33m a\u001b[0m\u001b[33m version\u001b[0m\u001b[33m of\u001b[0m\u001b[33m Under\u001b[0m\u001b[33mtow\u001b[0m\u001b[33m that\u001b[0m\u001b[33m has\u001b[0m\u001b[33m the\u001b[0m\u001b[33m `\u001b[0m\u001b[33mset\u001b[0m\u001b[33mHandlers\u001b[0m\u001b[33m`\u001b[0m\u001b[33m method\u001b[0m\u001b[33m,\u001b[0m\u001b[33m if\u001b[0m\u001b[33m necessary\u001b[0m\u001b[33m.\n",
      "\u001b[0m\u001b[33m*\u001b[0m\u001b[33m Review\u001b[0m\u001b[33m your\u001b[0m\u001b[33m code\u001b[0m\u001b[33m and\u001b[0m\u001b[33m configuration\u001b[0m\u001b[33m to\u001b[0m\u001b[33m ensure\u001b[0m\u001b[33m that\u001b[0m\u001b[33m you\u001b[0m\u001b[33m are\u001b[0m\u001b[33m using\u001b[0m\u001b[33m the\u001b[0m\u001b[33m correct\u001b[0m\u001b[33m API\u001b[0m\u001b[33m and\u001b[0m\u001b[33m methods\u001b[0m\u001b[33m for\u001b[0m\u001b[33m your\u001b[0m\u001b[33m version\u001b[0m\u001b[33m of\u001b[0m\u001b[33m Under\u001b[0m\u001b[33mtow\u001b[0m\u001b[33m.\u001b[0m\u001b[97m\u001b[0m\n",
      "\u001b[30m\u001b[0m"
     ]
    }
   ],
   "source": [
    "user_prompts = [\n",
    "    f\"Retrieve the logs of the {container_name} container within the {pod_name} pod in namespace {namespace}.\",\n",
    "    \"Look up relevant troubleshooting information from the web.\",\n",
    "    \"Provide a short summary and troubleshooting recommendations in bullet points.\"\n",
    "]\n",
    "run_session(prompt_chain_agent, 'prompt-chaining-session', user_prompts)"
   ]
  },
  {
   "cell_type": "markdown",
   "id": "9ff8d26a-99c5-487a-9bf9-f6f3b8c17053",
   "metadata": {},
   "source": [
    "## Section 4: ReAct"
   ]
  },
  {
   "cell_type": "markdown",
   "id": "de59bce3-21e6-4fe5-9fb4-96d0f98cedd9",
   "metadata": {},
   "source": [
    "### ReAct Agent with websearch tool and client tool\n",
    "\n",
    "This section demonstrates the ReAct (Reasoning and Acting) framework in action.\n",
    "\n",
    "Here is a walkthrough of how the ReAct agent will tackle this same \"troubleshoot pod\" problem:\n",
    "\n",
    "When asked \"Are there any published troubleshooting guides for my application log?\", the agent will:\n",
    "\n",
    "1. **Reason** that it needs to get the pod logs first.\n",
    "2. **Act** by calling the `get_pod_log` client tool.\n",
    "3. **Observe** the log result.\n",
    "4. **Reason** that it now needs to search for troubleshooting guides.\n",
    "5. **Act** by calling the `websearch` tool with observed pod logs.\n",
    "6. **Observe** and processes the search results into a final answer. \n",
    "\n",
    "Unlike prompt chaining which follows fixed steps, ReAct dynamically breaks down tasks and adapts its approach based on the results of each step. This makes it more flexible and capable of handling complex, real-world queries effectively.\n",
    "\n",
    "Reasoning models output their \\<thought\\> process first."
   ]
  },
  {
   "cell_type": "code",
   "execution_count": 27,
   "id": "0a47f6c5-e756-4ff3-bcb1-5f80e2a7417d",
   "metadata": {},
   "outputs": [
    {
     "data": {
      "text/html": [
       "<pre style=\"white-space:pre;overflow-x:auto;line-height:normal;font-family:Menlo,'DejaVu Sans Mono',consolas,'Courier New',monospace\">Created new session react-session\n",
       "</pre>\n"
      ],
      "text/plain": [
       "Created new session react-session\n"
      ]
     },
     "metadata": {},
     "output_type": "display_data"
    },
    {
     "data": {
      "text/html": [
       "<pre style=\"white-space:pre;overflow-x:auto;line-height:normal;font-family:Menlo,'DejaVu Sans Mono',consolas,'Courier New',monospace\">Looping over user prompts: <span style=\"font-weight: bold\">[</span><span style=\"color: #008000; text-decoration-color: #008000\">\"There's a pod java-app-build-run-bad-fahmmg-build-pod in namespace demo-pipeline with </span>\n",
       "<span style=\"color: #008000; text-decoration-color: #008000\">a container step-s2i-build that's been failing. Read its logs and do a web search to find out why it's been failing</span>\n",
       "<span style=\"color: #008000; text-decoration-color: #008000\">and provide a troubleshooting recommendation based your findings.\"</span><span style=\"font-weight: bold\">]</span>\n",
       "</pre>\n"
      ],
      "text/plain": [
       "Looping over user prompts: \u001b[1m[\u001b[0m\u001b[32m\"There's a pod java-app-build-run-bad-fahmmg-build-pod in namespace demo-pipeline with \u001b[0m\n",
       "\u001b[32ma container step-s2i-build that's been failing. Read its logs and do a web search to find out why it's been failing\u001b[0m\n",
       "\u001b[32mand provide a troubleshooting recommendation based your findings.\"\u001b[0m\u001b[1m]\u001b[0m\n"
      ]
     },
     "metadata": {},
     "output_type": "display_data"
    },
    {
     "data": {
      "text/html": [
       "<pre style=\"white-space:pre;overflow-x:auto;line-height:normal;font-family:Menlo,'DejaVu Sans Mono',consolas,'Courier New',monospace\">\n",
       "==================================================\n",
       "</pre>\n"
      ],
      "text/plain": [
       "\n",
       "==================================================\n"
      ]
     },
     "metadata": {},
     "output_type": "display_data"
    },
    {
     "name": "stdout",
     "output_type": "stream",
     "text": [
      "\u001b[34mProcessing user query: There's a pod java-app-build-run-bad-fahmmg-build-pod in namespace demo-pipeline with a container step-s2i-build that's been failing. Read its logs and do a web search to find out why it's been failing and provide a troubleshooting recommendation based your findings.\u001b[0m\n"
     ]
    },
    {
     "data": {
      "text/html": [
       "<pre style=\"white-space:pre;overflow-x:auto;line-height:normal;font-family:Menlo,'DejaVu Sans Mono',consolas,'Courier New',monospace\">==================================================\n",
       "</pre>\n"
      ],
      "text/plain": [
       "==================================================\n"
      ]
     },
     "metadata": {},
     "output_type": "display_data"
    },
    {
     "name": "stdout",
     "output_type": "stream",
     "text": [
      "\u001b[33minference> \u001b[0m\u001b[33m\u001b[0m\u001b[33m{\n",
      "\u001b[0m\u001b[33m   \u001b[0m\u001b[33m \"\u001b[0m\u001b[33maction\u001b[0m\u001b[33m\":\u001b[0m\u001b[33m {\n",
      "\u001b[0m\u001b[33m       \u001b[0m\u001b[33m \"\u001b[0m\u001b[33mtool\u001b[0m\u001b[33m_params\u001b[0m\u001b[33m\":\u001b[0m\u001b[33m [\n",
      "\u001b[0m\u001b[33m           \u001b[0m\u001b[33m {\n",
      "\u001b[0m\u001b[33m               \u001b[0m\u001b[33m \"\u001b[0m\u001b[33mvalue\u001b[0m\u001b[33m\":\u001b[0m\u001b[33m \"\u001b[0m\u001b[33mdemo\u001b[0m\u001b[33m-p\u001b[0m\u001b[33mipeline\u001b[0m\u001b[33m\",\n",
      "\u001b[0m\u001b[33m               \u001b[0m\u001b[33m \"\u001b[0m\u001b[33mname\u001b[0m\u001b[33m\":\u001b[0m\u001b[33m \"\u001b[0m\u001b[33mnamespace\u001b[0m\u001b[33m\"\n",
      "\u001b[0m\u001b[33m           \u001b[0m\u001b[33m },\n",
      "\u001b[0m\u001b[33m           \u001b[0m\u001b[33m {\n",
      "\u001b[0m\u001b[33m               \u001b[0m\u001b[33m \"\u001b[0m\u001b[33mvalue\u001b[0m\u001b[33m\":\u001b[0m\u001b[33m \"\u001b[0m\u001b[33mjava\u001b[0m\u001b[33m-app\u001b[0m\u001b[33m-build\u001b[0m\u001b[33m-run\u001b[0m\u001b[33m-b\u001b[0m\u001b[33mad\u001b[0m\u001b[33m-f\u001b[0m\u001b[33mah\u001b[0m\u001b[33mmm\u001b[0m\u001b[33mg\u001b[0m\u001b[33m-build\u001b[0m\u001b[33m-pod\u001b[0m\u001b[33m\",\n",
      "\u001b[0m\u001b[33m               \u001b[0m\u001b[33m \"\u001b[0m\u001b[33mname\u001b[0m\u001b[33m\":\u001b[0m\u001b[33m \"\u001b[0m\u001b[33mpod\u001b[0m\u001b[33m_name\u001b[0m\u001b[33m\"\n",
      "\u001b[0m\u001b[33m           \u001b[0m\u001b[33m },\n",
      "\u001b[0m\u001b[33m           \u001b[0m\u001b[33m {\n",
      "\u001b[0m\u001b[33m               \u001b[0m\u001b[33m \"\u001b[0m\u001b[33mvalue\u001b[0m\u001b[33m\":\u001b[0m\u001b[33m \"\u001b[0m\u001b[33mstep\u001b[0m\u001b[33m-s\u001b[0m\u001b[33m2\u001b[0m\u001b[33mi\u001b[0m\u001b[33m-build\u001b[0m\u001b[33m\",\n",
      "\u001b[0m\u001b[33m               \u001b[0m\u001b[33m \"\u001b[0m\u001b[33mname\u001b[0m\u001b[33m\":\u001b[0m\u001b[33m \"\u001b[0m\u001b[33mcontainer\u001b[0m\u001b[33m_name\u001b[0m\u001b[33m\"\n",
      "\u001b[0m\u001b[33m           \u001b[0m\u001b[33m }\n",
      "\u001b[0m\u001b[33m       \u001b[0m\u001b[33m ],\n",
      "\u001b[0m\u001b[33m       \u001b[0m\u001b[33m \"\u001b[0m\u001b[33mtool\u001b[0m\u001b[33m_name\u001b[0m\u001b[33m\":\u001b[0m\u001b[33m \"\u001b[0m\u001b[33mget\u001b[0m\u001b[33m_p\u001b[0m\u001b[33mod\u001b[0m\u001b[33m_log\u001b[0m\u001b[33m\"\n",
      "\u001b[0m\u001b[33m   \u001b[0m\u001b[33m },\n",
      "\u001b[0m\u001b[33m   \u001b[0m\u001b[33m \"\u001b[0m\u001b[33manswer\u001b[0m\u001b[33m\":\u001b[0m\u001b[33m null\u001b[0m\u001b[33m,\n",
      "\u001b[0m\u001b[33m   \u001b[0m\u001b[33m \"\u001b[0m\u001b[33mthought\u001b[0m\u001b[33m\":\u001b[0m\u001b[33m \"\u001b[0m\u001b[33mI\u001b[0m\u001b[33m will\u001b[0m\u001b[33m start\u001b[0m\u001b[33m by\u001b[0m\u001b[33m reading\u001b[0m\u001b[33m the\u001b[0m\u001b[33m logs\u001b[0m\u001b[33m of\u001b[0m\u001b[33m the\u001b[0m\u001b[33m failing\u001b[0m\u001b[33m container\u001b[0m\u001b[33m step\u001b[0m\u001b[33m-s\u001b[0m\u001b[33m2\u001b[0m\u001b[33mi\u001b[0m\u001b[33m-build\u001b[0m\u001b[33m in\u001b[0m\u001b[33m the\u001b[0m\u001b[33m pod\u001b[0m\u001b[33m java\u001b[0m\u001b[33m-app\u001b[0m\u001b[33m-build\u001b[0m\u001b[33m-run\u001b[0m\u001b[33m-b\u001b[0m\u001b[33mad\u001b[0m\u001b[33m-f\u001b[0m\u001b[33mah\u001b[0m\u001b[33mmm\u001b[0m\u001b[33mg\u001b[0m\u001b[33m-build\u001b[0m\u001b[33m-pod\u001b[0m\u001b[33m in\u001b[0m\u001b[33m the\u001b[0m\u001b[33m namespace\u001b[0m\u001b[33m demo\u001b[0m\u001b[33m-p\u001b[0m\u001b[33mipeline\u001b[0m\u001b[33m to\u001b[0m\u001b[33m understand\u001b[0m\u001b[33m the\u001b[0m\u001b[33m error\u001b[0m\u001b[33m message\u001b[0m\u001b[33m.\"\n",
      "\u001b[0m\u001b[33m}\u001b[0m\u001b[97m\u001b[0m\n",
      "\u001b[30m\u001b[0m\u001b[32mtool_execution> Tool:get_pod_log Response:\"    at org.apache.maven.lifecycle.internal.LifecycleModuleBuilder.buildProject (LifecycleModuleBuilder.java:81)\\n    at org.apache.maven.lifecycle.internal.builder.singlethreaded.SingleThreadedBuilder.build (SingleThreadedBuilder.java:56)\\n    at org.apache.maven.lifecycle.internal.LifecycleStarter.execute (LifecycleStarter.java:127)\\n    at org.apache.maven.DefaultMaven.doExecute (DefaultMaven.java:294)\\n    at org.apache.maven.DefaultMaven.doExecute (DefaultMaven.java:192)\\n    at org.apache.maven.DefaultMaven.execute (DefaultMaven.java:105)\\n    at org.apache.maven.cli.MavenCli.execute (MavenCli.java:960)\\n    at org.apache.maven.cli.MavenCli.doMain (MavenCli.java:293)\\n    at org.apache.maven.cli.MavenCli.main (MavenCli.java:196)\\n    at jdk.internal.reflect.NativeMethodAccessorImpl.invoke0 (Native Method)\\n    at jdk.internal.reflect.NativeMethodAccessorImpl.invoke (NativeMethodAccessorImpl.java:77)\\n    at jdk.internal.reflect.DelegatingMethodAccessorImpl.invoke (DelegatingMethodAccessorImpl.java:43)\\n    at java.lang.reflect.Method.invoke (Method.java:569)\\n    at org.codehaus.plexus.classworlds.launcher.Launcher.launchEnhanced (Launcher.java:282)\\n    at org.codehaus.plexus.classworlds.launcher.Launcher.launch (Launcher.java:225)\\n    at org.codehaus.plexus.classworlds.launcher.Launcher.mainWithExitCode (Launcher.java:406)\\n    at org.codehaus.plexus.classworlds.launcher.Launcher.main (Launcher.java:347)\\nCaused by: org.apache.maven.plugin.compiler.CompilationFailureException: Compilation failure\\n/tmp/src/src/main/java/org/openshift/quickstarts/undertow/servlet/ServletServer.java:[82,21] cannot find symbol\\n  symbol:   method setHandlers(io.undertow.server.handlers.PathHandler)\\n  location: class io.undertow.Undertow.Builder\\n\\n    at org.apache.maven.plugin.compiler.AbstractCompilerMojo.execute (AbstractCompilerMojo.java:858)\\n    at org.apache.maven.plugin.compiler.CompilerMojo.execute (CompilerMojo.java:129)\\n    at org.apache.maven.plugin.DefaultBuildPluginManager.executeMojo (DefaultBuildPluginManager.java:137)\\n    at org.apache.maven.lifecycle.internal.MojoExecutor.doExecute (MojoExecutor.java:301)\\n    at org.apache.maven.lifecycle.internal.MojoExecutor.execute (MojoExecutor.java:211)\\n    at org.apache.maven.lifecycle.internal.MojoExecutor.execute (MojoExecutor.java:165)\\n    at org.apache.maven.lifecycle.internal.MojoExecutor.execute (MojoExecutor.java:157)\\n    at org.apache.maven.lifecycle.internal.LifecycleModuleBuilder.buildProject (LifecycleModuleBuilder.java:121)\\n    at org.apache.maven.lifecycle.internal.LifecycleModuleBuilder.buildProject (LifecycleModuleBuilder.java:81)\\n    at org.apache.maven.lifecycle.internal.builder.singlethreaded.SingleThreadedBuilder.build (SingleThreadedBuilder.java:56)\\n    at org.apache.maven.lifecycle.internal.LifecycleStarter.execute (LifecycleStarter.java:127)\\n    at org.apache.maven.DefaultMaven.doExecute (DefaultMaven.java:294)\\n    at org.apache.maven.DefaultMaven.doExecute (DefaultMaven.java:192)\\n    at org.apache.maven.DefaultMaven.execute (DefaultMaven.java:105)\\n    at org.apache.maven.cli.MavenCli.execute (MavenCli.java:960)\\n    at org.apache.maven.cli.MavenCli.doMain (MavenCli.java:293)\\n    at org.apache.maven.cli.MavenCli.main (MavenCli.java:196)\\n    at jdk.internal.reflect.NativeMethodAccessorImpl.invoke0 (Native Method)\\n    at jdk.internal.reflect.NativeMethodAccessorImpl.invoke (NativeMethodAccessorImpl.java:77)\\n    at jdk.internal.reflect.DelegatingMethodAccessorImpl.invoke (DelegatingMethodAccessorImpl.java:43)\\n    at java.lang.reflect.Method.invoke (Method.java:569)\\n    at org.codehaus.plexus.classworlds.launcher.Launcher.launchEnhanced (Launcher.java:282)\\n    at org.codehaus.plexus.classworlds.launcher.Launcher.launch (Launcher.java:225)\\n    at org.codehaus.plexus.classworlds.launcher.Launcher.mainWithExitCode (Launcher.java:406)\\n    at org.codehaus.plexus.classworlds.launcher.Launcher.main (Launcher.java:347)\\n[ERROR] \\n[ERROR] Re-run Maven using the -X switch to enable full debug logging.\\n[ERROR] \\n[ERROR] For more information about the errors and possible solutions, please read the following articles:\\n[ERROR] [Help 1] http://cwiki.apache.org/confluence/display/MAVEN/MojoFailureException\\nsubprocess exited with status 1\\nsubprocess exited with status 1\\nError: building at STEP \\\"RUN /usr/local/s2i/assemble\\\": exit status 1\\n\"\u001b[0m\n",
      "\u001b[33minference> \u001b[0m\u001b[33m\u001b[0m\u001b[33m{\n",
      "\u001b[0m\u001b[33m   \u001b[0m\u001b[33m \"\u001b[0m\u001b[33mthought\u001b[0m\u001b[33m\":\u001b[0m\u001b[33m \"\u001b[0m\u001b[33mThe\u001b[0m\u001b[33m log\u001b[0m\u001b[33m indicates\u001b[0m\u001b[33m a\u001b[0m\u001b[33m compilation\u001b[0m\u001b[33m failure\u001b[0m\u001b[33m in\u001b[0m\u001b[33m the\u001b[0m\u001b[33m Maven\u001b[0m\u001b[33m build\u001b[0m\u001b[33m process\u001b[0m\u001b[33m.\u001b[0m\u001b[33m The\u001b[0m\u001b[33m error\u001b[0m\u001b[33m message\u001b[0m\u001b[33m suggests\u001b[0m\u001b[33m that\u001b[0m\u001b[33m the\u001b[0m\u001b[33m method\u001b[0m\u001b[33m set\u001b[0m\u001b[33mHandlers\u001b[0m\u001b[33m(io\u001b[0m\u001b[33m.\u001b[0m\u001b[33mundert\u001b[0m\u001b[33mow\u001b[0m\u001b[33m.server\u001b[0m\u001b[33m.handlers\u001b[0m\u001b[33m.Path\u001b[0m\u001b[33mHandler\u001b[0m\u001b[33m)\u001b[0m\u001b[33m cannot\u001b[0m\u001b[33m be\u001b[0m\u001b[33m found\u001b[0m\u001b[33m in\u001b[0m\u001b[33m the\u001b[0m\u001b[33m class\u001b[0m\u001b[33m io\u001b[0m\u001b[33m.\u001b[0m\u001b[33mundert\u001b[0m\u001b[33mow\u001b[0m\u001b[33m.\u001b[0m\u001b[33mUnder\u001b[0m\u001b[33mtow\u001b[0m\u001b[33m.Builder\u001b[0m\u001b[33m.\u001b[0m\u001b[33m This\u001b[0m\u001b[33m is\u001b[0m\u001b[33m likely\u001b[0m\u001b[33m due\u001b[0m\u001b[33m to\u001b[0m\u001b[33m a\u001b[0m\u001b[33m version\u001b[0m\u001b[33m mismatch\u001b[0m\u001b[33m or\u001b[0m\u001b[33m an\u001b[0m\u001b[33m incorrect\u001b[0m\u001b[33m import\u001b[0m\u001b[33m statement\u001b[0m\u001b[33m.\u001b[0m\u001b[33m I\u001b[0m\u001b[33m will\u001b[0m\u001b[33m now\u001b[0m\u001b[33m perform\u001b[0m\u001b[33m a\u001b[0m\u001b[33m web\u001b[0m\u001b[33m search\u001b[0m\u001b[33m to\u001b[0m\u001b[33m find\u001b[0m\u001b[33m more\u001b[0m\u001b[33m information\u001b[0m\u001b[33m about\u001b[0m\u001b[33m this\u001b[0m\u001b[33m specific\u001b[0m\u001b[33m error\u001b[0m\u001b[33m and\u001b[0m\u001b[33m potential\u001b[0m\u001b[33m solutions\u001b[0m\u001b[33m.\",\n",
      "\u001b[0m\u001b[33m   \u001b[0m\u001b[33m \"\u001b[0m\u001b[33maction\u001b[0m\u001b[33m\":\u001b[0m\u001b[33m {\n",
      "\u001b[0m\u001b[33m       \u001b[0m\u001b[33m \"\u001b[0m\u001b[33mtool\u001b[0m\u001b[33m_name\u001b[0m\u001b[33m\":\u001b[0m\u001b[33m \"\u001b[0m\u001b[33mweb\u001b[0m\u001b[33m_search\u001b[0m\u001b[33m\",\n",
      "\u001b[0m\u001b[33m       \u001b[0m\u001b[33m \"\u001b[0m\u001b[33mtool\u001b[0m\u001b[33m_params\u001b[0m\u001b[33m\":\u001b[0m\u001b[33m [\n",
      "\u001b[0m\u001b[33m           \u001b[0m\u001b[33m {\n",
      "\u001b[0m\u001b[33m               \u001b[0m\u001b[33m \"\u001b[0m\u001b[33mname\u001b[0m\u001b[33m\":\u001b[0m\u001b[33m \"\u001b[0m\u001b[33mquery\u001b[0m\u001b[33m\",\n",
      "\u001b[0m\u001b[33m               \u001b[0m\u001b[33m \"\u001b[0m\u001b[33mvalue\u001b[0m\u001b[33m\":\u001b[0m\u001b[33m \"\u001b[0m\u001b[33mundert\u001b[0m\u001b[33mow\u001b[0m\u001b[33m set\u001b[0m\u001b[33mHandlers\u001b[0m\u001b[33m method\u001b[0m\u001b[33m not\u001b[0m\u001b[33m found\u001b[0m\u001b[33m\"\n",
      "\u001b[0m\u001b[33m           \u001b[0m\u001b[33m }\n",
      "\u001b[0m\u001b[33m       \u001b[0m\u001b[33m ]\n",
      "\u001b[0m\u001b[33m   \u001b[0m\u001b[33m },\n",
      "\u001b[0m\u001b[33m   \u001b[0m\u001b[33m \"\u001b[0m\u001b[33manswer\u001b[0m\u001b[33m\":\u001b[0m\u001b[33m null\u001b[0m\u001b[33m\n",
      "\u001b[0m\u001b[33m}\u001b[0m\u001b[97m\u001b[0m\n",
      "\u001b[32mtool_execution> Tool:web_search Response:{\"query\": \"undertow setHandlers method not found\", \"top_k\": [{\"url\": \"https://github.com/naver/pinpoint/issues/5442\", \"title\": \"Enhancement Undertow Plugin \\u00b7 Issue #5442 - GitHub\", \"content\": \"Apr 1, 2019\\u00b7# The HttpHandler class name is an argument of the Undertow.builder().setHandler(httpHandler) method. # Support ANT style pattern. e.g. foo\", \"score\": 0.5278769, \"raw_content\": null}, {\"url\": \"https://docs.redhat.com/de/documentation/red_hat_jboss_enterprise_application_platform/7.3/html/development_guide/undertow\", \"title\": \"Chapter 10. Undertow | Red Hat JBoss Enterprise Application Platform\", \"content\": \"A full list of the provided Undertow handlers can be found in the Provided Undertow Handlers reference. 10.3. Creating Custom Handlers. Link kopieren. There\", \"score\": 0.52758485, \"raw_content\": null}, {\"url\": \"https://developer.jboss.org/thread/271146\", \"title\": \"Using HttpHandler class in Undertow - JBoss.org\", \"content\": \"Jun 21, 2016\\u00b7I have found how the implementations are registered and how the handleRequest method can \\\"reject\\\" or send to the next handler, but I cannot find\", \"score\": 0.48850358, \"raw_content\": null}, {\"url\": \"https://jenkov.com/tutorials/undertow/index.html\", \"title\": \"Undertow Web Server Tutorial - Jenkov.com\", \"content\": \"Undertow Undertow * Simple Undertow Handler * Routing Undertow Handler All incoming HTTP requests are forwarded to a Handler which you set on the Undertow server. System.out.println(\\\"Building Undertow server\\\"); ## Simple Undertow Handler Here is a simple Undertow handler which receives a request and sends a simple, hardcoded response back: import io.undertow.server.HttpHandler; import io.undertow.server.HttpServerExchange; import io.undertow.server.HttpHandler; import io.undertow.server.HttpServerExchange; It is possible to send an HTTP 404 URI Not Found error code back to the browser, in case your Undertow service import io.undertow.server.HttpHandler; import io.undertow.server.HttpServerExchange; ## Routing Undertow Handler HTTP requests to the Undertow server. Here is a simple example of an Undertow Handler which looks at the URI of the incoming HTTP request, import io.undertow.server.HttpHandler; import io.undertow.server.HttpServerExchange; import io.undertow.server.HttpHandler; import io.undertow.server.HttpServerExchange;\", \"score\": 0.4709562, \"raw_content\": null}, {\"url\": \"https://github.com/spring-projects/spring-boot/issues/4374\", \"title\": \"Unable to customize Undertow handlers through ... - GitHub\", \"content\": \"So, to add a custom handler, I need to use `UndertowBuilderCustomizer`. changed the title ~~[-]Unable to use customize Undertow configuration through handlers[/-]~~ [+]Unable to customize Undertow handlers through UndertowBuilderCustomizer[/+] on Nov 2, 2015 Basically, I'm looking for a way to \\\"add\\\" a new handler, without sub-classing the original code from Spring Boot. But, since there is a factory class already made available by Spring Boot, I think we just need to be able to add additional handler chain as needed to the builder customizer and have the factory add the additional handler chain as needed. ### spring-projects-issues commented on Mar 29, 2016 ### spring-projects-issues commented on Apr 5, 2016 Unable to customize Undertow handlers through UndertowBuilderCustomizer \\u00b7 Issue #4374 \\u00b7 spring-projects/spring-boot\", \"score\": 0.39312926, \"raw_content\": null}]}\u001b[0m\n",
      "\u001b[33minference> \u001b[0m\u001b[33m\u001b[0m\u001b[33m{\n",
      "\u001b[0m\u001b[33m   \u001b[0m\u001b[33m \"\u001b[0m\u001b[33mthought\u001b[0m\u001b[33m\":\u001b[0m\u001b[33m \"\u001b[0m\u001b[33mThe\u001b[0m\u001b[33m search\u001b[0m\u001b[33m results\u001b[0m\u001b[33m did\u001b[0m\u001b[33m not\u001b[0m\u001b[33m directly\u001b[0m\u001b[33m provide\u001b[0m\u001b[33m a\u001b[0m\u001b[33m solution\u001b[0m\u001b[33m to\u001b[0m\u001b[33m the\u001b[0m\u001b[33m issue\u001b[0m\u001b[33m.\u001b[0m\u001b[33m However\u001b[0m\u001b[33m,\u001b[0m\u001b[33m they\u001b[0m\u001b[33m suggest\u001b[0m\u001b[33m that\u001b[0m\u001b[33m there\u001b[0m\u001b[33m might\u001b[0m\u001b[33m be\u001b[0m\u001b[33m a\u001b[0m\u001b[33m version\u001b[0m\u001b[33m mismatch\u001b[0m\u001b[33m or\u001b[0m\u001b[33m an\u001b[0m\u001b[33m incorrect\u001b[0m\u001b[33m import\u001b[0m\u001b[33m statement\u001b[0m\u001b[33m causing\u001b[0m\u001b[33m the\u001b[0m\u001b[33m set\u001b[0m\u001b[33mHandlers\u001b[0m\u001b[33m method\u001b[0m\u001b[33m not\u001b[0m\u001b[33m to\u001b[0m\u001b[33m be\u001b[0m\u001b[33m found\u001b[0m\u001b[33m.\u001b[0m\u001b[33m I\u001b[0m\u001b[33m will\u001b[0m\u001b[33m now\u001b[0m\u001b[33m recommend\u001b[0m\u001b[33m a\u001b[0m\u001b[33m troubleshooting\u001b[0m\u001b[33m step\u001b[0m\u001b[33m based\u001b[0m\u001b[33m on\u001b[0m\u001b[33m the\u001b[0m\u001b[33m information\u001b[0m\u001b[33m gathered\u001b[0m\u001b[33m.\",\n",
      "\u001b[0m\u001b[33m   \u001b[0m\u001b[33m \"\u001b[0m\u001b[33maction\u001b[0m\u001b[33m\":\u001b[0m\u001b[33m null\u001b[0m\u001b[33m,\n",
      "\u001b[0m\u001b[33m   \u001b[0m\u001b[33m \"\u001b[0m\u001b[33manswer\u001b[0m\u001b[33m\":\u001b[0m\u001b[33m \"\u001b[0m\u001b[33mThe\u001b[0m\u001b[33m error\u001b[0m\u001b[33m message\u001b[0m\u001b[33m indicates\u001b[0m\u001b[33m a\u001b[0m\u001b[33m compilation\u001b[0m\u001b[33m failure\u001b[0m\u001b[33m due\u001b[0m\u001b[33m to\u001b[0m\u001b[33m the\u001b[0m\u001b[33m set\u001b[0m\u001b[33mHandlers\u001b[0m\u001b[33m method\u001b[0m\u001b[33m not\u001b[0m\u001b[33m being\u001b[0m\u001b[33m found\u001b[0m\u001b[33m in\u001b[0m\u001b[33m the\u001b[0m\u001b[33m Under\u001b[0m\u001b[33mtow\u001b[0m\u001b[33m Builder\u001b[0m\u001b[33m class\u001b[0m\u001b[33m.\u001b[0m\u001b[33m This\u001b[0m\u001b[33m could\u001b[0m\u001b[33m be\u001b[0m\u001b[33m due\u001b[0m\u001b[33m to\u001b[0m\u001b[33m a\u001b[0m\u001b[33m version\u001b[0m\u001b[33m mismatch\u001b[0m\u001b[33m in\u001b[0m\u001b[33m the\u001b[0m\u001b[33m Under\u001b[0m\u001b[33mtow\u001b[0m\u001b[33m dependency\u001b[0m\u001b[33m or\u001b[0m\u001b[33m an\u001b[0m\u001b[33m incorrect\u001b[0m\u001b[33m import\u001b[0m\u001b[33m statement\u001b[0m\u001b[33m.\u001b[0m\u001b[33m To\u001b[0m\u001b[33m troubleshoot\u001b[0m\u001b[33m,\u001b[0m\u001b[33m check\u001b[0m\u001b[33m the\u001b[0m\u001b[33m version\u001b[0m\u001b[33m of\u001b[0m\u001b[33m Under\u001b[0m\u001b[33mtow\u001b[0m\u001b[33m being\u001b[0m\u001b[33m used\u001b[0m\u001b[33m in\u001b[0m\u001b[33m your\u001b[0m\u001b[33m project\u001b[0m\u001b[33m and\u001b[0m\u001b[33m ensure\u001b[0m\u001b[33m it\u001b[0m\u001b[33m matches\u001b[0m\u001b[33m the\u001b[0m\u001b[33m version\u001b[0m\u001b[33m that\u001b[0m\u001b[33m has\u001b[0m\u001b[33m the\u001b[0m\u001b[33m set\u001b[0m\u001b[33mHandlers\u001b[0m\u001b[33m method\u001b[0m\u001b[33m.\u001b[0m\u001b[33m Also\u001b[0m\u001b[33m,\u001b[0m\u001b[33m verify\u001b[0m\u001b[33m that\u001b[0m\u001b[33m the\u001b[0m\u001b[33m import\u001b[0m\u001b[33m statements\u001b[0m\u001b[33m for\u001b[0m\u001b[33m Under\u001b[0m\u001b[33mtow\u001b[0m\u001b[33m and\u001b[0m\u001b[33m its\u001b[0m\u001b[33m handlers\u001b[0m\u001b[33m are\u001b[0m\u001b[33m correct\u001b[0m\u001b[33m.\u001b[0m\u001b[33m You\u001b[0m\u001b[33m may\u001b[0m\u001b[33m need\u001b[0m\u001b[33m to\u001b[0m\u001b[33m update\u001b[0m\u001b[33m your\u001b[0m\u001b[33m Maven\u001b[0m\u001b[33m dependencies\u001b[0m\u001b[33m or\u001b[0m\u001b[33m adjust\u001b[0m\u001b[33m your\u001b[0m\u001b[33m import\u001b[0m\u001b[33m statements\u001b[0m\u001b[33m accordingly\u001b[0m\u001b[33m.\"\n",
      "\u001b[0m\u001b[33m}\u001b[0m\u001b[97m\u001b[0m\n",
      "\u001b[30m\u001b[0m"
     ]
    }
   ],
   "source": [
    "simple_react_agent = ReActAgent(\n",
    "    client=client,\n",
    "    model=model_id,\n",
    "    tools=[get_pod_log, \"builtin::websearch\"],\n",
    "    response_format={\n",
    "        \"type\": \"json_schema\",\n",
    "        \"json_schema\": ReActOutput.model_json_schema(),\n",
    "    },\n",
    "    sampling_params=sampling_params,\n",
    ")\n",
    "\n",
    "user_prompts = [\n",
    "    f\"There's a pod {pod_name} in namespace {namespace} with a container {container_name}\"\n",
    "    f\" that's been failing. Read its logs and do a web search to find out why it's been\"\n",
    "    f\" failing and provide a troubleshooting recommendation based your findings.\"\n",
    "]\n",
    "run_session(simple_react_agent, 'react-session', user_prompts)"
   ]
  },
  {
   "cell_type": "markdown",
   "id": "5e77c3e7-dc1d-4e42-900b-c3349cbf48ce",
   "metadata": {},
   "source": [
    "### Key Takeaways\n",
    "- This section demonstrated how to build more capable agents using Prompt Chaining and the ReAct framework.\n",
    "- It showed how agents can maintain context across multiple steps and perform structured, multi-step reasoning.\n",
    "- It highlights how ReAct enables dynamic tool selection and adaptive decision-making based on intermediate results.\n",
    "- These techniques enhance agent autonomy and make them more suitable for complex operational tasks."
   ]
  },
  {
   "cell_type": "markdown",
   "id": "af241950-55cd-40b9-99e1-6fd0e1168d83",
   "metadata": {},
   "source": [
    "## Section 5: MCP Tools\n",
    "\n",
    "Let's now look at more advanced use cases for agents where a single tool call is insufficient to complete the required task.\n",
    "\n",
    "We will also use [MCP tools](https://github.com/modelcontextprotocol/servers) (which can be deployed onto an OpenShift cluster) throughout this section to show users how to extend their agents beyond Llama Stacks's current builtin tools and connect to many different services and data sources to build their own custom agents.  \n",
    "\n",
    "### Agent Example:\n",
    "\n",
    "This notebook will walkthrough how to build a system that can answer the following question via an agent built with Llama Stack:\n",
    "\n",
    "- *\"Review OpenShift logs for the failing pod. If you find an error, search for a solution. Create a Github issue with your findings.\"*\n",
    "\n",
    "### MCP Tools:\n",
    "\n",
    "#### OpenShift MCP Server\n",
    "\n",
    "Throughout this notebook we will be relying on the [Kubernetes MCP server](https://github.com/manusa/kubernetes-mcp-server) by [manusa](https://github.com/manusa) to interact with our OpenShift cluster.\n",
    "\n",
    "#### Github MCP Server\n",
    "\n",
    "Throughout this notebook we will be relying on the [Github MCP server](https://github.com/github/github-mcp-server) by Github to interact with our Github repository."
   ]
  },
  {
   "cell_type": "markdown",
   "id": "281e2032-7541-45a7-8761-c8be2d971514",
   "metadata": {},
   "source": [
    "### Validate tools are available in our Llama Stack instance\n",
    "\n",
    "When an instance of Llama Stack is redeployed, it may be the case that the tools will need to be re-registered. Also if a tool is already registered with a Llama Stack instance, trying to register another one with the same `toolgroup_id` will throw you an error.\n",
    "\n",
    "For this reason, it is recommended to validate your tools and toolgroups. The following code will check that both the `builtin::websearch` and `mcp::openshift` tools are correctly registered, and if not it will attempt to register them using their specific endpoints."
   ]
  },
  {
   "cell_type": "code",
   "execution_count": 28,
   "id": "612debaf-719d-48f7-8185-19a49bb5f949",
   "metadata": {
    "scrolled": true
   },
   "outputs": [
    {
     "data": {
      "text/html": [
       "<pre style=\"white-space:pre;overflow-x:auto;line-height:normal;font-family:Menlo,'DejaVu Sans Mono',consolas,'Courier New',monospace\">Your Llama Stack server is registered with the following tool groups @ <span style=\"font-weight: bold\">{</span><span style=\"color: #008000; text-decoration-color: #008000\">'mcp::github'</span>, <span style=\"color: #008000; text-decoration-color: #008000\">'builtin::websearch'</span>, \n",
       "<span style=\"color: #008000; text-decoration-color: #008000\">'mcp::openshift'</span><span style=\"font-weight: bold\">}</span> \n",
       "\n",
       "</pre>\n"
      ],
      "text/plain": [
       "Your Llama Stack server is registered with the following tool groups @ \u001b[1m{\u001b[0m\u001b[32m'mcp::github'\u001b[0m, \u001b[32m'builtin::websearch'\u001b[0m, \n",
       "\u001b[32m'mcp::openshift'\u001b[0m\u001b[1m}\u001b[0m \n",
       "\n"
      ]
     },
     "metadata": {},
     "output_type": "display_data"
    }
   ],
   "source": [
    "registered_tools = client.tools.list()\n",
    "registered_toolgroups = [t.toolgroup_id for t in registered_tools]\n",
    "if \"mcp::openshift\" not in registered_toolgroups:\n",
    "    client.toolgroups.register(\n",
    "        toolgroup_id=\"mcp::openshift\",\n",
    "        provider_id=\"model-context-protocol\",\n",
    "        mcp_endpoint={\"uri\":lab.ocp_mcp_url},\n",
    "    )\n",
    "\n",
    "print(f\"Your Llama Stack server is registered with the following tool groups @ {set(registered_toolgroups)} \\n\")"
   ]
  },
  {
   "cell_type": "markdown",
   "id": "85041013-2b39-4040-b837-66486f53707c",
   "metadata": {},
   "source": [
    "Now that we've shown that we can successfully accomplish this multi-step multi-tool task using prompt chaining, let's see if we can give our agent a bit more autonomy to perform the same task but with a single prompt instead of a chain. To do this, we will instantiate a **ReAct agent** (which is included in the llama stack python client by default).The ReAct agent is a variant of the simple agent but with the ability to loop through \"Reason then Act\" iterations, thinking through the problem and then using tools until it determines that it's task has been completed successfully.  \n",
    "\n",
    "Unlike prompt chaining which follows fixed steps, ReAct dynamically breaks down tasks and adapts its approach based on the results of each step. This makes it more flexible and capable of handling complex, real-world queries effectively.\n",
    "\n",
    "Below you will see the slight differences in the agent definition and the prompt used to accomplish our task. Be sure to change the redhat-ai-services to $YOUR_GITHUB_USER"
   ]
  },
  {
   "cell_type": "code",
   "execution_count": 33,
   "id": "762a476e-63f3-43d5-bf7a-14514a958c2f",
   "metadata": {},
   "outputs": [
    {
     "data": {
      "text/html": [
       "<pre style=\"white-space:pre;overflow-x:auto;line-height:normal;font-family:Menlo,'DejaVu Sans Mono',consolas,'Courier New',monospace\">Created new session mcp-session\n",
       "</pre>\n"
      ],
      "text/plain": [
       "Created new session mcp-session\n"
      ]
     },
     "metadata": {},
     "output_type": "display_data"
    },
    {
     "data": {
      "text/html": [
       "<pre style=\"white-space:pre;overflow-x:auto;line-height:normal;font-family:Menlo,'DejaVu Sans Mono',consolas,'Courier New',monospace\">Looping over user prompts: <span style=\"font-weight: bold\">[</span><span style=\"color: #008000; text-decoration-color: #008000\">'You are an expert OpenShift administrator. Your task is to analyze pod logs, summarize</span>\n",
       "<span style=\"color: #008000; text-decoration-color: #008000\">the error, and generate a JSON object to create a GitHub issue for tracking. There\\'s a pod </span>\n",
       "<span style=\"color: #008000; text-decoration-color: #008000\">\\'java-app-build-run-bad-fahmmg-build-pod\\' in namespace \\'demo-pipeline\\' with a container \\'step-s2i-build\\' </span>\n",
       "<span style=\"color: #008000; text-decoration-color: #008000\">that\\'s been failing. Review its logs. If the logs indicate an error, do a web search to find out why it\\'s been </span>\n",
       "<span style=\"color: #008000; text-decoration-color: #008000\">failing, using the logs as the \\'query\\' tool parameter name. Create a summary message with the category and </span>\n",
       "<span style=\"color: #008000; text-decoration-color: #008000\">explanation of the error, create a Github issue using {\"name\":\"create_issue\",\"arguments\": </span>\n",
       "<span style=\"color: #008000; text-decoration-color: #008000\">{\"owner\":\"skoussou\",\"repo\":\"etx-agentic-ai\", \"title\":\"Issue with Etx pipeline\",\"body\":\"summary of the error\"}}}. DO</span>\n",
       "<span style=\"color: #008000; text-decoration-color: #008000\">NOT add \"assignees\" or any other optional parameters.'</span><span style=\"font-weight: bold\">]</span>\n",
       "</pre>\n"
      ],
      "text/plain": [
       "Looping over user prompts: \u001b[1m[\u001b[0m\u001b[32m'You are an expert OpenShift administrator. Your task is to analyze pod logs, summarize\u001b[0m\n",
       "\u001b[32mthe error, and generate a JSON object to create a GitHub issue for tracking. There\\'s a pod \u001b[0m\n",
       "\u001b[32m\\'java-app-build-run-bad-fahmmg-build-pod\\' in namespace \\'demo-pipeline\\' with a container \\'step-s2i-build\\' \u001b[0m\n",
       "\u001b[32mthat\\'s been failing. Review its logs. If the logs indicate an error, do a web search to find out why it\\'s been \u001b[0m\n",
       "\u001b[32mfailing, using the logs as the \\'query\\' tool parameter name. Create a summary message with the category and \u001b[0m\n",
       "\u001b[32mexplanation of the error, create a Github issue using \u001b[0m\u001b[32m{\u001b[0m\u001b[32m\"name\":\"create_issue\",\"arguments\": \u001b[0m\n",
       "\u001b[32m{\u001b[0m\u001b[32m\"owner\":\"skoussou\",\"repo\":\"etx-agentic-ai\", \"title\":\"Issue with Etx pipeline\",\"body\":\"summary of the error\"\u001b[0m\u001b[32m}\u001b[0m\u001b[32m}\u001b[0m\u001b[32m}\u001b[0m\u001b[32m. DO\u001b[0m\n",
       "\u001b[32mNOT add \"assignees\" or any other optional parameters.'\u001b[0m\u001b[1m]\u001b[0m\n"
      ]
     },
     "metadata": {},
     "output_type": "display_data"
    },
    {
     "data": {
      "text/html": [
       "<pre style=\"white-space:pre;overflow-x:auto;line-height:normal;font-family:Menlo,'DejaVu Sans Mono',consolas,'Courier New',monospace\">\n",
       "==================================================\n",
       "</pre>\n"
      ],
      "text/plain": [
       "\n",
       "==================================================\n"
      ]
     },
     "metadata": {},
     "output_type": "display_data"
    },
    {
     "name": "stdout",
     "output_type": "stream",
     "text": [
      "\u001b[34mProcessing user query: You are an expert OpenShift administrator. Your task is to analyze pod logs, summarize the error, and generate a JSON object to create a GitHub issue for tracking. There's a pod 'java-app-build-run-bad-fahmmg-build-pod' in namespace 'demo-pipeline' with a container 'step-s2i-build' that's been failing. Review its logs. If the logs indicate an error, do a web search to find out why it's been failing, using the logs as the 'query' tool parameter name. Create a summary message with the category and explanation of the error, create a Github issue using {\"name\":\"create_issue\",\"arguments\": {\"owner\":\"skoussou\",\"repo\":\"etx-agentic-ai\", \"title\":\"Issue with Etx pipeline\",\"body\":\"summary of the error\"}}}. DO NOT add \"assignees\" or any other optional parameters.\u001b[0m\n"
     ]
    },
    {
     "data": {
      "text/html": [
       "<pre style=\"white-space:pre;overflow-x:auto;line-height:normal;font-family:Menlo,'DejaVu Sans Mono',consolas,'Courier New',monospace\">==================================================\n",
       "</pre>\n"
      ],
      "text/plain": [
       "==================================================\n"
      ]
     },
     "metadata": {},
     "output_type": "display_data"
    },
    {
     "name": "stdout",
     "output_type": "stream",
     "text": [
      "\u001b[33minference> \u001b[0m\u001b[33m\u001b[0m\u001b[33m{\n",
      "\u001b[0m\u001b[33m   \u001b[0m\u001b[33m \"\u001b[0m\u001b[33mthought\u001b[0m\u001b[33m\":\u001b[0m\u001b[33m \"\u001b[0m\u001b[33mI\u001b[0m\u001b[33m will\u001b[0m\u001b[33m start\u001b[0m\u001b[33m by\u001b[0m\u001b[33m retrieving\u001b[0m\u001b[33m the\u001b[0m\u001b[33m logs\u001b[0m\u001b[33m of\u001b[0m\u001b[33m the\u001b[0m\u001b[33m pod\u001b[0m\u001b[33m '\u001b[0m\u001b[33mjava\u001b[0m\u001b[33m-app\u001b[0m\u001b[33m-build\u001b[0m\u001b[33m-run\u001b[0m\u001b[33m-b\u001b[0m\u001b[33mad\u001b[0m\u001b[33m-f\u001b[0m\u001b[33mah\u001b[0m\u001b[33mmm\u001b[0m\u001b[33mg\u001b[0m\u001b[33m-build\u001b[0m\u001b[33m-pod\u001b[0m\u001b[33m'\u001b[0m\u001b[33m in\u001b[0m\u001b[33m the\u001b[0m\u001b[33m namespace\u001b[0m\u001b[33m '\u001b[0m\u001b[33mdemo\u001b[0m\u001b[33m-p\u001b[0m\u001b[33mipeline\u001b[0m\u001b[33m'\u001b[0m\u001b[33m for\u001b[0m\u001b[33m the\u001b[0m\u001b[33m container\u001b[0m\u001b[33m '\u001b[0m\u001b[33mstep\u001b[0m\u001b[33m-s\u001b[0m\u001b[33m2\u001b[0m\u001b[33mi\u001b[0m\u001b[33m-build\u001b[0m\u001b[33m'.\u001b[0m\u001b[33m This\u001b[0m\u001b[33m will\u001b[0m\u001b[33m help\u001b[0m\u001b[33m me\u001b[0m\u001b[33m understand\u001b[0m\u001b[33m why\u001b[0m\u001b[33m the\u001b[0m\u001b[33m pod\u001b[0m\u001b[33m is\u001b[0m\u001b[33m failing\u001b[0m\u001b[33m.\",\n",
      "\u001b[0m\u001b[33m   \u001b[0m\u001b[33m \"\u001b[0m\u001b[33maction\u001b[0m\u001b[33m\":\u001b[0m\u001b[33m {\n",
      "\u001b[0m\u001b[33m       \u001b[0m\u001b[33m \"\u001b[0m\u001b[33mtool\u001b[0m\u001b[33m_name\u001b[0m\u001b[33m\":\u001b[0m\u001b[33m \"\u001b[0m\u001b[33mp\u001b[0m\u001b[33mods\u001b[0m\u001b[33m_log\u001b[0m\u001b[33m\",\n",
      "\u001b[0m\u001b[33m       \u001b[0m\u001b[33m \"\u001b[0m\u001b[33mtool\u001b[0m\u001b[33m_params\u001b[0m\u001b[33m\":\u001b[0m\u001b[33m [\n",
      "\u001b[0m\u001b[33m           \u001b[0m\u001b[33m {\n",
      "\u001b[0m\u001b[33m               \u001b[0m\u001b[33m \"\u001b[0m\u001b[33mname\u001b[0m\u001b[33m\":\u001b[0m\u001b[33m \"\u001b[0m\u001b[33mjava\u001b[0m\u001b[33m-app\u001b[0m\u001b[33m-build\u001b[0m\u001b[33m-run\u001b[0m\u001b[33m-b\u001b[0m\u001b[33mad\u001b[0m\u001b[33m-f\u001b[0m\u001b[33mah\u001b[0m\u001b[33mmm\u001b[0m\u001b[33mg\u001b[0m\u001b[33m-build\u001b[0m\u001b[33m-pod\u001b[0m\u001b[33m\",\n",
      "\u001b[0m\u001b[33m               \u001b[0m\u001b[33m \"\u001b[0m\u001b[33mvalue\u001b[0m\u001b[33m\":\u001b[0m\u001b[33m \"\u001b[0m\u001b[33mname\u001b[0m\u001b[33m\"\n",
      "\u001b[0m\u001b[33m           \u001b[0m\u001b[33m },\n",
      "\u001b[0m\u001b[33m           \u001b[0m\u001b[33m {\n",
      "\u001b[0m\u001b[33m               \u001b[0m\u001b[33m \"\u001b[0m\u001b[33mname\u001b[0m\u001b[33m\":\u001b[0m\u001b[33m \"\u001b[0m\u001b[33mdemo\u001b[0m\u001b[33m-p\u001b[0m\u001b[33mipeline\u001b[0m\u001b[33m\",\n",
      "\u001b[0m\u001b[33m               \u001b[0m\u001b[33m \"\u001b[0m\u001b[33mvalue\u001b[0m\u001b[33m\":\u001b[0m\u001b[33m \"\u001b[0m\u001b[33mnamespace\u001b[0m\u001b[33m\"\n",
      "\u001b[0m\u001b[33m           \u001b[0m\u001b[33m },\n",
      "\u001b[0m\u001b[33m           \u001b[0m\u001b[33m {\n",
      "\u001b[0m\u001b[33m               \u001b[0m\u001b[33m \"\u001b[0m\u001b[33mname\u001b[0m\u001b[33m\":\u001b[0m\u001b[33m \"\u001b[0m\u001b[33mstep\u001b[0m\u001b[33m-s\u001b[0m\u001b[33m2\u001b[0m\u001b[33mi\u001b[0m\u001b[33m-build\u001b[0m\u001b[33m\",\n",
      "\u001b[0m\u001b[33m               \u001b[0m\u001b[33m \"\u001b[0m\u001b[33mvalue\u001b[0m\u001b[33m\":\u001b[0m\u001b[33m \"\u001b[0m\u001b[33mcontainer\u001b[0m\u001b[33m\"\n",
      "\u001b[0m\u001b[33m           \u001b[0m\u001b[33m }\n",
      "\u001b[0m\u001b[33m       \u001b[0m\u001b[33m ]\n",
      "\u001b[0m\u001b[33m   \u001b[0m\u001b[33m },\n",
      "\u001b[0m\u001b[33m   \u001b[0m\u001b[33m \"\u001b[0m\u001b[33manswer\u001b[0m\u001b[33m\":\u001b[0m\u001b[33m null\u001b[0m\u001b[33m\n",
      "\u001b[0m\u001b[33m}\u001b[0m\u001b[97m\u001b[0m\n",
      "\u001b[30m\u001b[0m\u001b[32mtool_execution> Tool:pods_log Response:[TextContentItem(text='failed to get pod log, missing argument name', type='text')]\u001b[0m\n",
      "\u001b[33minference> \u001b[0m\u001b[33m\u001b[0m\u001b[33m{\n",
      "\u001b[0m\u001b[33m   \u001b[0m\u001b[33m \"\u001b[0m\u001b[33mthought\u001b[0m\u001b[33m\":\u001b[0m\u001b[33m \"\u001b[0m\u001b[33mI\u001b[0m\u001b[33m will\u001b[0m\u001b[33m correct\u001b[0m\u001b[33m the\u001b[0m\u001b[33m previous\u001b[0m\u001b[33m action\u001b[0m\u001b[33m by\u001b[0m\u001b[33m providing\u001b[0m\u001b[33m the\u001b[0m\u001b[33m correct\u001b[0m\u001b[33m parameters\u001b[0m\u001b[33m to\u001b[0m\u001b[33m get\u001b[0m\u001b[33m the\u001b[0m\u001b[33m pod\u001b[0m\u001b[33m logs\u001b[0m\u001b[33m.\",\n",
      "\u001b[0m\u001b[33m   \u001b[0m\u001b[33m \"\u001b[0m\u001b[33maction\u001b[0m\u001b[33m\":\u001b[0m\u001b[33m {\n",
      "\u001b[0m\u001b[33m       \u001b[0m\u001b[33m \"\u001b[0m\u001b[33mtool\u001b[0m\u001b[33m_name\u001b[0m\u001b[33m\":\u001b[0m\u001b[33m \"\u001b[0m\u001b[33mp\u001b[0m\u001b[33mods\u001b[0m\u001b[33m_log\u001b[0m\u001b[33m\",\n",
      "\u001b[0m\u001b[33m       \u001b[0m\u001b[33m \"\u001b[0m\u001b[33mtool\u001b[0m\u001b[33m_params\u001b[0m\u001b[33m\":\u001b[0m\u001b[33m [\n",
      "\u001b[0m\u001b[33m           \u001b[0m\u001b[33m {\n",
      "\u001b[0m\u001b[33m               \u001b[0m\u001b[33m \"\u001b[0m\u001b[33mname\u001b[0m\u001b[33m\":\u001b[0m\u001b[33m \"\u001b[0m\u001b[33mname\u001b[0m\u001b[33m\",\n",
      "\u001b[0m\u001b[33m               \u001b[0m\u001b[33m \"\u001b[0m\u001b[33mvalue\u001b[0m\u001b[33m\":\u001b[0m\u001b[33m \"\u001b[0m\u001b[33mjava\u001b[0m\u001b[33m-app\u001b[0m\u001b[33m-build\u001b[0m\u001b[33m-run\u001b[0m\u001b[33m-b\u001b[0m\u001b[33mad\u001b[0m\u001b[33m-f\u001b[0m\u001b[33mah\u001b[0m\u001b[33mmm\u001b[0m\u001b[33mg\u001b[0m\u001b[33m-build\u001b[0m\u001b[33m-pod\u001b[0m\u001b[33m\"\n",
      "\u001b[0m\u001b[33m           \u001b[0m\u001b[33m },\n",
      "\u001b[0m\u001b[33m           \u001b[0m\u001b[33m {\n",
      "\u001b[0m\u001b[33m               \u001b[0m\u001b[33m \"\u001b[0m\u001b[33mname\u001b[0m\u001b[33m\":\u001b[0m\u001b[33m \"\u001b[0m\u001b[33mnamespace\u001b[0m\u001b[33m\",\n",
      "\u001b[0m\u001b[33m               \u001b[0m\u001b[33m \"\u001b[0m\u001b[33mvalue\u001b[0m\u001b[33m\":\u001b[0m\u001b[33m \"\u001b[0m\u001b[33mdemo\u001b[0m\u001b[33m-p\u001b[0m\u001b[33mipeline\u001b[0m\u001b[33m\"\n",
      "\u001b[0m\u001b[33m           \u001b[0m\u001b[33m },\n",
      "\u001b[0m\u001b[33m           \u001b[0m\u001b[33m {\n",
      "\u001b[0m\u001b[33m               \u001b[0m\u001b[33m \"\u001b[0m\u001b[33mname\u001b[0m\u001b[33m\":\u001b[0m\u001b[33m \"\u001b[0m\u001b[33mcontainer\u001b[0m\u001b[33m\",\n",
      "\u001b[0m\u001b[33m               \u001b[0m\u001b[33m \"\u001b[0m\u001b[33mvalue\u001b[0m\u001b[33m\":\u001b[0m\u001b[33m \"\u001b[0m\u001b[33mstep\u001b[0m\u001b[33m-s\u001b[0m\u001b[33m2\u001b[0m\u001b[33mi\u001b[0m\u001b[33m-build\u001b[0m\u001b[33m\"\n",
      "\u001b[0m\u001b[33m           \u001b[0m\u001b[33m }\n",
      "\u001b[0m\u001b[33m       \u001b[0m\u001b[33m ]\n",
      "\u001b[0m\u001b[33m   \u001b[0m\u001b[33m },\n",
      "\u001b[0m\u001b[33m   \u001b[0m\u001b[33m \"\u001b[0m\u001b[33manswer\u001b[0m\u001b[33m\":\u001b[0m\u001b[33m null\u001b[0m\u001b[33m\n",
      "\u001b[0m\u001b[33m}\u001b[0m\u001b[97m\u001b[0m\n",
      "\u001b[32mtool_execution> Tool:pods_log Response:[TextContentItem(text='[INFO] Downloaded from central: https://repo1.maven.org/maven2/org/sonatype/plexus/plexus-sec-dispatcher/1.3/plexus-sec-dispatcher-1.3.pom (3.0 kB at 148 kB/s)\\n[INFO] Downloading from central: https://repo1.maven.org/maven2/org/sonatype/spice/spice-parent/12/spice-parent-12.pom\\n[INFO] Downloaded from central: https://repo1.maven.org/maven2/org/sonatype/spice/spice-parent/12/spice-parent-12.pom (6.8 kB at 358 kB/s)\\n[INFO] Downloading from central: https://repo1.maven.org/maven2/org/sonatype/forge/forge-parent/4/forge-parent-4.pom\\n[INFO] Downloaded from central: https://repo1.maven.org/maven2/org/sonatype/forge/forge-parent/4/forge-parent-4.pom (8.4 kB at 442 kB/s)\\n[INFO] Downloading from central: https://repo1.maven.org/maven2/org/codehaus/plexus/plexus-utils/1.5.5/plexus-utils-1.5.5.pom\\n[INFO] Downloaded from central: https://repo1.maven.org/maven2/org/codehaus/plexus/plexus-utils/1.5.5/plexus-utils-1.5.5.pom (5.1 kB at 214 kB/s)\\n[INFO] Downloading from central: https://repo1.maven.org/maven2/org/sonatype/plexus/plexus-cipher/1.4/plexus-cipher-1.4.pom\\n[INFO] Downloaded from central: https://repo1.maven.org/maven2/org/sonatype/plexus/plexus-cipher/1.4/plexus-cipher-1.4.pom (2.1 kB at 103 kB/s)\\n[INFO] Downloading from central: https://repo1.maven.org/maven2/org/codehaus/plexus/plexus-component-annotations/1.5.5/plexus-component-annotations-1.5.5.pom\\n[INFO] Downloaded from central: https://repo1.maven.org/maven2/org/codehaus/plexus/plexus-component-annotations/1.5.5/plexus-component-annotations-1.5.5.pom (815 B at 43 kB/s)\\n[INFO] Downloading from central: https://repo1.maven.org/maven2/org/codehaus/plexus/plexus-containers/1.5.5/plexus-containers-1.5.5.pom\\n[INFO] Downloaded from central: https://repo1.maven.org/maven2/org/codehaus/plexus/plexus-containers/1.5.5/plexus-containers-1.5.5.pom (4.2 kB at 223 kB/s)\\n[INFO] Downloading from central: https://repo1.maven.org/maven2/org/codehaus/plexus/plexus/2.0.7/plexus-2.0.7.pom\\n[INFO] Downloaded from central: https://repo1.maven.org/maven2/org/codehaus/plexus/plexus/2.0.7/plexus-2.0.7.pom (17 kB at 865 kB/s)\\n[INFO] Downloading from central: https://repo1.maven.org/maven2/org/codehaus/plexus/plexus-compiler-api/2.2/plexus-compiler-api-2.2.pom\\n[INFO] Downloaded from central: https://repo1.maven.org/maven2/org/codehaus/plexus/plexus-compiler-api/2.2/plexus-compiler-api-2.2.pom (865 B at 43 kB/s)\\n[INFO] Downloading from central: https://repo1.maven.org/maven2/org/codehaus/plexus/plexus-compiler/2.2/plexus-compiler-2.2.pom\\n[INFO] Downloaded from central: https://repo1.maven.org/maven2/org/codehaus/plexus/plexus-compiler/2.2/plexus-compiler-2.2.pom (3.6 kB at 181 kB/s)\\n[INFO] Downloading from central: https://repo1.maven.org/maven2/org/codehaus/plexus/plexus-components/1.3.1/plexus-components-1.3.1.pom\\n[INFO] Downloaded from central: https://repo1.maven.org/maven2/org/codehaus/plexus/plexus-components/1.3.1/plexus-components-1.3.1.pom (3.1 kB at 153 kB/s)\\n[INFO] Downloading from central: https://repo1.maven.org/maven2/org/codehaus/plexus/plexus/3.3.1/plexus-3.3.1.pom\\n[INFO] Downloaded from central: https://repo1.maven.org/maven2/org/codehaus/plexus/plexus/3.3.1/plexus-3.3.1.pom (20 kB at 1.0 MB/s)\\n[INFO] Downloading from central: https://repo1.maven.org/maven2/org/sonatype/spice/spice-parent/17/spice-parent-17.pom\\n[INFO] Downloaded from central: https://repo1.maven.org/maven2/org/sonatype/spice/spice-parent/17/spice-parent-17.pom (6.8 kB at 338 kB/s)\\n[INFO] Downloading from central: https://repo1.maven.org/maven2/org/sonatype/forge/forge-parent/10/forge-parent-10.pom\\n[INFO] Downloaded from central: https://repo1.maven.org/maven2/org/sonatype/forge/forge-parent/10/forge-parent-10.pom (14 kB at 714 kB/s)\\n[INFO] Downloading from central: https://repo1.maven.org/maven2/org/codehaus/plexus/plexus-utils/3.0.8/plexus-utils-3.0.8.pom\\n[INFO] Downloaded from central: https://repo1.maven.org/maven2/org/codehaus/plexus/plexus-utils/3.0.8/plexus-utils-3.0.8.pom (3.1 kB at 165 kB/s)\\n[INFO] Downloading from central: https://repo1.maven.org/maven2/org/codehaus/plexus/plexus/3.2/plexus-3.2.pom\\n[INFO] Downloaded from central: https://repo1.maven.org/maven2/org/codehaus/plexus/plexus/3.2/plexus-3.2.pom (19 kB at 893 kB/s)\\n[INFO] Downloading from central: https://repo1.maven.org/maven2/org/codehaus/plexus/plexus-compiler-manager/2.2/plexus-compiler-manager-2.2.pom\\n[INFO] Downloaded from central: https://repo1.maven.org/maven2/org/codehaus/plexus/plexus-compiler-manager/2.2/plexus-compiler-manager-2.2.pom (690 B at 34 kB/s)\\n[INFO] Downloading from central: https://repo1.maven.org/maven2/org/codehaus/plexus/plexus-compiler-javac/2.2/plexus-compiler-javac-2.2.pom\\n[INFO] Downloaded from central: https://repo1.maven.org/maven2/org/codehaus/plexus/plexus-compiler-javac/2.2/plexus-compiler-javac-2.2.pom (769 B at 40 kB/s)\\n[INFO] Downloading from central: https://repo1.maven.org/maven2/org/codehaus/plexus/plexus-compilers/2.2/plexus-compilers-2.2.pom\\n[INFO] Downloaded from central: https://repo1.maven.org/maven2/org/codehaus/plexus/plexus-compilers/2.2/plexus-compilers-2.2.pom (1.2 kB at 65 kB/s)\\n[INFO] Downloading from central: https://repo1.maven.org/maven2/org/codehaus/plexus/plexus-container-default/1.5.5/plexus-container-default-1.5.5.pom\\n[INFO] Downloaded from central: https://repo1.maven.org/maven2/org/codehaus/plexus/plexus-container-default/1.5.5/plexus-container-default-1.5.5.pom (2.8 kB at 145 kB/s)\\n[INFO] Downloading from central: https://repo1.maven.org/maven2/org/codehaus/plexus/plexus-utils/1.4.5/plexus-utils-1.4.5.pom\\n[INFO] Downloaded from central: https://repo1.maven.org/maven2/org/codehaus/plexus/plexus-utils/1.4.5/plexus-utils-1.4.5.pom (2.3 kB at 113 kB/s)\\n[INFO] Downloading from central: https://repo1.maven.org/maven2/org/codehaus/plexus/plexus-classworlds/2.2.2/plexus-classworlds-2.2.2.pom\\n[INFO] Downloaded from central: https://repo1.maven.org/maven2/org/codehaus/plexus/plexus-classworlds/2.2.2/plexus-classworlds-2.2.2.pom (4.0 kB at 212 kB/s)\\n[INFO] Downloading from central: https://repo1.maven.org/maven2/org/apache/xbean/xbean-reflect/3.4/xbean-reflect-3.4.pom\\n[INFO] Downloaded from central: https://repo1.maven.org/maven2/org/apache/xbean/xbean-reflect/3.4/xbean-reflect-3.4.pom (2.8 kB at 140 kB/s)\\n[INFO] Downloading from central: https://repo1.maven.org/maven2/org/apache/xbean/xbean/3.4/xbean-3.4.pom\\n[INFO] Downloaded from central: https://repo1.maven.org/maven2/org/apache/xbean/xbean/3.4/xbean-3.4.pom (19 kB at 975 kB/s)\\n[INFO] Downloading from central: https://repo1.maven.org/maven2/log4j/log4j/1.2.12/log4j-1.2.12.pom\\n[INFO] Downloaded from central: https://repo1.maven.org/maven2/log4j/log4j/1.2.12/log4j-1.2.12.pom (145 B at 7.6 kB/s)\\n[INFO] Downloading from central: https://repo1.maven.org/maven2/commons-logging/commons-logging-api/1.1/commons-logging-api-1.1.pom\\n[INFO] Downloaded from central: https://repo1.maven.org/maven2/commons-logging/commons-logging-api/1.1/commons-logging-api-1.1.pom (5.3 kB at 281 kB/s)\\n[INFO] Downloading from central: https://repo1.maven.org/maven2/com/google/collections/google-collections/1.0/google-collections-1.0.pom\\n[INFO] Downloaded from central: https://repo1.maven.org/maven2/com/google/collections/google-collections/1.0/google-collections-1.0.pom (2.5 kB at 118 kB/s)\\n[INFO] Downloading from central: https://repo1.maven.org/maven2/com/google/google/1/google-1.pom\\n[INFO] Downloaded from central: https://repo1.maven.org/maven2/com/google/google/1/google-1.pom (1.6 kB at 74 kB/s)\\n[INFO] Downloading from central: https://repo1.maven.org/maven2/junit/junit/3.8.2/junit-3.8.2.pom\\n[INFO] Downloaded from central: https://repo1.maven.org/maven2/junit/junit/3.8.2/junit-3.8.2.pom (747 B at 39 kB/s)\\n[INFO] Downloading from central: https://repo1.maven.org/maven2/org/apache/maven/maven-plugin-api/2.0.9/maven-plugin-api-2.0.9.jar\\n[INFO] Downloading from central: https://repo1.maven.org/maven2/org/apache/maven/maven-artifact/2.0.9/maven-artifact-2.0.9.jar\\n[INFO] Downloading from central: https://repo1.maven.org/maven2/org/codehaus/plexus/plexus-utils/1.5.1/plexus-utils-1.5.1.jar\\n[INFO] Downloading from central: https://repo1.maven.org/maven2/org/apache/maven/maven-core/2.0.9/maven-core-2.0.9.jar\\n[INFO] Downloading from central: https://repo1.maven.org/maven2/org/apache/maven/maven-settings/2.0.9/maven-settings-2.0.9.jar\\n[INFO] Downloaded from central: https://repo1.maven.org/maven2/org/apache/maven/maven-plugin-api/2.0.9/maven-plugin-api-2.0.9.jar (13 kB at 614 kB/s)\\n[INFO] Downloaded from central: https://repo1.maven.org/maven2/org/apache/maven/maven-artifact/2.0.9/maven-artifact-2.0.9.jar (89 kB at 4.2 MB/s)\\n[INFO] Downloading from central: https://repo1.maven.org/maven2/org/apache/maven/maven-plugin-parameter-documenter/2.0.9/maven-plugin-parameter-documenter-2.0.9.jar\\n[INFO] Downloading from central: https://repo1.maven.org/maven2/org/apache/maven/maven-profile/2.0.9/maven-profile-2.0.9.jar\\n[INFO] Downloaded from central: https://repo1.maven.org/maven2/org/codehaus/plexus/plexus-utils/1.5.1/plexus-utils-1.5.1.jar (211 kB at 9.6 MB/s)\\n[INFO] Downloading from central: https://repo1.maven.org/maven2/org/apache/maven/maven-model/2.0.9/maven-model-2.0.9.jar\\n[INFO] Downloaded from central: https://repo1.maven.org/maven2/org/apache/maven/maven-core/2.0.9/maven-core-2.0.9.jar (160 kB at 6.7 MB/s)\\n[INFO] Downloading from central: https://repo1.maven.org/maven2/org/apache/maven/maven-repository-metadata/2.0.9/maven-repository-metadata-2.0.9.jar\\n[INFO] Downloaded from central: https://repo1.maven.org/maven2/org/apache/maven/maven-settings/2.0.9/maven-settings-2.0.9.jar (49 kB at 1.9 MB/s)\\n[INFO] Downloading from central: https://repo1.maven.org/maven2/org/apache/maven/maven-error-diagnostics/2.0.9/maven-error-diagnostics-2.0.9.jar\\n[INFO] Downloaded from central: https://repo1.maven.org/maven2/org/apache/maven/maven-plugin-parameter-documenter/2.0.9/maven-plugin-parameter-documenter-2.0.9.jar (21 kB at 522 kB/s)\\n[INFO] Downloading from central: https://repo1.maven.org/maven2/org/apache/maven/maven-project/2.0.9/maven-project-2.0.9.jar\\n[INFO] Downloaded from central: https://repo1.maven.org/maven2/org/apache/maven/maven-model/2.0.9/maven-model-2.0.9.jar (87 kB at 2.2 MB/s)\\n[INFO] Downloading from central: https://repo1.maven.org/maven2/org/apache/maven/maven-plugin-registry/2.0.9/maven-plugin-registry-2.0.9.jar\\n[INFO] Downloaded from central: https://repo1.maven.org/maven2/org/apache/maven/maven-profile/2.0.9/maven-profile-2.0.9.jar (35 kB at 884 kB/s)\\n[INFO] Downloading from central: https://repo1.maven.org/maven2/org/apache/maven/maven-plugin-descriptor/2.0.9/maven-plugin-descriptor-2.0.9.jar\\n[INFO] Downloaded from central: https://repo1.maven.org/maven2/org/apache/maven/maven-repository-metadata/2.0.9/maven-repository-metadata-2.0.9.jar (25 kB at 571 kB/s)\\n[INFO] Downloading from central: https://repo1.maven.org/maven2/org/apache/maven/maven-artifact-manager/2.0.9/maven-artifact-manager-2.0.9.jar\\n[INFO] Downloaded from central: https://repo1.maven.org/maven2/org/apache/maven/maven-error-diagnostics/2.0.9/maven-error-diagnostics-2.0.9.jar (14 kB at 306 kB/s)\\n[INFO] Downloading from central: https://repo1.maven.org/maven2/org/apache/maven/maven-monitor/2.0.9/maven-monitor-2.0.9.jar\\n[INFO] Downloaded from central: https://repo1.maven.org/maven2/org/apache/maven/maven-plugin-descriptor/2.0.9/maven-plugin-descriptor-2.0.9.jar (37 kB at 628 kB/s)\\n[INFO] Downloading from central: https://repo1.maven.org/maven2/org/apache/maven/maven-toolchain/1.0/maven-toolchain-1.0.jar\\n[INFO] Downloaded from central: https://repo1.maven.org/maven2/org/apache/maven/maven-project/2.0.9/maven-project-2.0.9.jar (122 kB at 2.0 MB/s)\\n[INFO] Downloaded from central: https://repo1.maven.org/maven2/org/apache/maven/maven-plugin-registry/2.0.9/maven-plugin-registry-2.0.9.jar (29 kB at 485 kB/s)\\n[INFO] Downloading from central: https://repo1.maven.org/maven2/org/apache/maven/shared/maven-shared-utils/0.1/maven-shared-utils-0.1.jar\\n[INFO] Downloading from central: https://repo1.maven.org/maven2/com/google/code/findbugs/jsr305/2.0.1/jsr305-2.0.1.jar\\n[INFO] Downloaded from central: https://repo1.maven.org/maven2/org/apache/maven/maven-artifact-manager/2.0.9/maven-artifact-manager-2.0.9.jar (58 kB at 933 kB/s)\\n[INFO] Downloading from central: https://repo1.maven.org/maven2/org/apache/maven/shared/maven-shared-incremental/1.1/maven-shared-incremental-1.1.jar\\n[INFO] Downloaded from central: https://repo1.maven.org/maven2/org/apache/maven/maven-monitor/2.0.9/maven-monitor-2.0.9.jar (10 kB at 158 kB/s)\\n[INFO] Downloading from central: https://repo1.maven.org/maven2/org/codehaus/plexus/plexus-component-annotations/1.5.5/plexus-component-annotations-1.5.5.jar\\n[INFO] Downloaded from central: https://repo1.maven.org/maven2/com/google/code/findbugs/jsr305/2.0.1/jsr305-2.0.1.jar (32 kB at 393 kB/s)\\n[INFO] Downloading from central: https://repo1.maven.org/maven2/org/codehaus/plexus/plexus-compiler-api/2.2/plexus-compiler-api-2.2.jar\\n[INFO] Downloaded from central: https://repo1.maven.org/maven2/org/apache/maven/shared/maven-shared-utils/0.1/maven-shared-utils-0.1.jar (155 kB at 1.9 MB/s)\\n[INFO] Downloading from central: https://repo1.maven.org/maven2/org/codehaus/plexus/plexus-compiler-manager/2.2/plexus-compiler-manager-2.2.jar\\n[INFO] Downloaded from central: https://repo1.maven.org/maven2/org/apache/maven/shared/maven-shared-incremental/1.1/maven-shared-incremental-1.1.jar (14 kB at 169 kB/s)\\n[INFO] Downloaded from central: https://repo1.maven.org/maven2/org/apache/maven/maven-toolchain/1.0/maven-toolchain-1.0.jar (33 kB at 406 kB/s)\\n[INFO] Downloading from central: https://repo1.maven.org/maven2/org/codehaus/plexus/plexus-compiler-javac/2.2/plexus-compiler-javac-2.2.jar\\n[INFO] Downloading from central: https://repo1.maven.org/maven2/org/codehaus/plexus/plexus-container-default/1.5.5/plexus-container-default-1.5.5.jar\\n[INFO] Downloaded from central: https://repo1.maven.org/maven2/org/codehaus/plexus/plexus-component-annotations/1.5.5/plexus-component-annotations-1.5.5.jar (4.2 kB at 50 kB/s)\\n[INFO] Downloading from central: https://repo1.maven.org/maven2/org/codehaus/plexus/plexus-classworlds/2.2.2/plexus-classworlds-2.2.2.jar\\n[INFO] Downloaded from central: https://repo1.maven.org/maven2/org/codehaus/plexus/plexus-compiler-javac/2.2/plexus-compiler-javac-2.2.jar (19 kB at 192 kB/s)\\n[INFO] Downloading from central: https://repo1.maven.org/maven2/org/apache/xbean/xbean-reflect/3.4/xbean-reflect-3.4.jar\\n[INFO] Downloaded from central: https://repo1.maven.org/maven2/org/codehaus/plexus/plexus-compiler-manager/2.2/plexus-compiler-manager-2.2.jar (4.6 kB at 46 kB/s)\\n[INFO] Downloading from central: https://repo1.maven.org/maven2/log4j/log4j/1.2.12/log4j-1.2.12.jar\\n[INFO] Downloaded from central: https://repo1.maven.org/maven2/org/codehaus/plexus/plexus-compiler-api/2.2/plexus-compiler-api-2.2.jar (25 kB at 247 kB/s)\\n[INFO] Downloading from central: https://repo1.maven.org/maven2/commons-logging/commons-logging-api/1.1/commons-logging-api-1.1.jar\\n[INFO] Downloaded from central: https://repo1.maven.org/maven2/org/codehaus/plexus/plexus-container-default/1.5.5/plexus-container-default-1.5.5.jar (217 kB at 2.1 MB/s)\\n[INFO] Downloading from central: https://repo1.maven.org/maven2/com/google/collections/google-collections/1.0/google-collections-1.0.jar\\n[INFO] Downloaded from central: https://repo1.maven.org/maven2/org/codehaus/plexus/plexus-classworlds/2.2.2/plexus-classworlds-2.2.2.jar (46 kB at 452 kB/s)\\n[INFO] Downloading from central: https://repo1.maven.org/maven2/junit/junit/3.8.2/junit-3.8.2.jar\\n[INFO] Downloaded from central: https://repo1.maven.org/maven2/org/apache/xbean/xbean-reflect/3.4/xbean-reflect-3.4.jar (134 kB at 1.1 MB/s)\\n[INFO] Downloaded from central: https://repo1.maven.org/maven2/commons-logging/commons-logging-api/1.1/commons-logging-api-1.1.jar (45 kB at 369 kB/s)\\n[INFO] Downloaded from central: https://repo1.maven.org/maven2/junit/junit/3.8.2/junit-3.8.2.jar (121 kB at 989 kB/s)\\n[INFO] Downloaded from central: https://repo1.maven.org/maven2/log4j/log4j/1.2.12/log4j-1.2.12.jar (358 kB at 2.9 MB/s)\\n[INFO] Downloaded from central: https://repo1.maven.org/maven2/com/google/collections/google-collections/1.0/google-collections-1.0.jar (640 kB at 5.0 MB/s)\\n[INFO] Changes detected - recompiling the module!\\n[WARNING] File encoding has not been set, using platform encoding UTF-8, i.e. build is platform dependent!\\n[INFO] Compiling 2 source files to /tmp/src/target/classes\\n[INFO] -------------------------------------------------------------\\n[ERROR] COMPILATION ERROR : \\n[INFO] -------------------------------------------------------------\\n[ERROR] /tmp/src/src/main/java/org/openshift/quickstarts/undertow/servlet/ServletServer.java:[82,21] cannot find symbol\\n  symbol:   method setHandlers(io.undertow.server.handlers.PathHandler)\\n  location: class io.undertow.Undertow.Builder\\n[INFO] 1 error\\n[INFO] -------------------------------------------------------------\\n[INFO] ------------------------------------------------------------------------\\n[INFO] BUILD FAILURE\\n[INFO] ------------------------------------------------------------------------\\n[INFO] Total time:  6.315 s\\n[INFO] Finished at: 2025-09-10T13:10:32Z\\n[INFO] ------------------------------------------------------------------------\\n[WARNING] The requested profile \"openshift\" could not be activated because it does not exist.\\n[ERROR] Failed to execute goal org.apache.maven.plugins:maven-compiler-plugin:3.1:compile (default-compile) on project servlet: Compilation failure\\n[ERROR] /tmp/src/src/main/java/org/openshift/quickstarts/undertow/servlet/ServletServer.java:[82,21] cannot find symbol\\n[ERROR]   symbol:   method setHandlers(io.undertow.server.handlers.PathHandler)\\n[ERROR]   location: class io.undertow.Undertow.Builder\\n[ERROR] -> [Help 1]\\norg.apache.maven.lifecycle.LifecycleExecutionException: Failed to execute goal org.apache.maven.plugins:maven-compiler-plugin:3.1:compile (default-compile) on project servlet: Compilation failure\\n/tmp/src/src/main/java/org/openshift/quickstarts/undertow/servlet/ServletServer.java:[82,21] cannot find symbol\\n  symbol:   method setHandlers(io.undertow.server.handlers.PathHandler)\\n  location: class io.undertow.Undertow.Builder\\n\\n    at org.apache.maven.lifecycle.internal.MojoExecutor.doExecute (MojoExecutor.java:306)\\n    at org.apache.maven.lifecycle.internal.MojoExecutor.execute (MojoExecutor.java:211)\\n    at org.apache.maven.lifecycle.internal.MojoExecutor.execute (MojoExecutor.java:165)\\n    at org.apache.maven.lifecycle.internal.MojoExecutor.execute (MojoExecutor.java:157)\\n    at org.apache.maven.lifecycle.internal.LifecycleModuleBuilder.buildProject (LifecycleModuleBuilder.java:121)\\n    at org.apache.maven.lifecycle.internal.LifecycleModuleBuilder.buildProject (LifecycleModuleBuilder.java:81)\\n    at org.apache.maven.lifecycle.internal.builder.singlethreaded.SingleThreadedBuilder.build (SingleThreadedBuilder.java:56)\\n    at org.apache.maven.lifecycle.internal.LifecycleStarter.execute (LifecycleStarter.java:127)\\n    at org.apache.maven.DefaultMaven.doExecute (DefaultMaven.java:294)\\n    at org.apache.maven.DefaultMaven.doExecute (DefaultMaven.java:192)\\n    at org.apache.maven.DefaultMaven.execute (DefaultMaven.java:105)\\n    at org.apache.maven.cli.MavenCli.execute (MavenCli.java:960)\\n    at org.apache.maven.cli.MavenCli.doMain (MavenCli.java:293)\\n    at org.apache.maven.cli.MavenCli.main (MavenCli.java:196)\\n    at jdk.internal.reflect.NativeMethodAccessorImpl.invoke0 (Native Method)\\n    at jdk.internal.reflect.NativeMethodAccessorImpl.invoke (NativeMethodAccessorImpl.java:77)\\n    at jdk.internal.reflect.DelegatingMethodAccessorImpl.invoke (DelegatingMethodAccessorImpl.java:43)\\n    at java.lang.reflect.Method.invoke (Method.java:569)\\n    at org.codehaus.plexus.classworlds.launcher.Launcher.launchEnhanced (Launcher.java:282)\\n    at org.codehaus.plexus.classworlds.launcher.Launcher.launch (Launcher.java:225)\\n    at org.codehaus.plexus.classworlds.launcher.Launcher.mainWithExitCode (Launcher.java:406)\\n    at org.codehaus.plexus.classworlds.launcher.Launcher.main (Launcher.java:347)\\nCaused by: org.apache.maven.plugin.compiler.CompilationFailureException: Compilation failure\\n/tmp/src/src/main/java/org/openshift/quickstarts/undertow/servlet/ServletServer.java:[82,21] cannot find symbol\\n  symbol:   method setHandlers(io.undertow.server.handlers.PathHandler)\\n  location: class io.undertow.Undertow.Builder\\n\\n    at org.apache.maven.plugin.compiler.AbstractCompilerMojo.execute (AbstractCompilerMojo.java:858)\\n    at org.apache.maven.plugin.compiler.CompilerMojo.execute (CompilerMojo.java:129)\\n    at org.apache.maven.plugin.DefaultBuildPluginManager.executeMojo (DefaultBuildPluginManager.java:137)\\n    at org.apache.maven.lifecycle.internal.MojoExecutor.doExecute (MojoExecutor.java:301)\\n    at org.apache.maven.lifecycle.internal.MojoExecutor.execute (MojoExecutor.java:211)\\n    at org.apache.maven.lifecycle.internal.MojoExecutor.execute (MojoExecutor.java:165)\\n    at org.apache.maven.lifecycle.internal.MojoExecutor.execute (MojoExecutor.java:157)\\n    at org.apache.maven.lifecycle.internal.LifecycleModuleBuilder.buildProject (LifecycleModuleBuilder.java:121)\\n    at org.apache.maven.lifecycle.internal.LifecycleModuleBuilder.buildProject (LifecycleModuleBuilder.java:81)\\n    at org.apache.maven.lifecycle.internal.builder.singlethreaded.SingleThreadedBuilder.build (SingleThreadedBuilder.java:56)\\n    at org.apache.maven.lifecycle.internal.LifecycleStarter.execute (LifecycleStarter.java:127)\\n    at org.apache.maven.DefaultMaven.doExecute (DefaultMaven.java:294)\\n    at org.apache.maven.DefaultMaven.doExecute (DefaultMaven.java:192)\\n    at org.apache.maven.DefaultMaven.execute (DefaultMaven.java:105)\\n    at org.apache.maven.cli.MavenCli.execute (MavenCli.java:960)\\n    at org.apache.maven.cli.MavenCli.doMain (MavenCli.java:293)\\n    at org.apache.maven.cli.MavenCli.main (MavenCli.java:196)\\n    at jdk.internal.reflect.NativeMethodAccessorImpl.invoke0 (Native Method)\\n    at jdk.internal.reflect.NativeMethodAccessorImpl.invoke (NativeMethodAccessorImpl.java:77)\\n    at jdk.internal.reflect.DelegatingMethodAccessorImpl.invoke (DelegatingMethodAccessorImpl.java:43)\\n    at java.lang.reflect.Method.invoke (Method.java:569)\\n    at org.codehaus.plexus.classworlds.launcher.Launcher.launchEnhanced (Launcher.java:282)\\n    at org.codehaus.plexus.classworlds.launcher.Launcher.launch (Launcher.java:225)\\n    at org.codehaus.plexus.classworlds.launcher.Launcher.mainWithExitCode (Launcher.java:406)\\n    at org.codehaus.plexus.classworlds.launcher.Launcher.main (Launcher.java:347)\\n[ERROR] \\n[ERROR] Re-run Maven using the -X switch to enable full debug logging.\\n[ERROR] \\n[ERROR] For more information about the errors and possible solutions, please read the following articles:\\n[ERROR] [Help 1] http://cwiki.apache.org/confluence/display/MAVEN/MojoFailureException\\nsubprocess exited with status 1\\nsubprocess exited with status 1\\nError: building at STEP \"RUN /usr/local/s2i/assemble\": exit status 1\\n', type='text')]\u001b[0m\n",
      "\u001b[33minference> \u001b[0m\u001b[33m\u001b[0m\u001b[33m{\n",
      "\u001b[0m\u001b[33m   \u001b[0m\u001b[33m \"\u001b[0m\u001b[33mthought\u001b[0m\u001b[33m\":\u001b[0m\u001b[33m \"\u001b[0m\u001b[33mThe\u001b[0m\u001b[33m pod\u001b[0m\u001b[33m logs\u001b[0m\u001b[33m indicate\u001b[0m\u001b[33m a\u001b[0m\u001b[33m compilation\u001b[0m\u001b[33m error\u001b[0m\u001b[33m in\u001b[0m\u001b[33m the\u001b[0m\u001b[33m Java\u001b[0m\u001b[33m application\u001b[0m\u001b[33m.\u001b[0m\u001b[33m The\u001b[0m\u001b[33m error\u001b[0m\u001b[33m message\u001b[0m\u001b[33m suggests\u001b[0m\u001b[33m that\u001b[0m\u001b[33m the\u001b[0m\u001b[33m method\u001b[0m\u001b[33m '\u001b[0m\u001b[33mset\u001b[0m\u001b[33mHandlers\u001b[0m\u001b[33m'\u001b[0m\u001b[33m cannot\u001b[0m\u001b[33m be\u001b[0m\u001b[33m found\u001b[0m\u001b[33m in\u001b[0m\u001b[33m the\u001b[0m\u001b[33m '\u001b[0m\u001b[33mio\u001b[0m\u001b[33m.\u001b[0m\u001b[33mundert\u001b[0m\u001b[33mow\u001b[0m\u001b[33m.\u001b[0m\u001b[33mUnder\u001b[0m\u001b[33mtow\u001b[0m\u001b[33m.Builder\u001b[0m\u001b[33m'\u001b[0m\u001b[33m class\u001b[0m\u001b[33m.\u001b[0m\u001b[33m This\u001b[0m\u001b[33m could\u001b[0m\u001b[33m be\u001b[0m\u001b[33m due\u001b[0m\u001b[33m to\u001b[0m\u001b[33m a\u001b[0m\u001b[33m change\u001b[0m\u001b[33m in\u001b[0m\u001b[33m the\u001b[0m\u001b[33m Under\u001b[0m\u001b[33mtow\u001b[0m\u001b[33m API\u001b[0m\u001b[33m.\u001b[0m\u001b[33m I\u001b[0m\u001b[33m will\u001b[0m\u001b[33m perform\u001b[0m\u001b[33m a\u001b[0m\u001b[33m web\u001b[0m\u001b[33m search\u001b[0m\u001b[33m to\u001b[0m\u001b[33m find\u001b[0m\u001b[33m more\u001b[0m\u001b[33m information\u001b[0m\u001b[33m about\u001b[0m\u001b[33m this\u001b[0m\u001b[33m issue\u001b[0m\u001b[33m.\",\n",
      "\u001b[0m\u001b[33m   \u001b[0m\u001b[33m \"\u001b[0m\u001b[33maction\u001b[0m\u001b[33m\":\u001b[0m\u001b[33m {\n",
      "\u001b[0m\u001b[33m       \u001b[0m\u001b[33m \"\u001b[0m\u001b[33mtool\u001b[0m\u001b[33m_name\u001b[0m\u001b[33m\":\u001b[0m\u001b[33m \"\u001b[0m\u001b[33mweb\u001b[0m\u001b[33m_search\u001b[0m\u001b[33m\",\n",
      "\u001b[0m\u001b[33m       \u001b[0m\u001b[33m \"\u001b[0m\u001b[33mtool\u001b[0m\u001b[33m_params\u001b[0m\u001b[33m\":\u001b[0m\u001b[33m [\n",
      "\u001b[0m\u001b[33m           \u001b[0m\u001b[33m {\n",
      "\u001b[0m\u001b[33m               \u001b[0m\u001b[33m \"\u001b[0m\u001b[33mname\u001b[0m\u001b[33m\":\u001b[0m\u001b[33m \"\u001b[0m\u001b[33mquery\u001b[0m\u001b[33m\",\n",
      "\u001b[0m\u001b[33m               \u001b[0m\u001b[33m \"\u001b[0m\u001b[33mvalue\u001b[0m\u001b[33m\":\u001b[0m\u001b[33m \"\u001b[0m\u001b[33mundert\u001b[0m\u001b[33mow\u001b[0m\u001b[33m set\u001b[0m\u001b[33mHandlers\u001b[0m\u001b[33m method\u001b[0m\u001b[33m not\u001b[0m\u001b[33m found\u001b[0m\u001b[33m\"\n",
      "\u001b[0m\u001b[33m           \u001b[0m\u001b[33m }\n",
      "\u001b[0m\u001b[33m       \u001b[0m\u001b[33m ]\n",
      "\u001b[0m\u001b[33m   \u001b[0m\u001b[33m },\n",
      "\u001b[0m\u001b[33m   \u001b[0m\u001b[33m \"\u001b[0m\u001b[33manswer\u001b[0m\u001b[33m\":\u001b[0m\u001b[33m null\u001b[0m\u001b[33m\n",
      "\u001b[0m\u001b[33m}\u001b[0m\u001b[97m\u001b[0m\n",
      "\u001b[32mtool_execution> Tool:web_search Response:{\"query\": \"undertow setHandlers method not found\", \"top_k\": [{\"url\": \"https://github.com/naver/pinpoint/issues/5442\", \"title\": \"Enhancement Undertow Plugin \\u00b7 Issue #5442 - GitHub\", \"content\": \"Apr 1, 2019\\u00b7# The HttpHandler class name is an argument of the Undertow.builder().setHandler(httpHandler) method. # Support ANT style pattern. e.g. foo\", \"score\": 0.5278769, \"raw_content\": null}, {\"url\": \"https://docs.redhat.com/de/documentation/red_hat_jboss_enterprise_application_platform/7.3/html/development_guide/undertow\", \"title\": \"Chapter 10. Undertow | Red Hat JBoss Enterprise Application Platform\", \"content\": \"A full list of the provided Undertow handlers can be found in the Provided Undertow Handlers reference. 10.3. Creating Custom Handlers. Link kopieren. There\", \"score\": 0.52758485, \"raw_content\": null}, {\"url\": \"https://developer.jboss.org/thread/271146\", \"title\": \"Using HttpHandler class in Undertow - JBoss.org\", \"content\": \"Jun 21, 2016\\u00b7I have found how the implementations are registered and how the handleRequest method can \\\"reject\\\" or send to the next handler, but I cannot find\", \"score\": 0.48850358, \"raw_content\": null}, {\"url\": \"https://jenkov.com/tutorials/undertow/index.html\", \"title\": \"Undertow Web Server Tutorial - Jenkov.com\", \"content\": \"Undertow Undertow * Simple Undertow Handler * Routing Undertow Handler All incoming HTTP requests are forwarded to a Handler which you set on the Undertow server. System.out.println(\\\"Building Undertow server\\\"); ## Simple Undertow Handler Here is a simple Undertow handler which receives a request and sends a simple, hardcoded response back: import io.undertow.server.HttpHandler; import io.undertow.server.HttpServerExchange; import io.undertow.server.HttpHandler; import io.undertow.server.HttpServerExchange; It is possible to send an HTTP 404 URI Not Found error code back to the browser, in case your Undertow service import io.undertow.server.HttpHandler; import io.undertow.server.HttpServerExchange; ## Routing Undertow Handler HTTP requests to the Undertow server. Here is a simple example of an Undertow Handler which looks at the URI of the incoming HTTP request, import io.undertow.server.HttpHandler; import io.undertow.server.HttpServerExchange; import io.undertow.server.HttpHandler; import io.undertow.server.HttpServerExchange;\", \"score\": 0.4709562, \"raw_content\": null}, {\"url\": \"https://github.com/spring-projects/spring-boot/issues/4374\", \"title\": \"Unable to customize Undertow handlers through ... - GitHub\", \"content\": \"So, to add a custom handler, I need to use `UndertowBuilderCustomizer`. changed the title ~~[-]Unable to use customize Undertow configuration through handlers[/-]~~ [+]Unable to customize Undertow handlers through UndertowBuilderCustomizer[/+] on Nov 2, 2015 Basically, I'm looking for a way to \\\"add\\\" a new handler, without sub-classing the original code from Spring Boot. But, since there is a factory class already made available by Spring Boot, I think we just need to be able to add additional handler chain as needed to the builder customizer and have the factory add the additional handler chain as needed. ### spring-projects-issues commented on Mar 29, 2016 ### spring-projects-issues commented on Apr 5, 2016 Unable to customize Undertow handlers through UndertowBuilderCustomizer \\u00b7 Issue #4374 \\u00b7 spring-projects/spring-boot\", \"score\": 0.39312926, \"raw_content\": null}]}\u001b[0m\n",
      "\u001b[33minference> \u001b[0m\u001b[33m\u001b[0m\u001b[33m{\n",
      "\u001b[0m\u001b[33m   \u001b[0m\u001b[33m \"\u001b[0m\u001b[33mthought\u001b[0m\u001b[33m\":\u001b[0m\u001b[33m \"\u001b[0m\u001b[33mThe\u001b[0m\u001b[33m search\u001b[0m\u001b[33m results\u001b[0m\u001b[33m did\u001b[0m\u001b[33m not\u001b[0m\u001b[33m directly\u001b[0m\u001b[33m provide\u001b[0m\u001b[33m a\u001b[0m\u001b[33m solution\u001b[0m\u001b[33m to\u001b[0m\u001b[33m the\u001b[0m\u001b[33m issue\u001b[0m\u001b[33m.\u001b[0m\u001b[33m However\u001b[0m\u001b[33m,\u001b[0m\u001b[33m the\u001b[0m\u001b[33m compilation\u001b[0m\u001b[33m error\u001b[0m\u001b[33m suggests\u001b[0m\u001b[33m that\u001b[0m\u001b[33m the\u001b[0m\u001b[33m '\u001b[0m\u001b[33mset\u001b[0m\u001b[33mHandlers\u001b[0m\u001b[33m'\u001b[0m\u001b[33m method\u001b[0m\u001b[33m is\u001b[0m\u001b[33m not\u001b[0m\u001b[33m available\u001b[0m\u001b[33m in\u001b[0m\u001b[33m the\u001b[0m\u001b[33m Under\u001b[0m\u001b[33mtow\u001b[0m\u001b[33m Builder\u001b[0m\u001b[33m class\u001b[0m\u001b[33m.\u001b[0m\u001b[33m This\u001b[0m\u001b[33m could\u001b[0m\u001b[33m be\u001b[0m\u001b[33m due\u001b[0m\u001b[33m to\u001b[0m\u001b[33m a\u001b[0m\u001b[33m version\u001b[0m\u001b[33m mismatch\u001b[0m\u001b[33m or\u001b[0m\u001b[33m a\u001b[0m\u001b[33m change\u001b[0m\u001b[33m in\u001b[0m\u001b[33m the\u001b[0m\u001b[33m Under\u001b[0m\u001b[33mtow\u001b[0m\u001b[33m API\u001b[0m\u001b[33m.\u001b[0m\u001b[33m I\u001b[0m\u001b[33m will\u001b[0m\u001b[33m now\u001b[0m\u001b[33m create\u001b[0m\u001b[33m a\u001b[0m\u001b[33m Git\u001b[0m\u001b[33mHub\u001b[0m\u001b[33m issue\u001b[0m\u001b[33m with\u001b[0m\u001b[33m a\u001b[0m\u001b[33m summary\u001b[0m\u001b[33m of\u001b[0m\u001b[33m the\u001b[0m\u001b[33m error\u001b[0m\u001b[33m.\",\n",
      "\u001b[0m\u001b[33m   \u001b[0m\u001b[33m \"\u001b[0m\u001b[33maction\u001b[0m\u001b[33m\":\u001b[0m\u001b[33m {\n",
      "\u001b[0m\u001b[33m       \u001b[0m\u001b[33m \"\u001b[0m\u001b[33mtool\u001b[0m\u001b[33m_name\u001b[0m\u001b[33m\":\u001b[0m\u001b[33m \"\u001b[0m\u001b[33mcreate\u001b[0m\u001b[33m_issue\u001b[0m\u001b[33m\",\n",
      "\u001b[0m\u001b[33m       \u001b[0m\u001b[33m \"\u001b[0m\u001b[33mtool\u001b[0m\u001b[33m_params\u001b[0m\u001b[33m\":\u001b[0m\u001b[33m [\n",
      "\u001b[0m\u001b[33m           \u001b[0m\u001b[33m {\n",
      "\u001b[0m\u001b[33m               \u001b[0m\u001b[33m \"\u001b[0m\u001b[33mname\u001b[0m\u001b[33m\":\u001b[0m\u001b[33m \"\u001b[0m\u001b[33mtitle\u001b[0m\u001b[33m\",\n",
      "\u001b[0m\u001b[33m               \u001b[0m\u001b[33m \"\u001b[0m\u001b[33mvalue\u001b[0m\u001b[33m\":\u001b[0m\u001b[33m \"\u001b[0m\u001b[33mIssue\u001b[0m\u001b[33m with\u001b[0m\u001b[33m E\u001b[0m\u001b[33mtx\u001b[0m\u001b[33m pipeline\u001b[0m\u001b[33m\"\n",
      "\u001b[0m\u001b[33m           \u001b[0m\u001b[33m },\n",
      "\u001b[0m\u001b[33m           \u001b[0m\u001b[33m {\n",
      "\u001b[0m\u001b[33m               \u001b[0m\u001b[33m \"\u001b[0m\u001b[33mname\u001b[0m\u001b[33m\":\u001b[0m\u001b[33m \"\u001b[0m\u001b[33mbody\u001b[0m\u001b[33m\",\n",
      "\u001b[0m\u001b[33m               \u001b[0m\u001b[33m \"\u001b[0m\u001b[33mvalue\u001b[0m\u001b[33m\":\u001b[0m\u001b[33m \"\u001b[0m\u001b[33mCompilation\u001b[0m\u001b[33m error\u001b[0m\u001b[33m in\u001b[0m\u001b[33m Java\u001b[0m\u001b[33m application\u001b[0m\u001b[33m due\u001b[0m\u001b[33m to\u001b[0m\u001b[33m missing\u001b[0m\u001b[33m '\u001b[0m\u001b[33mset\u001b[0m\u001b[33mHandlers\u001b[0m\u001b[33m'\u001b[0m\u001b[33m method\u001b[0m\u001b[33m in\u001b[0m\u001b[33m Under\u001b[0m\u001b[33mtow\u001b[0m\u001b[33m Builder\u001b[0m\u001b[33m class\u001b[0m\u001b[33m.\u001b[0m\u001b[33m The\u001b[0m\u001b[33m error\u001b[0m\u001b[33m occurs\u001b[0m\u001b[33m during\u001b[0m\u001b[33m the\u001b[0m\u001b[33m build\u001b[0m\u001b[33m process\u001b[0m\u001b[33m of\u001b[0m\u001b[33m the\u001b[0m\u001b[33m pod\u001b[0m\u001b[33m java\u001b[0m\u001b[33m-app\u001b[0m\u001b[33m-build\u001b[0m\u001b[33m-run\u001b[0m\u001b[33m-b\u001b[0m\u001b[33mad\u001b[0m\u001b[33m-f\u001b[0m\u001b[33mah\u001b[0m\u001b[33mmm\u001b[0m\u001b[33mg\u001b[0m\u001b[33m-build\u001b[0m\u001b[33m-pod\u001b[0m\u001b[33m in\u001b[0m\u001b[33m the\u001b[0m\u001b[33m demo\u001b[0m\u001b[33m-p\u001b[0m\u001b[33mipeline\u001b[0m\u001b[33m namespace\u001b[0m\u001b[33m.\"\n",
      "\u001b[0m\u001b[33m           \u001b[0m\u001b[33m },\n",
      "\u001b[0m\u001b[33m           \u001b[0m\u001b[33m {\n",
      "\u001b[0m\u001b[33m               \u001b[0m\u001b[33m \"\u001b[0m\u001b[33mname\u001b[0m\u001b[33m\":\u001b[0m\u001b[33m \"\u001b[0m\u001b[33mowner\u001b[0m\u001b[33m\",\n",
      "\u001b[0m\u001b[33m               \u001b[0m\u001b[33m \"\u001b[0m\u001b[33mvalue\u001b[0m\u001b[33m\":\u001b[0m\u001b[33m \"\u001b[0m\u001b[33msk\u001b[0m\u001b[33mouss\u001b[0m\u001b[33mou\u001b[0m\u001b[33m\"\n",
      "\u001b[0m\u001b[33m           \u001b[0m\u001b[33m },\n",
      "\u001b[0m\u001b[33m           \u001b[0m\u001b[33m {\n",
      "\u001b[0m\u001b[33m               \u001b[0m\u001b[33m \"\u001b[0m\u001b[33mname\u001b[0m\u001b[33m\":\u001b[0m\u001b[33m \"\u001b[0m\u001b[33mrepo\u001b[0m\u001b[33m\",\n",
      "\u001b[0m\u001b[33m               \u001b[0m\u001b[33m \"\u001b[0m\u001b[33mvalue\u001b[0m\u001b[33m\":\u001b[0m\u001b[33m \"\u001b[0m\u001b[33met\u001b[0m\u001b[33mx\u001b[0m\u001b[33m-ag\u001b[0m\u001b[33mentic\u001b[0m\u001b[33m-ai\u001b[0m\u001b[33m\"\n",
      "\u001b[0m\u001b[33m           \u001b[0m\u001b[33m }\n",
      "\u001b[0m\u001b[33m       \u001b[0m\u001b[33m ]\n",
      "\u001b[0m\u001b[33m   \u001b[0m\u001b[33m },\n",
      "\u001b[0m\u001b[33m   \u001b[0m\u001b[33m \"\u001b[0m\u001b[33manswer\u001b[0m\u001b[33m\":\u001b[0m\u001b[33m null\u001b[0m\u001b[33m\n",
      "\u001b[0m\u001b[33m}\u001b[0m\u001b[97m\u001b[0m\n",
      "\u001b[32mtool_execution> Tool:create_issue Response:[TextContentItem(text='{\"id\":3402529252,\"number\":5,\"state\":\"open\",\"locked\":false,\"title\":\"Issue with Etx pipeline\",\"body\":\"Compilation error in Java application due to missing \\'setHandlers\\' method in Undertow Builder class. The error occurs during the build process of the pod java-app-build-run-bad-fahmmg-build-pod in the demo-pipeline namespace.\",\"author_association\":\"OWNER\",\"user\":{\"login\":\"skoussou\",\"id\":667158,\"node_id\":\"MDQ6VXNlcjY2NzE1OA==\",\"avatar_url\":\"https://avatars.githubusercontent.com/u/667158?v=4\",\"html_url\":\"https://github.com/skoussou\",\"gravatar_id\":\"\",\"type\":\"User\",\"site_admin\":false,\"url\":\"https://api.github.com/users/skoussou\",\"events_url\":\"https://api.github.com/users/skoussou/events{/privacy}\",\"following_url\":\"https://api.github.com/users/skoussou/following{/other_user}\",\"followers_url\":\"https://api.github.com/users/skoussou/followers\",\"gists_url\":\"https://api.github.com/users/skoussou/gists{/gist_id}\",\"organizations_url\":\"https://api.github.com/users/skoussou/orgs\",\"received_events_url\":\"https://api.github.com/users/skoussou/received_events\",\"repos_url\":\"https://api.github.com/users/skoussou/repos\",\"starred_url\":\"https://api.github.com/users/skoussou/starred{/owner}{/repo}\",\"subscriptions_url\":\"https://api.github.com/users/skoussou/subscriptions\"},\"comments\":0,\"created_at\":\"2025-09-10T13:36:49Z\",\"updated_at\":\"2025-09-10T13:36:49Z\",\"url\":\"https://api.github.com/repos/skoussou/etx-agentic-ai/issues/5\",\"html_url\":\"https://github.com/skoussou/etx-agentic-ai/issues/5\",\"comments_url\":\"https://api.github.com/repos/skoussou/etx-agentic-ai/issues/5/comments\",\"events_url\":\"https://api.github.com/repos/skoussou/etx-agentic-ai/issues/5/events\",\"labels_url\":\"https://api.github.com/repos/skoussou/etx-agentic-ai/issues/5/labels{/name}\",\"repository_url\":\"https://api.github.com/repos/skoussou/etx-agentic-ai\",\"reactions\":{\"total_count\":0,\"+1\":0,\"-1\":0,\"laugh\":0,\"confused\":0,\"heart\":0,\"hooray\":0,\"rocket\":0,\"eyes\":0,\"url\":\"https://api.github.com/repos/skoussou/etx-agentic-ai/issues/5/reactions\"},\"node_id\":\"I_kwDOPstais7Kznnk\"}', type='text')]\u001b[0m\n",
      "\u001b[33minference> \u001b[0m\u001b[33m\u001b[0m\u001b[33m{\n",
      "\u001b[0m\u001b[33m   \u001b[0m\u001b[33m \"\u001b[0m\u001b[33mthought\u001b[0m\u001b[33m\":\u001b[0m\u001b[33m \"\u001b[0m\u001b[33mI\u001b[0m\u001b[33m have\u001b[0m\u001b[33m successfully\u001b[0m\u001b[33m created\u001b[0m\u001b[33m a\u001b[0m\u001b[33m Git\u001b[0m\u001b[33mHub\u001b[0m\u001b[33m issue\u001b[0m\u001b[33m with\u001b[0m\u001b[33m a\u001b[0m\u001b[33m summary\u001b[0m\u001b[33m of\u001b[0m\u001b[33m the\u001b[0m\u001b[33m error\u001b[0m\u001b[33m.\u001b[0m\u001b[33m The\u001b[0m\u001b[33m issue\u001b[0m\u001b[33m is\u001b[0m\u001b[33m now\u001b[0m\u001b[33m tracked\u001b[0m\u001b[33m,\u001b[0m\u001b[33m and\u001b[0m\u001b[33m further\u001b[0m\u001b[33m investigation\u001b[0m\u001b[33m or\u001b[0m\u001b[33m fixes\u001b[0m\u001b[33m can\u001b[0m\u001b[33m be\u001b[0m\u001b[33m documented\u001b[0m\u001b[33m in\u001b[0m\u001b[33m the\u001b[0m\u001b[33m issue\u001b[0m\u001b[33m comments\u001b[0m\u001b[33m.\",\n",
      "\u001b[0m\u001b[33m   \u001b[0m\u001b[33m \"\u001b[0m\u001b[33maction\u001b[0m\u001b[33m\":\u001b[0m\u001b[33m null\u001b[0m\u001b[33m,\n",
      "\u001b[0m\u001b[33m   \u001b[0m\u001b[33m \"\u001b[0m\u001b[33manswer\u001b[0m\u001b[33m\":\u001b[0m\u001b[33m \"{\\\"\u001b[0m\u001b[33mid\u001b[0m\u001b[33m\\\":\u001b[0m\u001b[33m340\u001b[0m\u001b[33m252\u001b[0m\u001b[33m925\u001b[0m\u001b[33m2\u001b[0m\u001b[33m,\\\"\u001b[0m\u001b[33mnumber\u001b[0m\u001b[33m\\\":\u001b[0m\u001b[33m5\u001b[0m\u001b[33m,\\\"\u001b[0m\u001b[33mstate\u001b[0m\u001b[33m\\\":\\\"\u001b[0m\u001b[33mopen\u001b[0m\u001b[33m\\\",\\\"\u001b[0m\u001b[33mlocked\u001b[0m\u001b[33m\\\":\u001b[0m\u001b[33mfalse\u001b[0m\u001b[33m,\\\"\u001b[0m\u001b[33mtitle\u001b[0m\u001b[33m\\\":\\\"\u001b[0m\u001b[33mIssue\u001b[0m\u001b[33m with\u001b[0m\u001b[33m E\u001b[0m\u001b[33mtx\u001b[0m\u001b[33m pipeline\u001b[0m\u001b[33m\\\",\\\"\u001b[0m\u001b[33mbody\u001b[0m\u001b[33m\\\":\\\"\u001b[0m\u001b[33mCompilation\u001b[0m\u001b[33m error\u001b[0m\u001b[33m in\u001b[0m\u001b[33m Java\u001b[0m\u001b[33m application\u001b[0m\u001b[33m due\u001b[0m\u001b[33m to\u001b[0m\u001b[33m missing\u001b[0m\u001b[33m '\u001b[0m\u001b[33mset\u001b[0m\u001b[33mHandlers\u001b[0m\u001b[33m'\u001b[0m\u001b[33m method\u001b[0m\u001b[33m in\u001b[0m\u001b[33m Under\u001b[0m\u001b[33mtow\u001b[0m\u001b[33m Builder\u001b[0m\u001b[33m class\u001b[0m\u001b[33m.\u001b[0m\u001b[33m The\u001b[0m\u001b[33m error\u001b[0m\u001b[33m occurs\u001b[0m\u001b[33m during\u001b[0m\u001b[33m the\u001b[0m\u001b[33m build\u001b[0m\u001b[33m process\u001b[0m\u001b[33m of\u001b[0m\u001b[33m the\u001b[0m\u001b[33m pod\u001b[0m\u001b[33m java\u001b[0m\u001b[33m-app\u001b[0m\u001b[33m-build\u001b[0m\u001b[33m-run\u001b[0m\u001b[33m-b\u001b[0m\u001b[33mad\u001b[0m\u001b[33m-f\u001b[0m\u001b[33mah\u001b[0m\u001b[33mmm\u001b[0m\u001b[33mg\u001b[0m\u001b[33m-build\u001b[0m\u001b[33m-pod\u001b[0m\u001b[33m in\u001b[0m\u001b[33m the\u001b[0m\u001b[33m demo\u001b[0m\u001b[33m-p\u001b[0m\u001b[33mipeline\u001b[0m\u001b[33m namespace\u001b[0m\u001b[33m.\\\u001b[0m\u001b[33m\",\u001b[0m\u001b[33m\\\"\u001b[0m\u001b[33mauthor\u001b[0m\u001b[33m_ass\u001b[0m\u001b[33mociation\u001b[0m\u001b[33m\\\":\\\"\u001b[0m\u001b[33mOWNER\u001b[0m\u001b[33m\\\",\\\"\u001b[0m\u001b[33muser\u001b[0m\u001b[33m\\\":{\\\"\u001b[0m\u001b[33mlogin\u001b[0m\u001b[33m\\\":\\\"\u001b[0m\u001b[33msk\u001b[0m\u001b[33mouss\u001b[0m\u001b[33mou\u001b[0m\u001b[33m\\\",\\\"\u001b[0m\u001b[33mid\u001b[0m\u001b[33m\\\":\u001b[0m\u001b[33m667\u001b[0m\u001b[33m158\u001b[0m\u001b[33m,\\\"\u001b[0m\u001b[33mnode\u001b[0m\u001b[33m_id\u001b[0m\u001b[33m\\\":\\\"\u001b[0m\u001b[33mMD\u001b[0m\u001b[33mQ\u001b[0m\u001b[33m6\u001b[0m\u001b[33mVX\u001b[0m\u001b[33mN\u001b[0m\u001b[33mlc\u001b[0m\u001b[33mj\u001b[0m\u001b[33mY\u001b[0m\u001b[33m2\u001b[0m\u001b[33mNz\u001b[0m\u001b[33mE\u001b[0m\u001b[33m1\u001b[0m\u001b[33mOA\u001b[0m\u001b[33m==\u001b[0m\u001b[33m\\\",\\\"\u001b[0m\u001b[33mavatar\u001b[0m\u001b[33m_url\u001b[0m\u001b[33m\\\":\\\"\u001b[0m\u001b[33mhttps\u001b[0m\u001b[33m://\u001b[0m\u001b[33mavatars\u001b[0m\u001b[33m.githubusercontent\u001b[0m\u001b[33m.com\u001b[0m\u001b[33m/u\u001b[0m\u001b[33m/\u001b[0m\u001b[33m667\u001b[0m\u001b[33m158\u001b[0m\u001b[33m?v\u001b[0m\u001b[33m=\u001b[0m\u001b[33m4\u001b[0m\u001b[33m\\\",\\\"\u001b[0m\u001b[33mhtml\u001b[0m\u001b[33m_url\u001b[0m\u001b[33m\\\":\\\"\u001b[0m\u001b[33mhttps\u001b[0m\u001b[33m://\u001b[0m\u001b[33mgithub\u001b[0m\u001b[33m.com\u001b[0m\u001b[33m/sk\u001b[0m\u001b[33mouss\u001b[0m\u001b[33mou\u001b[0m\u001b[33m\\\",\\\"\u001b[0m\u001b[33mgrav\u001b[0m\u001b[33matar\u001b[0m\u001b[33m_id\u001b[0m\u001b[33m\\\":\\\"\u001b[0m\u001b[33m\\\",\\\"\u001b[0m\u001b[33mtype\u001b[0m\u001b[33m\\\":\\\"\u001b[0m\u001b[33mUser\u001b[0m\u001b[33m\\\",\\\"\u001b[0m\u001b[33msite\u001b[0m\u001b[33m_admin\u001b[0m\u001b[33m\\\":\u001b[0m\u001b[33mfalse\u001b[0m\u001b[33m,\\\"\u001b[0m\u001b[33murl\u001b[0m\u001b[33m\\\":\\\"\u001b[0m\u001b[33mhttps\u001b[0m\u001b[33m://\u001b[0m\u001b[33mapi\u001b[0m\u001b[33m.github\u001b[0m\u001b[33m.com\u001b[0m\u001b[33m/users\u001b[0m\u001b[33m/sk\u001b[0m\u001b[33mouss\u001b[0m\u001b[33mou\u001b[0m\u001b[33m\\\",\\\"\u001b[0m\u001b[33mevents\u001b[0m\u001b[33m_url\u001b[0m\u001b[33m\\\":\\\"\u001b[0m\u001b[33mhttps\u001b[0m\u001b[33m://\u001b[0m\u001b[33mapi\u001b[0m\u001b[33m.github\u001b[0m\u001b[33m.com\u001b[0m\u001b[33m/users\u001b[0m\u001b[33m/sk\u001b[0m\u001b[33mouss\u001b[0m\u001b[33mou\u001b[0m\u001b[33m/events\u001b[0m\u001b[33m{/\u001b[0m\u001b[33mprivacy\u001b[0m\u001b[33m}\\\u001b[0m\u001b[33m\",\u001b[0m\u001b[33m\\\"\u001b[0m\u001b[33mfollowing\u001b[0m\u001b[33m_url\u001b[0m\u001b[33m\\\":\\\"\u001b[0m\u001b[33mhttps\u001b[0m\u001b[33m://\u001b[0m\u001b[33mapi\u001b[0m\u001b[33m.github\u001b[0m\u001b[33m.com\u001b[0m\u001b[33m/users\u001b[0m\u001b[33m/sk\u001b[0m\u001b[33mouss\u001b[0m\u001b[33mou\u001b[0m\u001b[33m/f\u001b[0m\u001b[33mollowing\u001b[0m\u001b[33m{/\u001b[0m\u001b[33mother\u001b[0m\u001b[33m_user\u001b[0m\u001b[33m}\\\u001b[0m\u001b[33m\",\u001b[0m\u001b[33m\\\"\u001b[0m\u001b[33mfollow\u001b[0m\u001b[33mers\u001b[0m\u001b[33m_url\u001b[0m\u001b[33m\\\":\\\"\u001b[0m\u001b[33mhttps\u001b[0m\u001b[33m://\u001b[0m\u001b[33mapi\u001b[0m\u001b[33m.github\u001b[0m\u001b[33m.com\u001b[0m\u001b[33m/users\u001b[0m\u001b[33m/sk\u001b[0m\u001b[33mouss\u001b[0m\u001b[33mou\u001b[0m\u001b[33m/f\u001b[0m\u001b[33mollow\u001b[0m\u001b[33mers\u001b[0m\u001b[33m\\\",\\\"\u001b[0m\u001b[33mg\u001b[0m\u001b[33mists\u001b[0m\u001b[33m_url\u001b[0m\u001b[33m\\\":\\\"\u001b[0m\u001b[33mhttps\u001b[0m\u001b[33m://\u001b[0m\u001b[33mapi\u001b[0m\u001b[33m.github\u001b[0m\u001b[33m.com\u001b[0m\u001b[33m/users\u001b[0m\u001b[33m/sk\u001b[0m\u001b[33mouss\u001b[0m\u001b[33mou\u001b[0m\u001b[33m/g\u001b[0m\u001b[33mists\u001b[0m\u001b[33m{/\u001b[0m\u001b[33mgist\u001b[0m\u001b[33m_id\u001b[0m\u001b[33m}\\\u001b[0m\u001b[33m\",\u001b[0m\u001b[33m\\\"\u001b[0m\u001b[33morganizations\u001b[0m\u001b[33m_url\u001b[0m\u001b[33m\\\":\\\"\u001b[0m\u001b[33mhttps\u001b[0m\u001b[33m://\u001b[0m\u001b[33mapi\u001b[0m\u001b[33m.github\u001b[0m\u001b[33m.com\u001b[0m\u001b[33m/users\u001b[0m\u001b[33m/sk\u001b[0m\u001b[33mouss\u001b[0m\u001b[33mou\u001b[0m\u001b[33m/org\u001b[0m\u001b[33ms\u001b[0m\u001b[33m\\\",\\\"\u001b[0m\u001b[33mreceived\u001b[0m\u001b[33m_events\u001b[0m\u001b[33m_url\u001b[0m\u001b[33m\\\":\\\"\u001b[0m\u001b[33mhttps\u001b[0m\u001b[33m://\u001b[0m\u001b[33mapi\u001b[0m\u001b[33m.github\u001b[0m\u001b[33m.com\u001b[0m\u001b[33m/users\u001b[0m\u001b[33m/sk\u001b[0m\u001b[33mouss\u001b[0m\u001b[33mou\u001b[0m\u001b[33m/re\u001b[0m\u001b[33mceived\u001b[0m\u001b[33m_events\u001b[0m\u001b[33m\\\",\\\"\u001b[0m\u001b[33mrepos\u001b[0m\u001b[33m_url\u001b[0m\u001b[33m\\\":\\\"\u001b[0m\u001b[33mhttps\u001b[0m\u001b[33m://\u001b[0m\u001b[33mapi\u001b[0m\u001b[33m.github\u001b[0m\u001b[33m.com\u001b[0m\u001b[33m/users\u001b[0m\u001b[33m/sk\u001b[0m\u001b[33mouss\u001b[0m\u001b[33mou\u001b[0m\u001b[33m/repos\u001b[0m\u001b[33m\\\",\\\"\u001b[0m\u001b[33mstar\u001b[0m\u001b[33mred\u001b[0m\u001b[33m_url\u001b[0m\u001b[33m\\\":\\\"\u001b[0m\u001b[33mhttps\u001b[0m\u001b[33m://\u001b[0m\u001b[33mapi\u001b[0m\u001b[33m.github\u001b[0m\u001b[33m.com\u001b[0m\u001b[33m/users\u001b[0m\u001b[33m/sk\u001b[0m\u001b[33mouss\u001b[0m\u001b[33mou\u001b[0m\u001b[33m/star\u001b[0m\u001b[33mred\u001b[0m\u001b[33m{/\u001b[0m\u001b[33mowner\u001b[0m\u001b[33m}{\u001b[0m\u001b[33m/\u001b[0m\u001b[33mrepo\u001b[0m\u001b[33m}\\\u001b[0m\u001b[33m\",\u001b[0m\u001b[33m\\\"\u001b[0m\u001b[33msubscriptions\u001b[0m\u001b[33m_url\u001b[0m\u001b[33m\\\":\\\"\u001b[0m\u001b[33mhttps\u001b[0m\u001b[33m://\u001b[0m\u001b[33mapi\u001b[0m\u001b[33m.github\u001b[0m\u001b[33m.com\u001b[0m\u001b[33m/users\u001b[0m\u001b[33m/sk\u001b[0m\u001b[33mouss\u001b[0m\u001b[33mou\u001b[0m\u001b[33m/sub\u001b[0m\u001b[33mscriptions\u001b[0m\u001b[33m\\\"\u001b[0m\u001b[33m},\u001b[0m\u001b[33m\\\"\u001b[0m\u001b[33mcomments\u001b[0m\u001b[33m\\\":\u001b[0m\u001b[33m0\u001b[0m\u001b[33m,\\\"\u001b[0m\u001b[33mcreated\u001b[0m\u001b[33m_at\u001b[0m\u001b[33m\\\":\\\"\u001b[0m\u001b[33m202\u001b[0m\u001b[33m5\u001b[0m\u001b[33m-\u001b[0m\u001b[33m09\u001b[0m\u001b[33m-\u001b[0m\u001b[33m10\u001b[0m\u001b[33mT\u001b[0m\u001b[33m13\u001b[0m\u001b[33m:\u001b[0m\u001b[33m36\u001b[0m\u001b[33m:\u001b[0m\u001b[33m49\u001b[0m\u001b[33mZ\u001b[0m\u001b[33m\\\",\\\"\u001b[0m\u001b[33mupdated\u001b[0m\u001b[33m_at\u001b[0m\u001b[33m\\\":\\\"\u001b[0m\u001b[33m202\u001b[0m\u001b[33m5\u001b[0m\u001b[33m-\u001b[0m\u001b[33m09\u001b[0m\u001b[33m-\u001b[0m\u001b[33m10\u001b[0m\u001b[33mT\u001b[0m\u001b[33m13\u001b[0m\u001b[33m:\u001b[0m\u001b[33m36\u001b[0m\u001b[33m:\u001b[0m\u001b[33m49\u001b[0m\u001b[33mZ\u001b[0m\u001b[33m\\\",\\\"\u001b[0m\u001b[33murl\u001b[0m\u001b[33m\\\":\\\"\u001b[0m\u001b[33mhttps\u001b[0m\u001b[33m://\u001b[0m\u001b[33mapi\u001b[0m\u001b[33m.github\u001b[0m\u001b[33m.com\u001b[0m\u001b[33m/repos\u001b[0m\u001b[33m/sk\u001b[0m\u001b[33mouss\u001b[0m\u001b[33mou\u001b[0m\u001b[33m/et\u001b[0m\u001b[33mx\u001b[0m\u001b[33m-ag\u001b[0m\u001b[33mentic\u001b[0m\u001b[33m-ai\u001b[0m\u001b[33m/issues\u001b[0m\u001b[33m/\u001b[0m\u001b[33m5\u001b[0m\u001b[33m\\\",\\\"\u001b[0m\u001b[33mhtml\u001b[0m\u001b[33m_url\u001b[0m\u001b[33m\\\":\\\"\u001b[0m\u001b[33mhttps\u001b[0m\u001b[33m://\u001b[0m\u001b[33mgithub\u001b[0m\u001b[33m.com\u001b[0m\u001b[33m/sk\u001b[0m\u001b[33mouss\u001b[0m\u001b[33mou\u001b[0m\u001b[33m/et\u001b[0m\u001b[33mx\u001b[0m\u001b[33m-ag\u001b[0m\u001b[33mentic\u001b[0m\u001b[33m-ai\u001b[0m\u001b[33m/issues\u001b[0m\u001b[33m/\u001b[0m\u001b[33m5\u001b[0m\u001b[33m\\\",\\\"\u001b[0m\u001b[33mcomments\u001b[0m\u001b[33m_url\u001b[0m\u001b[33m\\\":\\\"\u001b[0m\u001b[33mhttps\u001b[0m\u001b[33m://\u001b[0m\u001b[33mapi\u001b[0m\u001b[33m.github\u001b[0m\u001b[33m.com\u001b[0m\u001b[33m/repos\u001b[0m\u001b[33m/sk\u001b[0m\u001b[33mouss\u001b[0m\u001b[33mou\u001b[0m\u001b[33m/et\u001b[0m\u001b[33mx\u001b[0m\u001b[33m-ag\u001b[0m\u001b[33mentic\u001b[0m\u001b[33m-ai\u001b[0m\u001b[33m/issues\u001b[0m\u001b[33m/\u001b[0m\u001b[33m5\u001b[0m\u001b[33m/comments\u001b[0m\u001b[33m\\\",\\\"\u001b[0m\u001b[33mevents\u001b[0m\u001b[33m_url\u001b[0m\u001b[33m\\\":\\\"\u001b[0m\u001b[33mhttps\u001b[0m\u001b[33m://\u001b[0m\u001b[33mapi\u001b[0m\u001b[33m.github\u001b[0m\u001b[33m.com\u001b[0m\u001b[33m/repos\u001b[0m\u001b[33m/sk\u001b[0m\u001b[33mouss\u001b[0m\u001b[33mou\u001b[0m\u001b[33m/et\u001b[0m\u001b[33mx\u001b[0m\u001b[33m-ag\u001b[0m\u001b[33mentic\u001b[0m\u001b[33m-ai\u001b[0m\u001b[33m/issues\u001b[0m\u001b[33m/\u001b[0m\u001b[33m5\u001b[0m\u001b[33m/events\u001b[0m\u001b[33m\\\",\\\"\u001b[0m\u001b[33mlabels\u001b[0m\u001b[33m_url\u001b[0m\u001b[33m\\\":\\\"\u001b[0m\u001b[33mhttps\u001b[0m\u001b[33m://\u001b[0m\u001b[33mapi\u001b[0m\u001b[33m.github\u001b[0m\u001b[33m.com\u001b[0m\u001b[33m/repos\u001b[0m\u001b[33m/sk\u001b[0m\u001b[33mouss\u001b[0m\u001b[33mou\u001b[0m\u001b[33m/et\u001b[0m\u001b[33mx\u001b[0m\u001b[33m-ag\u001b[0m\u001b[33mentic\u001b[0m\u001b[33m-ai\u001b[0m\u001b[33m/issues\u001b[0m\u001b[33m/\u001b[0m\u001b[33m5\u001b[0m\u001b[33m/label\u001b[0m\u001b[33ms\u001b[0m\u001b[33m{/\u001b[0m\u001b[33mname\u001b[0m\u001b[33m}\\\u001b[0m\u001b[33m\",\u001b[0m\u001b[33m\\\"\u001b[0m\u001b[33mrepository\u001b[0m\u001b[33m_url\u001b[0m\u001b[33m\\\":\\\"\u001b[0m\u001b[33mhttps\u001b[0m\u001b[33m://\u001b[0m\u001b[33mapi\u001b[0m\u001b[33m.github\u001b[0m\u001b[33m.com\u001b[0m\u001b[33m/repos\u001b[0m\u001b[33m/sk\u001b[0m\u001b[33mouss\u001b[0m\u001b[33mou\u001b[0m\u001b[33m/et\u001b[0m\u001b[33mx\u001b[0m\u001b[33m-ag\u001b[0m\u001b[33mentic\u001b[0m\u001b[33m-ai\u001b[0m\u001b[33m\\\",\\\"\u001b[0m\u001b[33mrea\u001b[0m\u001b[33mctions\u001b[0m\u001b[33m\\\":{\\\"\u001b[0m\u001b[33mtotal\u001b[0m\u001b[33m_count\u001b[0m\u001b[33m\\\":\u001b[0m\u001b[33m0\u001b[0m\u001b[33m,\\\"\u001b[0m\u001b[33m+\u001b[0m\u001b[33m1\u001b[0m\u001b[33m\\\":\u001b[0m\u001b[33m0\u001b[0m\u001b[33m,\\\"\u001b[0m\u001b[33m-\u001b[0m\u001b[33m1\u001b[0m\u001b[33m\\\":\u001b[0m\u001b[33m0\u001b[0m\u001b[33m,\\\"\u001b[0m\u001b[33mla\u001b[0m\u001b[33mugh\u001b[0m\u001b[33m\\\":\u001b[0m\u001b[33m0\u001b[0m\u001b[33m,\\\"\u001b[0m\u001b[33mconf\u001b[0m\u001b[33mused\u001b[0m\u001b[33m\\\":\u001b[0m\u001b[33m0\u001b[0m\u001b[33m,\\\"\u001b[0m\u001b[33mheart\u001b[0m\u001b[33m\\\":\u001b[0m\u001b[33m0\u001b[0m\u001b[33m,\\\"\u001b[0m\u001b[33mho\u001b[0m\u001b[33mor\u001b[0m\u001b[33may\u001b[0m\u001b[33m\\\":\u001b[0m\u001b[33m0\u001b[0m\u001b[33m,\\\"\u001b[0m\u001b[33mrocket\u001b[0m\u001b[33m\\\":\u001b[0m\u001b[33m0\u001b[0m\u001b[33m,\\\"\u001b[0m\u001b[33meyes\u001b[0m\u001b[33m\\\":\u001b[0m\u001b[33m0\u001b[0m\u001b[33m,\\\"\u001b[0m\u001b[33murl\u001b[0m\u001b[33m\\\":\\\"\u001b[0m\u001b[33mhttps\u001b[0m\u001b[33m://\u001b[0m\u001b[33mapi\u001b[0m\u001b[33m.github\u001b[0m\u001b[33m.com\u001b[0m\u001b[33m/repos\u001b[0m\u001b[33m/sk\u001b[0m\u001b[33mouss\u001b[0m\u001b[33mou\u001b[0m\u001b[33m/et\u001b[0m\u001b[33mx\u001b[0m\u001b[33m-ag\u001b[0m\u001b[33mentic\u001b[0m\u001b[33m-ai\u001b[0m\u001b[33m/issues\u001b[0m\u001b[33m/\u001b[0m\u001b[33m5\u001b[0m\u001b[33m/\u001b[0m\u001b[33mrea\u001b[0m\u001b[33mctions\u001b[0m\u001b[33m\\\"\u001b[0m\u001b[33m},\u001b[0m\u001b[33m\\\"\u001b[0m\u001b[33mnode\u001b[0m\u001b[33m_id\u001b[0m\u001b[33m\\\":\\\"\u001b[0m\u001b[33mI\u001b[0m\u001b[33m_kw\u001b[0m\u001b[33mD\u001b[0m\u001b[33mOP\u001b[0m\u001b[33mst\u001b[0m\u001b[33mais\u001b[0m\u001b[33m7\u001b[0m\u001b[33mK\u001b[0m\u001b[33mzn\u001b[0m\u001b[33mnk\u001b[0m\u001b[33m\\\"\u001b[0m\u001b[33m}\"\n",
      "\u001b[0m\u001b[33m}\u001b[0m\u001b[97m\u001b[0m\n",
      "\u001b[30m\u001b[0m"
     ]
    }
   ],
   "source": [
    "full_react_agent = ReActAgent(\n",
    "    client=client,\n",
    "    model=model_id,\n",
    "    tools=[\"mcp::openshift\", \"builtin::websearch\", 'mcp::github'],\n",
    "    response_format={\n",
    "        \"type\": \"json_schema\",\n",
    "        \"json_schema\": ReActOutput.model_json_schema(),\n",
    "    },\n",
    "    sampling_params=sampling_params,\n",
    ")\n",
    "\n",
    "user_prompts = [\n",
    "    \"You are an expert OpenShift administrator. Your task is to analyze pod logs,\"\n",
    "    \" summarize the error, and generate a JSON object to create a GitHub issue for tracking.\"\n",
    "    f\" There's a pod '{pod_name}' in namespace '{namespace}' with a container '{container_name}'\"\n",
    "    f\" that's been failing. Review its logs.\"\n",
    "    \" If the logs indicate an error, do a web search to find out why it's been failing,\"\n",
    "    \" using the logs as the 'query' tool parameter name.\" \n",
    "    \" Create a summary message with the category and explanation of the error,\"\n",
    "    ' create a Github issue using {\"name\":\"create_issue\",\"arguments\":'\n",
    "    ' {\"owner\":\"skoussou\",\"repo\":\"etx-agentic-ai\",'\n",
    "    ' \"title\":\"Issue with Etx pipeline\",\"body\":\"summary of the error\"}}}.'\n",
    "    ' DO NOT add \"assignees\" or any other optional parameters.'\n",
    "]\n",
    "run_session(full_react_agent, 'mcp-session', user_prompts)"
   ]
  },
  {
   "cell_type": "markdown",
   "id": "21107605-41d7-4f30-927f-129279b5045e",
   "metadata": {},
   "source": [
    "### Output Analysis\n",
    "\n",
    "1. First the LLM generated a tool call for the `pods_log` tool included in the **OpenShift MCP server** and fetched the logs for the specified pod. It might at first confuse the name-value order within the tool parameters, but it iterates to generate a correct prompt.\n",
    "2. The tool successfully retrieved the logs for the pod.\n",
    "3. The LLM  then received the logs from the tool call, along with the original query.\n",
    "4. This context was then passed back to the LLM for the final inference. The inference result provided a summary of the pod logs.\n",
    "5. Next the LLM generates a tool call for the `web_search` tool looking for the top answer to the error.\n",
    "6. A final tool call is executed against the **Github MCP server**--using the format provided within the prompt--in order to document the build failure along with troubleshooting information within a new Github issue."
   ]
  },
  {
   "cell_type": "code",
   "execution_count": 34,
   "id": "909e406f-8e1c-415f-abd2-db31cb472b01",
   "metadata": {},
   "outputs": [
    {
     "data": {
      "text/html": [
       "<pre style=\"white-space:pre;overflow-x:auto;line-height:normal;font-family:Menlo,'DejaVu Sans Mono',consolas,'Courier New',monospace\">Saved artifacts/agent_run_report.json\n",
       "</pre>\n"
      ],
      "text/plain": [
       "Saved artifacts/agent_run_report.json\n"
      ]
     },
     "metadata": {},
     "output_type": "display_data"
    }
   ],
   "source": [
    "import json, pathlib, time\n",
    "from os import environ\n",
    "\n",
    "report = {\n",
    "    \"timestamp\": int(time.time()),\n",
    "    \"model\": environ.get(\"LLM_MODEL_ID\"),\n",
    "    \"endpoint\": environ.get(\"LLAMA_STACK_URL\"),\n",
    "    \"sampling_params\": {\n",
    "        \"temperature\": environ.get(\"TEMPERATURE\"),\n",
    "        \"max_tokens\": environ.get(\"MAX_TOKENS\"),\n",
    "    },\n",
    "    \"task\": \"<your final user task>\",\n",
    "    \"final_answer\": \"<paste the agent’s final answer or summary>\",\n",
    "}\n",
    "pathlib.Path(\"artifacts\").mkdir(exist_ok=True)\n",
    "with open(\"artifacts/agent_run_report.json\", \"w\") as f:\n",
    "    json.dump(report, f, indent=2)\n",
    "print(\"Saved artifacts/agent_run_report.json\")"
   ]
  },
  {
   "cell_type": "code",
   "execution_count": null,
   "id": "19c6b2ef-b424-4ced-abc1-d8b211ebbe54",
   "metadata": {},
   "outputs": [],
   "source": []
  }
 ],
 "metadata": {
  "kernelspec": {
   "display_name": "Python 3.11",
   "language": "python",
   "name": "python3"
  },
  "language_info": {
   "codemirror_mode": {
    "name": "ipython",
    "version": 3
   },
   "file_extension": ".py",
   "mimetype": "text/x-python",
   "name": "python",
   "nbconvert_exporter": "python",
   "pygments_lexer": "ipython3",
   "version": "3.11.11"
  }
 },
 "nbformat": 4,
 "nbformat_minor": 5
}
